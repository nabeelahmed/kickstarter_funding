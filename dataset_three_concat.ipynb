{
 "cells": [
  {
   "cell_type": "markdown",
   "metadata": {},
   "source": [
    "Multiple new data files.\n",
    "Concat them:"
   ]
  },
  {
   "cell_type": "code",
   "execution_count": 2,
   "metadata": {
    "collapsed": false
   },
   "outputs": [
    {
     "name": "stdout",
     "output_type": "stream",
     "text": [
      "Kickstarter001.csv\n",
      "Kickstarter002.csv\n",
      "Kickstarter003.csv\n",
      "Kickstarter004.csv\n",
      "Kickstarter005.csv\n",
      "Kickstarter006.csv\n",
      "Kickstarter007.csv\n",
      "Kickstarter008.csv\n",
      "Kickstarter009.csv\n",
      "Kickstarter010.csv\n",
      "Kickstarter011.csv\n",
      "Kickstarter012.csv\n",
      "Kickstarter013.csv\n",
      "Kickstarter014.csv\n",
      "Kickstarter015.csv\n",
      "Kickstarter016.csv\n",
      "Kickstarter017.csv\n",
      "Kickstarter018.csv\n",
      "Kickstarter019.csv\n",
      "Kickstarter020.csv\n",
      "Kickstarter021.csv\n",
      "Kickstarter022.csv\n",
      "Kickstarter023.csv\n",
      "Kickstarter024.csv\n",
      "Kickstarter025.csv\n",
      "Kickstarter026.csv\n",
      "Kickstarter027.csv\n",
      "Kickstarter028.csv\n",
      "Kickstarter029.csv\n",
      "Kickstarter030.csv\n",
      "Kickstarter031.csv\n",
      "Kickstarter032.csv\n",
      "Kickstarter033.csv\n",
      "Kickstarter034.csv\n",
      "Kickstarter035.csv\n",
      "Kickstarter036.csv\n",
      "Kickstarter037.csv\n",
      "Kickstarter038.csv\n",
      "Kickstarter039.csv\n",
      "Kickstarter040.csv\n",
      "Kickstarter041.csv\n",
      "Kickstarter.csv\n",
      "\n"
     ]
    }
   ],
   "source": [
    "from subprocess import check_output\n",
    "print(check_output([\"ls\", \"new_data\"]).decode(\"utf8\"))"
   ]
  },
  {
   "cell_type": "code",
   "execution_count": 3,
   "metadata": {
    "collapsed": false
   },
   "outputs": [],
   "source": [
    "import glob\n",
    "import os\n",
    "\n",
    "path = r'new_data/'                     # use your path\n",
    "all_files = glob.glob(os.path.join(path, \"*.csv\"))     # advisable to use os.path.join as this makes concatenation OS independent\n"
   ]
  },
  {
   "cell_type": "code",
   "execution_count": 4,
   "metadata": {
    "collapsed": false
   },
   "outputs": [
    {
     "data": {
      "text/plain": [
       "42"
      ]
     },
     "execution_count": 4,
     "metadata": {},
     "output_type": "execute_result"
    }
   ],
   "source": [
    "len(all_files)"
   ]
  },
  {
   "cell_type": "code",
   "execution_count": null,
   "metadata": {
    "collapsed": true
   },
   "outputs": [],
   "source": []
  },
  {
   "cell_type": "code",
   "execution_count": 5,
   "metadata": {
    "collapsed": false
   },
   "outputs": [],
   "source": [
    "import pandas as pd\n",
    "\n",
    "df_from_each_file = (pd.read_csv(f) for f in all_files)\n",
    "concatenated_df   = pd.concat(df_from_each_file, ignore_index=True)# doesn't create a list, nor does it append to one\n"
   ]
  },
  {
   "cell_type": "code",
   "execution_count": 6,
   "metadata": {
    "collapsed": false
   },
   "outputs": [
    {
     "data": {
      "text/html": [
       "<div>\n",
       "<table border=\"1\" class=\"dataframe\">\n",
       "  <thead>\n",
       "    <tr style=\"text-align: right;\">\n",
       "      <th></th>\n",
       "      <th>id</th>\n",
       "      <th>photo</th>\n",
       "      <th>name</th>\n",
       "      <th>blurb</th>\n",
       "      <th>goal</th>\n",
       "      <th>pledged</th>\n",
       "      <th>state</th>\n",
       "      <th>slug</th>\n",
       "      <th>disable_communication</th>\n",
       "      <th>country</th>\n",
       "      <th>...</th>\n",
       "      <th>location</th>\n",
       "      <th>category</th>\n",
       "      <th>profile</th>\n",
       "      <th>spotlight</th>\n",
       "      <th>urls</th>\n",
       "      <th>source_url</th>\n",
       "      <th>friends</th>\n",
       "      <th>is_starred</th>\n",
       "      <th>is_backing</th>\n",
       "      <th>permissions</th>\n",
       "    </tr>\n",
       "  </thead>\n",
       "  <tbody>\n",
       "    <tr>\n",
       "      <th>0</th>\n",
       "      <td>1762037418</td>\n",
       "      <td>{\"small\":\"https://ksr-ugc.imgix.net/assets/012...</td>\n",
       "      <td>The danger of plastics in our oceans</td>\n",
       "      <td>Artwork creating a powerful statement about th...</td>\n",
       "      <td>10000.0</td>\n",
       "      <td>2.0</td>\n",
       "      <td>failed</td>\n",
       "      <td>the-danger-of-plastics-in-our-oceans</td>\n",
       "      <td>False</td>\n",
       "      <td>US</td>\n",
       "      <td>...</td>\n",
       "      <td>{\"country\":\"US\",\"urls\":{\"web\":{\"discover\":\"htt...</td>\n",
       "      <td>{\"urls\":{\"web\":{\"discover\":\"http://www.kicksta...</td>\n",
       "      <td>{\"background_image_opacity\":0.8,\"should_show_f...</td>\n",
       "      <td>False</td>\n",
       "      <td>{\"web\":{\"project\":\"https://www.kickstarter.com...</td>\n",
       "      <td>https://www.kickstarter.com/discover/categorie...</td>\n",
       "      <td>NaN</td>\n",
       "      <td>NaN</td>\n",
       "      <td>NaN</td>\n",
       "      <td>NaN</td>\n",
       "    </tr>\n",
       "    <tr>\n",
       "      <th>1</th>\n",
       "      <td>1225393342</td>\n",
       "      <td>{\"small\":\"https://ksr-ugc.imgix.net/assets/012...</td>\n",
       "      <td>Enpowering Women thru ART</td>\n",
       "      <td>I make new age modern contemporary art of famo...</td>\n",
       "      <td>5000.0</td>\n",
       "      <td>0.0</td>\n",
       "      <td>failed</td>\n",
       "      <td>enpowering-women-thru-art</td>\n",
       "      <td>False</td>\n",
       "      <td>CA</td>\n",
       "      <td>...</td>\n",
       "      <td>{\"country\":\"CA\",\"urls\":{\"web\":{\"discover\":\"htt...</td>\n",
       "      <td>{\"urls\":{\"web\":{\"discover\":\"http://www.kicksta...</td>\n",
       "      <td>{\"background_image_opacity\":0.8,\"should_show_f...</td>\n",
       "      <td>False</td>\n",
       "      <td>{\"web\":{\"project\":\"https://www.kickstarter.com...</td>\n",
       "      <td>https://www.kickstarter.com/discover/categorie...</td>\n",
       "      <td>NaN</td>\n",
       "      <td>NaN</td>\n",
       "      <td>NaN</td>\n",
       "      <td>NaN</td>\n",
       "    </tr>\n",
       "  </tbody>\n",
       "</table>\n",
       "<p>2 rows × 33 columns</p>\n",
       "</div>"
      ],
      "text/plain": [
       "           id                                              photo  \\\n",
       "0  1762037418  {\"small\":\"https://ksr-ugc.imgix.net/assets/012...   \n",
       "1  1225393342  {\"small\":\"https://ksr-ugc.imgix.net/assets/012...   \n",
       "\n",
       "                                   name  \\\n",
       "0  The danger of plastics in our oceans   \n",
       "1             Enpowering Women thru ART   \n",
       "\n",
       "                                               blurb     goal  pledged  \\\n",
       "0  Artwork creating a powerful statement about th...  10000.0      2.0   \n",
       "1  I make new age modern contemporary art of famo...   5000.0      0.0   \n",
       "\n",
       "    state                                  slug disable_communication country  \\\n",
       "0  failed  the-danger-of-plastics-in-our-oceans                 False      US   \n",
       "1  failed             enpowering-women-thru-art                 False      CA   \n",
       "\n",
       "      ...                                                location  \\\n",
       "0     ...       {\"country\":\"US\",\"urls\":{\"web\":{\"discover\":\"htt...   \n",
       "1     ...       {\"country\":\"CA\",\"urls\":{\"web\":{\"discover\":\"htt...   \n",
       "\n",
       "                                            category  \\\n",
       "0  {\"urls\":{\"web\":{\"discover\":\"http://www.kicksta...   \n",
       "1  {\"urls\":{\"web\":{\"discover\":\"http://www.kicksta...   \n",
       "\n",
       "                                             profile  spotlight  \\\n",
       "0  {\"background_image_opacity\":0.8,\"should_show_f...      False   \n",
       "1  {\"background_image_opacity\":0.8,\"should_show_f...      False   \n",
       "\n",
       "                                                urls  \\\n",
       "0  {\"web\":{\"project\":\"https://www.kickstarter.com...   \n",
       "1  {\"web\":{\"project\":\"https://www.kickstarter.com...   \n",
       "\n",
       "                                          source_url  friends is_starred  \\\n",
       "0  https://www.kickstarter.com/discover/categorie...      NaN        NaN   \n",
       "1  https://www.kickstarter.com/discover/categorie...      NaN        NaN   \n",
       "\n",
       "  is_backing  permissions  \n",
       "0        NaN          NaN  \n",
       "1        NaN          NaN  \n",
       "\n",
       "[2 rows x 33 columns]"
      ]
     },
     "execution_count": 6,
     "metadata": {},
     "output_type": "execute_result"
    }
   ],
   "source": [
    "concatenated_df.head(2)"
   ]
  },
  {
   "cell_type": "code",
   "execution_count": 7,
   "metadata": {
    "collapsed": false
   },
   "outputs": [
    {
     "data": {
      "text/plain": [
       "(169832, 33)"
      ]
     },
     "execution_count": 7,
     "metadata": {},
     "output_type": "execute_result"
    }
   ],
   "source": [
    "concatenated_df.shape"
   ]
  },
  {
   "cell_type": "code",
   "execution_count": 8,
   "metadata": {
    "collapsed": false
   },
   "outputs": [
    {
     "data": {
      "text/html": [
       "<div>\n",
       "<table border=\"1\" class=\"dataframe\">\n",
       "  <thead>\n",
       "    <tr style=\"text-align: right;\">\n",
       "      <th></th>\n",
       "      <th>id</th>\n",
       "      <th>goal</th>\n",
       "      <th>pledged</th>\n",
       "      <th>deadline</th>\n",
       "      <th>state_changed_at</th>\n",
       "      <th>created_at</th>\n",
       "      <th>launched_at</th>\n",
       "      <th>backers_count</th>\n",
       "      <th>static_usd_rate</th>\n",
       "      <th>usd_pledged</th>\n",
       "    </tr>\n",
       "  </thead>\n",
       "  <tbody>\n",
       "    <tr>\n",
       "      <th>count</th>\n",
       "      <td>1.698320e+05</td>\n",
       "      <td>1.698320e+05</td>\n",
       "      <td>1.698320e+05</td>\n",
       "      <td>1.698320e+05</td>\n",
       "      <td>1.698320e+05</td>\n",
       "      <td>1.698320e+05</td>\n",
       "      <td>1.698320e+05</td>\n",
       "      <td>169832.000000</td>\n",
       "      <td>169832.000000</td>\n",
       "      <td>1.698320e+05</td>\n",
       "    </tr>\n",
       "    <tr>\n",
       "      <th>mean</th>\n",
       "      <td>1.075795e+09</td>\n",
       "      <td>5.187398e+04</td>\n",
       "      <td>1.056640e+04</td>\n",
       "      <td>1.414839e+09</td>\n",
       "      <td>1.414646e+09</td>\n",
       "      <td>1.408361e+09</td>\n",
       "      <td>1.411908e+09</td>\n",
       "      <td>122.885098</td>\n",
       "      <td>1.022563</td>\n",
       "      <td>1.012675e+04</td>\n",
       "    </tr>\n",
       "    <tr>\n",
       "      <th>std</th>\n",
       "      <td>6.188366e+08</td>\n",
       "      <td>1.281932e+06</td>\n",
       "      <td>8.881862e+04</td>\n",
       "      <td>5.706941e+07</td>\n",
       "      <td>5.692561e+07</td>\n",
       "      <td>5.715800e+07</td>\n",
       "      <td>5.721724e+07</td>\n",
       "      <td>946.852501</td>\n",
       "      <td>0.197664</td>\n",
       "      <td>8.646003e+04</td>\n",
       "    </tr>\n",
       "    <tr>\n",
       "      <th>min</th>\n",
       "      <td>1.852000e+04</td>\n",
       "      <td>1.000000e-02</td>\n",
       "      <td>0.000000e+00</td>\n",
       "      <td>1.241334e+09</td>\n",
       "      <td>1.241334e+09</td>\n",
       "      <td>1.240335e+09</td>\n",
       "      <td>1.240603e+09</td>\n",
       "      <td>0.000000</td>\n",
       "      <td>0.045635</td>\n",
       "      <td>0.000000e+00</td>\n",
       "    </tr>\n",
       "    <tr>\n",
       "      <th>25%</th>\n",
       "      <td>5.396397e+08</td>\n",
       "      <td>2.000000e+03</td>\n",
       "      <td>4.000000e+01</td>\n",
       "      <td>1.376804e+09</td>\n",
       "      <td>1.376758e+09</td>\n",
       "      <td>1.368222e+09</td>\n",
       "      <td>1.374074e+09</td>\n",
       "      <td>2.000000</td>\n",
       "      <td>1.000000</td>\n",
       "      <td>3.864213e+01</td>\n",
       "    </tr>\n",
       "    <tr>\n",
       "      <th>50%</th>\n",
       "      <td>1.078884e+09</td>\n",
       "      <td>5.000000e+03</td>\n",
       "      <td>9.000000e+02</td>\n",
       "      <td>1.424350e+09</td>\n",
       "      <td>1.424080e+09</td>\n",
       "      <td>1.416519e+09</td>\n",
       "      <td>1.421531e+09</td>\n",
       "      <td>16.000000</td>\n",
       "      <td>1.000000</td>\n",
       "      <td>9.000000e+02</td>\n",
       "    </tr>\n",
       "    <tr>\n",
       "      <th>75%</th>\n",
       "      <td>1.609587e+09</td>\n",
       "      <td>1.500000e+04</td>\n",
       "      <td>5.100000e+03</td>\n",
       "      <td>1.457323e+09</td>\n",
       "      <td>1.457138e+09</td>\n",
       "      <td>1.450823e+09</td>\n",
       "      <td>1.454454e+09</td>\n",
       "      <td>68.000000</td>\n",
       "      <td>1.000000</td>\n",
       "      <td>5.073000e+03</td>\n",
       "    </tr>\n",
       "    <tr>\n",
       "      <th>max</th>\n",
       "      <td>2.147476e+09</td>\n",
       "      <td>1.000000e+08</td>\n",
       "      <td>1.328523e+07</td>\n",
       "      <td>1.508036e+09</td>\n",
       "      <td>1.502858e+09</td>\n",
       "      <td>1.502848e+09</td>\n",
       "      <td>1.502856e+09</td>\n",
       "      <td>105857.000000</td>\n",
       "      <td>1.716408</td>\n",
       "      <td>1.328523e+07</td>\n",
       "    </tr>\n",
       "  </tbody>\n",
       "</table>\n",
       "</div>"
      ],
      "text/plain": [
       "                 id          goal       pledged      deadline  \\\n",
       "count  1.698320e+05  1.698320e+05  1.698320e+05  1.698320e+05   \n",
       "mean   1.075795e+09  5.187398e+04  1.056640e+04  1.414839e+09   \n",
       "std    6.188366e+08  1.281932e+06  8.881862e+04  5.706941e+07   \n",
       "min    1.852000e+04  1.000000e-02  0.000000e+00  1.241334e+09   \n",
       "25%    5.396397e+08  2.000000e+03  4.000000e+01  1.376804e+09   \n",
       "50%    1.078884e+09  5.000000e+03  9.000000e+02  1.424350e+09   \n",
       "75%    1.609587e+09  1.500000e+04  5.100000e+03  1.457323e+09   \n",
       "max    2.147476e+09  1.000000e+08  1.328523e+07  1.508036e+09   \n",
       "\n",
       "       state_changed_at    created_at   launched_at  backers_count  \\\n",
       "count      1.698320e+05  1.698320e+05  1.698320e+05  169832.000000   \n",
       "mean       1.414646e+09  1.408361e+09  1.411908e+09     122.885098   \n",
       "std        5.692561e+07  5.715800e+07  5.721724e+07     946.852501   \n",
       "min        1.241334e+09  1.240335e+09  1.240603e+09       0.000000   \n",
       "25%        1.376758e+09  1.368222e+09  1.374074e+09       2.000000   \n",
       "50%        1.424080e+09  1.416519e+09  1.421531e+09      16.000000   \n",
       "75%        1.457138e+09  1.450823e+09  1.454454e+09      68.000000   \n",
       "max        1.502858e+09  1.502848e+09  1.502856e+09  105857.000000   \n",
       "\n",
       "       static_usd_rate   usd_pledged  \n",
       "count    169832.000000  1.698320e+05  \n",
       "mean          1.022563  1.012675e+04  \n",
       "std           0.197664  8.646003e+04  \n",
       "min           0.045635  0.000000e+00  \n",
       "25%           1.000000  3.864213e+01  \n",
       "50%           1.000000  9.000000e+02  \n",
       "75%           1.000000  5.073000e+03  \n",
       "max           1.716408  1.328523e+07  "
      ]
     },
     "execution_count": 8,
     "metadata": {},
     "output_type": "execute_result"
    }
   ],
   "source": [
    "concatenated_df.describe()"
   ]
  },
  {
   "cell_type": "code",
   "execution_count": 11,
   "metadata": {
    "collapsed": true
   },
   "outputs": [],
   "source": [
    "concatenated_df.to_csv('data/new_dataset.csv', index=False)  # index=False otherwise adds 'Unnamed' index"
   ]
  },
  {
   "cell_type": "code",
   "execution_count": 10,
   "metadata": {
    "collapsed": false
   },
   "outputs": [
    {
     "name": "stdout",
     "output_type": "stream",
     "text": [
      "failed        78341\n",
      "successful    76055\n",
      "canceled      11090\n",
      "live           3573\n",
      "suspended       773\n",
      "Name: state, dtype: int64\n"
     ]
    }
   ],
   "source": [
    "print(concatenated_df['state'].value_counts())\n",
    "# the following distribution wasn't as per the 33% success rate - so try to merge it with the main train.csv."
   ]
  },
  {
   "cell_type": "code",
   "execution_count": null,
   "metadata": {
    "collapsed": true
   },
   "outputs": [],
   "source": []
  },
  {
   "cell_type": "markdown",
   "metadata": {},
   "source": [
    "# Convert to numeric"
   ]
  },
  {
   "cell_type": "code",
   "execution_count": null,
   "metadata": {
    "collapsed": true
   },
   "outputs": [],
   "source": []
  }
 ],
 "metadata": {
  "kernelspec": {
   "display_name": "Python 2",
   "language": "python",
   "name": "python2"
  },
  "language_info": {
   "codemirror_mode": {
    "name": "ipython",
    "version": 2
   },
   "file_extension": ".py",
   "mimetype": "text/x-python",
   "name": "python",
   "nbconvert_exporter": "python",
   "pygments_lexer": "ipython2",
   "version": "2.7.13"
  }
 },
 "nbformat": 4,
 "nbformat_minor": 2
}
