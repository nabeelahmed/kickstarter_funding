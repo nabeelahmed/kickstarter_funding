{
 "cells": [
  {
   "cell_type": "code",
   "execution_count": 2,
   "metadata": {
    "collapsed": false
   },
   "outputs": [
    {
     "data": {
      "text/plain": [
       "true"
      ]
     },
     "execution_count": 2,
     "metadata": {},
     "output_type": "execute_result"
    }
   ],
   "source": [
    "require './configs/kickstarter'"
   ]
  },
  {
   "cell_type": "code",
   "execution_count": 3,
   "metadata": {
    "collapsed": false
   },
   "outputs": [
    {
     "data": {
      "text/plain": [
       "Object"
      ]
     },
     "execution_count": 3,
     "metadata": {},
     "output_type": "execute_result"
    }
   ],
   "source": [
    "include KickstarterConf"
   ]
  },
  {
   "cell_type": "code",
   "execution_count": 4,
   "metadata": {
    "collapsed": false
   },
   "outputs": [
    {
     "data": {
      "text/plain": [
       "true"
      ]
     },
     "execution_count": 4,
     "metadata": {},
     "output_type": "execute_result"
    }
   ],
   "source": [
    "require 'kickscraper'"
   ]
  },
  {
   "cell_type": "code",
   "execution_count": null,
   "metadata": {
    "collapsed": false
   },
   "outputs": [],
   "source": [
    "Kickscraper.configure do |config|\n",
    "    config.email = CONFIG['email']\n",
    "    config.password = CONFIG['passwd']\n",
    "end"
   ]
  },
  {
   "cell_type": "markdown",
   "metadata": {},
   "source": [
    "# ----------------------------------------------------------------"
   ]
  },
  {
   "cell_type": "code",
   "execution_count": null,
   "metadata": {
    "collapsed": false
   },
   "outputs": [],
   "source": [
    "c = Kickscraper.client"
   ]
  },
  {
   "cell_type": "code",
   "execution_count": 7,
   "metadata": {
    "collapsed": false
   },
   "outputs": [
    {
     "data": {
      "text/plain": [
       "Kickscraper::User"
      ]
     },
     "execution_count": 7,
     "metadata": {},
     "output_type": "execute_result"
    }
   ],
   "source": [
    "c.user.class"
   ]
  },
  {
   "cell_type": "code",
   "execution_count": 8,
   "metadata": {
    "collapsed": false
   },
   "outputs": [
    {
     "data": {
      "text/plain": [
       "[\"id\", \"name\", \"social\", \"facebook_connected\", \"ksr_live_token\", \"weekly_newsletter\", \"happening_newsletter\", \"promo_newsletter\", \"games_newsletter\", \"invent_newsletter\", \"arts_culture_newsletter\", \"send_newsletters\", \"notify_of_backings\", \"notify_of_updates\", \"notify_of_follower\", \"notify_of_friend_activity\", \"notify_of_comments\", \"notify_of_post_likes\", \"notify_mobile_of_backings\", \"notify_mobile_of_updates\", \"notify_mobile_of_follower\", \"notify_mobile_of_friend_activity\", \"notify_mobile_of_comments\", \"notify_mobile_of_post_likes\", \"urls\", \"is_registered\", \"avatar\", \"backed_projects\", \"join_date\", \"category_wheel\", \"biography\", \"backed_projects_count\", \"created_projects_count\", \"member_projects_count\", \"unread_messages_count\", \"unanswered_surveys_count\", \"starred_projects_count\", \"updated_at\", \"created_at\"]"
      ]
     },
     "execution_count": 8,
     "metadata": {},
     "output_type": "execute_result"
    }
   ],
   "source": [
    "# List what data is available on an object\n",
    "c.user.keys"
   ]
  },
  {
   "cell_type": "code",
   "execution_count": 9,
   "metadata": {
    "collapsed": true
   },
   "outputs": [],
   "source": [
    "# User types have \"backed_projects\" and \"starred_projects\" available.\n",
    "c.user.backed_projects"
   ]
  },
  {
   "cell_type": "code",
   "execution_count": 12,
   "metadata": {
    "collapsed": false
   },
   "outputs": [],
   "source": [
    "# Some values are already converted to their appropriate types. Some aren't yet.\n",
    "c.user.backed_projects.first.creator.class\n",
    "# as user haven't created any projects yet"
   ]
  },
  {
   "cell_type": "markdown",
   "metadata": {},
   "source": [
    "# Project search\n",
    "\n",
    "Cannot get all the projects - 600 queries per hour limit by Kickstarter (pretty moderate)\n",
    "based on (popularity, category, keywords, etc)"
   ]
  },
  {
   "cell_type": "code",
   "execution_count": 13,
   "metadata": {
    "collapsed": false
   },
   "outputs": [
    {
     "data": {
      "text/plain": [
       "[<Project: 'The Veronica Mars Movie Project'>, <Project: 'Help bring geektastic webseries Jess Archer Versus to life!'>, <Project: 'Prodigal Daughter - TV Show Pilot'>]"
      ]
     },
     "execution_count": 13,
     "metadata": {},
     "output_type": "execute_result"
    }
   ],
   "source": [
    "c.search_projects('veronica mars')"
   ]
  },
  {
   "cell_type": "code",
   "execution_count": 14,
   "metadata": {
    "collapsed": false
   },
   "outputs": [
    {
     "data": {
      "text/plain": [
       "[<Project: 'Pebble: E-Paper Watch for iPhone and Android'>, <Project: 'Kiezel Watchfaces for Pebble Smartwatch'>, <Project: 'Pebble Watch Covers'>, <Project: 'TimeDock Pebble Time 2 and Pebble 2 Charging Dock'>, <Project: 'Glass Screen Protector For Pebble Time and Pebble Time Steel'>, <Project: 'PebbUp! - Colorful watchfaces for Pebble Time'>, <Project: 'Lignite Collection for Pebble - Quality Watchfaces and Apps'>, <Project: 'Pal Strap - GPS & Extended Battery Strap For Pebble'>, <Project: 'LUXE Faces for Pebble'>, <Project: 'HAMMER: straps for Pebble Time'>, <Project: 'WIDE BODY: straps for Pebble'>, <Project: 'Love Pebble: A Beautiful Fusion of Stone and Metal'>]"
      ]
     },
     "execution_count": 14,
     "metadata": {},
     "output_type": "execute_result"
    }
   ],
   "source": [
    "c.search_projects('pebble')"
   ]
  },
  {
   "cell_type": "code",
   "execution_count": 15,
   "metadata": {
    "collapsed": false
   },
   "outputs": [
    {
     "data": {
      "text/plain": [
       "[#<Kickscraper::Update:0x007f77b3d22e68 @raw=#<Hashie::Mash body=\"Gang, <div>\\n<p>We are very pleased to announce that <i>Play It Again, Dick</i> is available for purchase on iTunes in the United States as of today! It will be ad-free, and will include about 10 extra minutes of bloopers and unused footage. The series will also be available on iTunes Canada on December 15. We’ll keep you up to date as the show becomes available on other platforms, and we still hope to have some good news for our international backers on that front before too long. </p>\\n<p>The feedback for the web series has been overwhelmingly positive, and we couldn’t be happier with how it’s been received. On behalf of Ryan and the entire cast &amp; crew, thank you so much (again) for your continued support. </p>\\n<p>In related news, we’d like to share with you a very cool contest that’s being launched by our good friends at <i>This Bar Saves Lives</i> and CW Seed. Ryan Hansen and Ryan Devlin have shot two new hilarious introduction videos, which you can watch along with a few deleted scenes and outtakes, between <i>Play It Again, Dick</i> episodes at <a href=\\\"http://cwseed.com/this-dick-saves-lives/\\\" target=\\\"_blank\\\">http://cwseed.com/this-dick-saves-lives/</a>. Viewers can enter to win Dick-themed prizes, such as a Skype call with Ryan Hansen, autographed PIAD posters and scripts, Ryan as Dick recording your voicemail message, a 3-month supply of This Bar Saves Lives and other great This Bar swag. It's easy to enter, so start DICKing around here: <a href=\\\"http://cwseed.com/this-dick-saves-lives-sweepstakes\\\" target=\\\"_blank\\\">http://cwseed.com/this-dick-saves-lives-sweepstakes</a>. </p>\\n<p>That’s all for now – all the best to everyone for a wonderful, safe, and happy holiday season - and don't forget the second Veronica Mars novel - <i>Mr. Kiss and Tell -</i> comes out January 20, 2015! </p>\\n<p>Until next time, </p>\\n<p>Rob</p>\\n</div>\" comments_count=10 id=1078225 likes_count=82 next_update_id=987579 project_id=1755266685 public=true published_at=1418089493 sequence=102 title=\"More Dick!\" updated_at=1466676876 urls=#<Hashie::Mash api=#<Hashie::Mash comments=\"https://api.kickstarter.com/v1/projects/1755266685/updates/1078225/comments?signature=1503842325.153600589b91645277b6c6ebc080cca71ddf51b1\" update=\"https://api.kickstarter.com/v1/projects/1755266685/updates/1078225?signature=1503842325.3bb8fb41bb336d7670f56be706feb91dd5168b8f\"> web=#<Hashie::Mash update=\"https://www.kickstarter.com/projects/559914737/the-veronica-mars-movie-project/posts/1078225\">> visible=true>>, #<Kickscraper::Update:0x007f77b3d22d50 @raw=#<Hashie::Mash body=\"Gang,<div>\\n\\n<p>The Day of Dick has arrived! The first episode of <b>Play It Again, Dick</b>, is up and running on <b>CW Seed</b>: </p>\\n<p><a href=\\\"http://cwseed.com/shows/play-it-again-dick/\\\" target=\\\"_blank\\\">http://cwseed.com/shows/play-it-again-dick/</a> </p>\\n<p>AND… we’re very happy to announce that the show is also streaming in Canada on <b>CTV Extend</b>: </p>\\n<p><a href=\\\"http://www.ctv.ca/PlayItAgainDick.aspx\\\" target=\\\"_blank\\\">http://www.ctv.ca/PlayItAgainDick.aspx</a> </p>\\n<p>For the rest of our international backers - we are working very hard on options that will enable you to enjoy the series as well. We will update you on that front as soon as we can. </p>\\n<p>On another note, I wanted to share with you a great project involving one of our guest stars on <b>Play It Again, Dick</b>, Ryan Devlin. As some of you may remember, Ryan played Mercer in Season 3 of <b>Veronica Mars</b>; in <b>Play It Again, Dick</b>, he takes on a very different role… and I think I’ll leave it at that. Ryan has started a company – with Kristen Bell and some friends – called <b>This Bar Saves Lives</b>. You can find out all about them here: </p>\\n<p><a href=\\\"http://thisbarsaveslives.com\\\" target=\\\"_blank\\\">thisbarsaveslives.com</a> </p>\\n<p>The bars are all-natural and gluten-free, made from fair trade ingredients from all over America. And for every bar sold, a packet of life-saving food is given to a child in need around the world. We’re big fans of <b>This Bar Saves Lives,</b> Dick is a big fan of <b>This Bar Saves Lives,</b> and we’re ecstatic to share this wonderful cause with all of you. Ryan has been kind enough to offer 20% off orders at <a href=\\\"http://thisbarsaveslives.com\\\" target=\\\"_blank\\\">thisbarsaveslives.com</a> for our Kickstarter backers - just enter the appropriately amusing promo code: <b>DICK</b>. </p>\\n<p>A big thanks to everyone involved in making <b>Play It Again, Dick</b> a reality, and a huge, eternal thanks to all of our backers for continuing to support all things <b>Veronica Mars</b>. It has been so much fun to be back in this world, and we would never have had the opportunity without you. \\nCheck back to <b>CW Seed</b> and <b>CTV Extend</b> each of the next seven weeks for a new episode of <b>Play It Again, Dick</b>! </p>\\n<p>Spondoolie, </p>\\n<p>Rob\\n</p>\\n</div>\" comments_count=19 id=987579 likes_count=67 next_update_id=982887 project_id=1755266685 public=true published_at=1410888231 sequence=101 title=\"\\\"Play It Again, Dick\\\" Launches!\" updated_at=1469788650 urls=#<Hashie::Mash api=#<Hashie::Mash comments=\"https://api.kickstarter.com/v1/projects/1755266685/updates/987579/comments?signature=1503842325.ee27090d3ddc50ec697b4a8e6180a512fd80de92\" update=\"https://api.kickstarter.com/v1/projects/1755266685/updates/987579?signature=1503842325.8b9df3f20b7abeef40618aabb3922ca8d659f713\"> web=#<Hashie::Mash update=\"https://www.kickstarter.com/projects/559914737/the-veronica-mars-movie-project/posts/987579\">> visible=true>>, #<Kickscraper::Update:0x007f77b3d22be8 @raw=#<Hashie::Mash body=\"<p>Well Gang, </p><p>I wasn’t kidding – another day, another update. Just a brief one this time, to let you know where you can find the full trailer for <b>Play It Again, Dick</b>. \\nOur friends at <a href=\\\"http://EW.com\\\" target=\\\"_blank\\\">EW.com</a> have it embedded at: </p><p><a href=\\\"http://insidetv.ew.com/2014/09/11/veronica-mars-newsroom-play-it-again-dick-trailer/\\\" target=\\\"_blank\\\">http://insidetv.ew.com/2014/09/11/veronica-mars-newsroom-play-it-again-dick-trailer/</a></p><p>And you can look for the spot when it airs during <b>The Vampire Diaries</b> tonight, between 8:00 and 9:00pm (7:00-8:00 CST) on The CW!</p><p>Please feel free to spread the word, as only Marshmallows can. We’re very excited for the first episode to air on <b>CW Seed</b> on Tuesday, September 16…</p><p><a href=\\\"http://cwseed.com/shows/play-it-again-dick/\\\" target=\\\"_blank\\\">http://cwseed.com/shows/play-it-again-dick/</a> </p><p>…and I’m sure you’ll be hearing from me again before then. </p><p>Thanks again, </p><p>Rob\\n\\n</p>\" comments_count=2 id=982887 likes_count=62 next_update_id=981242 project_id=1755266685 public=true published_at=1410466360 sequence=100 title=\"Play It Again, Dick - trailer is live!\" updated_at=1419201345 urls=#<Hashie::Mash api=#<Hashie::Mash comments=\"https://api.kickstarter.com/v1/projects/1755266685/updates/982887/comments?signature=1503842325.186483c5c426f831676ef090130142fd822d10b1\" update=\"https://api.kickstarter.com/v1/projects/1755266685/updates/982887?signature=1503842325.c3760a03968427f1691e30122427bf7ff79ecfee\"> web=#<Hashie::Mash update=\"https://www.kickstarter.com/projects/559914737/the-veronica-mars-movie-project/posts/982887\">> visible=true>>, #<Kickscraper::Update:0x007f77b3d22b48 @raw=#<Hashie::Mash body=\"<p>Gang, </p><p>I’ve missed you. With iZombie in full swing, another Veronica Mars book in the hopper, AND the start of the college and pro football seasons, I haven’t been able to update you in awhile. \\nYou are, however, always close to my heart – and that’s why I’m so happy to share with you our next Veronica Mars-related project: <b>Play It Again, Dick</b>. </p><p>As you may have already heard, <b>Play It Again, Dick</b> is a digital series that follows Ryan Hansen as he tries to get a Dick Casablancas show off the ground. As Ryan says in his pitch to the CW network: </p><p><i>“It’s like a Veronica Mars that isn’t afraid of sex. Rob always called me the dessert of the show. Why not a show that’s all dessert? We drop all the who-gives-a-damn high school-is-a-metaphor-for-something-or-other and just give the people what they want: Dick!” </i></p><p>And while you’ll see several familiar faces from the <i>Veronica Mars</i> universe, the web series isn’t what you’d call “canon.” We know how much you would love to see Veronica and friends back in another movie or a new TV series – believe me, we’d love nothing more ourselves – but in the meantime, we had an opportunity to present a different, skewed, slightly absurd take on these characters, and on the actors who play them. So we ran with it, and had a blast. We think you will too. </p><p>The series will debut on Tuesday, September 16, on the CW Seed:</p><p><a href=\\\"http://cwseed.com/shows/play-it-again-dick/\\\" target=\\\"_blank\\\">http://cwseed.com/shows/play-it-again-dick/</a></p><p> A new episode will air each week after that – for a total of eight episodes, each about 7-10 minutes long. And, as a special treat for our Kickstarter family... here’s an advance look at the AWESOME poster:\\n</p><div class=\\\"template asset\\\" data-edit_url=\\\"/projects/559914737/the-veronica-mars-movie-project/posts/981242/assets/2563205/edit\\\" data-id=\\\"2563205\\\"></div>\\n<p>Told you it was awesome. Here’s a direct link to the <b>Play It Again, Dick</b> teaser:</p><p>\\n\\n<a href=\\\"http://cwseed.com/shows/play-it-again-dick/?play=c50bf3c7-cf81-48f0-b88f-1806e30d8cc5\\\" target=\\\"_blank\\\">http://cwseed.com/shows/play-it-again-dick/?play=c50bf3c7-cf81-48f0-b88f-1806e30d8cc5</a> </p><p>And finally, here’s a link to a great behind-the-scenes article on Buzzfeed:</p><p><a href=\\\"http://www.buzzfeed.com/jarettwieselman/inside-the-next-chapter-of-veronica-mars#369wxga\\\" target=\\\"_blank\\\">http://www.buzzfeed.com/jarettwieselman/inside-the-next-chapter-of-veronica-mars#369wxga</a></p><p>\\n\\nFor our international backers, unfortunately, the CW Seed is not available outside the US. Please know that we are doing everything we can to make the series accessible to all of you as well, and we hope to have an update on that front soon. </p><p>Thanks again (and again and again) for all the support. As Dick might say, save room for dessert!\\n\\nStay tuned for more updates over the next week... </p><p> Until then, </p><p> Rob\\n</p>\" comments_count=15 id=981242 likes_count=111 next_update_id=895565 project_id=1755266685 public=true published_at=1410363423 sequence=99 title=\"Putting the Dick back in Private Dick...\" updated_at=1417870532 urls=#<Hashie::Mash api=#<Hashie::Mash comments=\"https://api.kickstarter.com/v1/projects/1755266685/updates/981242/comments?signature=1503842325.33fbd3610f8c3e04af0e79eb63930afb936a1b0f\" update=\"https://api.kickstarter.com/v1/projects/1755266685/updates/981242?signature=1503842325.91b0a994f351d17604c6b335e795fecd94390ed8\"> web=#<Hashie::Mash update=\"https://www.kickstarter.com/projects/559914737/the-veronica-mars-movie-project/posts/981242\">> visible=true>>, #<Kickscraper::Update:0x007f77b3d22918 @raw=#<Hashie::Mash body=\"<p>Gang,</p><p>Once again, it’s been a while between updates. I know that it’s been a while because, since the last update, we found out that iZOMBIE was picked up as a midseason show on the CW, we staffed up the show, and we assembled a writers room which started work last week.</p><p>So, yes, a lot has been happening.</p><p>Believe it or not, we do still have another update or two to share with you after this one, but today, I just wanted to share three quick updates.</p><p>Keep reading for details about our nominations in the Teen Choice Awards, a few hints about the next <i>Veronica Mars</i> novel, and a new chance to see Kristen, Jason and Enrico live in Los Angeles, while helping a worthwhile cause.</p><h1>1. More Voting: The 2014 Teen Choice Awards!</h1><p>I’ve never been to the Teen Choice Awards, but I’m told that in <i>some</i> circles, they are more important than the Oscars. I suspect those are teenage circles, but as they say, “It’s an honor just to be nominated.” </p><p>And this year, we've been nominated for the Teen Choice Awards in three categories: </p><ul>\\r\\n<li>\\r\\n<i>Veronica Mars</i> for Best Movie (Drama)</li>\\r\\n<li>Kristen Bell for Best Actress (Drama)</li>\\r\\n<li>Jason Dohring for Best Actor (Drama)</li>\\r\\n</ul><p>Just like the Oscars, you can vote once per day until August 10, when the award show will be broadcast on FOX. So if you miss helping us upset the odds and win awards, <a href=\\\"http://www.teenchoiceawards.com/\\\" target=\\\"_blank\\\">vote now</a>!</p><h1>2. Veronica Mars Returns in… Mr. Kiss-And-Tell.</h1><p>After the first <i>Veronica Mars</i> novel — <i>The Thousand Dollar Tan Line</i> — was released, a lot of you wrote to share your thoughts. And since the book managed to hit #2 on <i>The New York Times</i> Bestseller List for trade paperbacks, there were a lot of thoughts. Most of them were positive and enthusiastic.</p><p>However, we also received a number of letters that went something like this:</p><p>“WHY WASN’T THERE MORE LOGAN?!?!?” </p><p>If you fell into that camp, then you’ll be pleased to know that you can expect a lot more Logan in <i>Mr. Kiss-And-Tell</i>, the follow up novel, which we’re on schedule to release late this year. It will take place a few months after the events of <i>The Thousand Dollar Tan Line</i>. And for those of you wondering about some of the unanswered questions raised in the movie — Who was responsible for *****’s murder? Who planted a gun on ******?  — the book will also return to those questions.</p><p>You can find the full “official” description of the book on Amazon, where <i>Mr. Kiss-And-Tell</i> is <a href=\\\"http://www.amazon.com/Veronica-Mars-Original-Mystery-Vintage/dp/080417072X/\\\" target=\\\"_blank\\\">available for preorder</a>, and as we get closer to release, I’ll do my best to get an excerpt for you. Unless you’re tired of <i>Veronica Mars</i>. </p><p>In which case, you’re probably not reading these updates anymore.</p><h1>3. Another chance to hang out with our cast.</h1><p>Finally, if you’ve been on Kickstarter over the past month — or reading the news — you might be aware of <a href=\\\"https://www.kickstarter.com/projects/readingrainbow/bring-reading-rainbow-back-for-every-child-everywh\\\" target=\\\"_blank\\\">LeVar Burton’s campaign to bring back <i>Reading Rainbow</i></a>, the long-time PBS program dedicated to helping children develop a love of reading.</p><p>Just over a year ago, during our own campaign, we set Kickstarter’s All-Time Record for Most Backers, when 91,585 of you came together to help bring Veronica back. This morning, we’re pleased to pass that title to <i>Reading Rainbow</i>, which has passed our record, and still has two more days to go. </p><p>In fact, we believe their mission — to bring Reading Rainbow to underfunded classrooms — is so important that we’re going to do <i>more</i> than just congratulate them. In their final 48 hours, we’d like to help them go farther.</p><p><b>That’s why we’ve decided to contribute a new reward to their Kickstarter campaign: next spring, Kristen, Enrico and Jason will join LeVar Burton for a live benefit event in Los Angeles called<i> Reading Rainbow Live.</i> </b></p><div class=\\\"template asset\\\" data-edit_url=\\\"/projects/559914737/the-veronica-mars-movie-project/posts/895565/assets/2213440/edit\\\" data-id=\\\"2213440\\\"></div>\\r\\n\\r\\n<p>I don’t know all of the specifics, but I do know that Kristen, Enrico and Jason will be reading children’s books to a small crowd of children and their parents. I also know that all three of them are great narrators. (In fact, you’d never know it, but Kristen does great voices. One of these days, she’ll end up as a Disney princess and we’ll never be able to afford her again.)</p><h1>If you’d like to attend this one-time-only event with Kristen, Enrico, Jason and LeVar, you can <a href=\\\"http://bit.ly/RRL-VeronicaMars\\\" target=\\\"_blank\\\">get tickets now</a>.</h1><p>Even if you can’t afford the tickets, I’d still encourage you to check out their campaign, and to pledge if you can. Besides: even if you just give $1, you’ll still be able to say that you’re a backer of the <i>two</i> most-backed projects on Kickstarter. </p><p><b>Plus, the Reading Rainbow team will be GIVING AWAY 5 SETS OF TICKETS to the live event, and any <i>Veronica Mars</i> backer who also pledges to support <i>Reading Rainbow</i> — even for $1 — will be included for a chance to win.</b></p><p>You’ve only got until<b> this Wednesday, July 2, at 12PM PDT</b>.</p><p>—</p><p>That's all for today, but remember: we’re not done just yet. </p><p>Look for another update or two in July, gang.</p><p>Rob</p>\" comments_count=31 id=895565 likes_count=97 next_update_id=838927 project_id=1755266685 public=true published_at=1404162907 sequence=98 title=\"The Next Novel, The Teen Choice Awards... Plus, Our Live Event to Help Reading Rainbow!\" updated_at=1417870537 urls=#<Hashie::Mash api=#<Hashie::Mash comments=\"https://api.kickstarter.com/v1/projects/1755266685/updates/895565/comments?signature=1503842325.ea2c100177871eaa547b81059ad4feaa2562e32a\" update=\"https://api.kickstarter.com/v1/projects/1755266685/updates/895565?signature=1503842325.77aa7c57a90e137964b110f7b5f96cfaf335b4db\"> web=#<Hashie::Mash update=\"https://www.kickstarter.com/projects/559914737/the-veronica-mars-movie-project/posts/895565\">> visible=true>>, #<Kickscraper::Update:0x007f77b3d228a0 @raw=#<Hashie::Mash body=\"<p>Gang,</p><p>I know it’s been a while since the last update, but I haven’t forgotten about you. The last several weeks have been spent on non-stop editing of the iZOMBIE pilot, which is now complete, and — as of yesterday — <a href=\\\"http://www.deadline.com/2014/05/cw-series-orders-2014-flash-izombie-jane-the-virgin-messengers/\\\" target=\\\"_blank\\\">has been picked up</a> as a series. Next week, I’ll find out whether it’ll debut in the fall or as a mid-season replacement. Either way, we’ll be getting to work on it soon. </p><p>But now that I have a little bit more time, I wanted to send another update. I know that you received a message from Customer Support yesterday; if you’re still waiting on any of your rewards, I hope that you took the time to read it. </p><p>In case you didn’t, let me give you the quick version: </p><p><b>If you’re still missing or having problems with any of your Kickstarter rewards, please email info@theveronicamarsmovie.com ASAP and let them know.</b></p><p><b>After June 1, we won’t be able to help with unclaimed rewards, offer replacements, or issue any additional refunds – and we want to make sure you’re taken care of. </b></p><p>Now that we’ve cleared that up, let’s cover a few other updates.</p><h1>THE DVD &amp; BLU-RAY </h1><p> At this point, I hope that most of you — or at least, those of you who pledged at $50 and up — have received the promised DVD and/or Blu-ray versions of <i>Veronica Mars</i>. (If your rewards didn’t include a physical copy of the movie, it’s also available to <a href=\\\"https://www.facebook.com/TheVeronicaMarsMovie/app_546888952085092?ref=br_tf\\\" target=\\\"_blank\\\">purchase now</a>, in almost all countries.) </p><p><b>German and Austrian Backers:</b> I promise, if we were <i>allowed</i> to send your copies of the movie now, we would. The truth is, getting a German theatrical release required some different timing restrictions for releasing the DVD. You’ll receive your reward copies as <i>soon</i> as they are available for sale in your countries — as of now, I believe that will be around July 24. In the meantime, hopefully your digital copies will make it easier to wait.</p><h1>“BY THE FANS” – OUR BEHIND-THE-SCENES DOC </h1><p>Even without the DVD or Blu-Ray, I’m hoping most of you have already had the chance to watch the movie. When your DVD and Blu-ray arrive, however, I encourage you to spend a little time to watch <b><i>By The Fans</i></b>, our behind-the-scenes documentary about the Kickstarter campaign, the making of the movie, and — most of all — <i>your</i> role in making that possible.</p><p>We began shooting <i>By The Fans</i> on March 13, 2013 — the same morning we launched the Kickstarter campaign — and continued until just after our visit to San Diego Comic-Con in July. If you’ve been reading these updates, you’ll already have a good idea of what was happening behind-the-scenes, but there’s a lot more in the documentary. </p><p>If you’ve watched it, we’d love to hear what you thought. Let us know in the comments. </p><p>On a related note:</p><h1>A NEW KICKSTARTER, FROM THE GUY WHO BROUGHT YOU “BY THE FANS”... </h1><p>If you enjoy <i>By The Fans</i>, most of the credit goes to the talented young man who directed and co-edited it, Viet Nguyen. </p><p>Some of you might know that my relationship with Viet actually started more than twenty years ago in Austin, where I was his high school broadcast journalism advisor. Later, after he graduated from UT Film School, I hired him as a post-production PA on the first season of <i>Veronica Mars</i>. From there, Viet climbed to Assistant Editor on <i>Veronica Mars</i>, and we hired him as a full-fledged editor on <i>Party Down</i>. When we got together to create our Kickstarter launch video a couple years ago, Viet was the one who shot and edited it, and over the last several weeks, he worked with me to edit the iZOMBIE pilot. </p><p>What you probably <i>don’t</i> know is that Viet might also be responsible for my entire writing career. While I was his teacher, he secretly cut a video nominating me for Channel One Teacher of the Year. I didn't get the award, but Channel One offered me a job, and I moved out to Los Angeles. I quit my band in order to make the move, and I filled the creative void by writing my first novel, Rats Saw God, that year. I was 28 at the time. </p><p>So if you enjoyed <i>By The Fans</i> — or, in a sense, anything I’ve ever written — you can thank Viet. And if you’re not sure <i>how</i> to thank him, here’s my suggestion: </p><p><b>Help him out with the <a href=\\\"https://www.kickstarter.com/projects/viet-nguyen/crush-the-skull-horror-comedy-feature-film\\\" target=\\\"_blank\\\">Kickstarter <i>he</i> just launched</a> to finance his own feature film debut. </b></p><p>I already did. It’s based on two amazing short film thrillers that Viet has directed. I love both <i>Crush the Skull</i> <a href=\\\"https://www.youtube.com/watch?v=BBsrzEp-XSg\\\" target=\\\"_blank\\\">short</a> <a href=\\\"https://www.youtube.com/watch?v=9b38cDngY8Y\\\" target=\\\"_blank\\\">films</a>. If he can do these with a few hundred dollars, he'll kick a lot of ass with a few thousand dollars.\\r\\n</p><h1>A GUIDE TO NAME DROPPING</h1><p>In one of my last updates, I <a href=\\\"https://www.kickstarter.com/projects/559914737/the-veronica-mars-movie-project/posts/786855\\\" target=\\\"_blank\\\">pointed out the scene</a> in <i>Veronica Mars</i> which featured the “cameo appearance” of our $10,000 backer, Steven Dengler. Today, I thought I’d share another fun easter egg — or six easter eggs -- and reveal the Kickstarter backers whose names were included in the movie. </p><p><b>(Minor spoilers follow, if you haven't seen the movie yet.)</b></p><p><b>BACKER #1</b>. When we first see Piz, he’s working on a story for <i>This American Life</i> about a struggling artist named <b>Zhi Howes</b>. (This was probably a surprise to Zhi, since she is nine years old. The request to include her name came from her parents. I enjoyed the idea that a nine-year-old might already be considered passé.)\\r\\n </p><div class=\\\"template asset\\\" data-edit_url=\\\"/projects/559914737/the-veronica-mars-movie-project/posts/838927/assets/1989364/edit\\\" data-id=\\\"1989364\\\"></div><p><b>\\r\\nBACKER #2.</b> The second backer’s name turns up when Veronica is advising Logan on his choice of legal representation. We never meet her preferred lawyer on screen, but his name is <b>Jackson Frederick</b>.</p><div class=\\\"template asset\\\" data-edit_url=\\\"/projects/559914737/the-veronica-mars-movie-project/posts/838927/assets/1989366/edit\\\" data-id=\\\"1989366\\\"></div><p><b>BACKER #3.</b> Just a few minutes later, Veronica and Logan get a drink at The Beachcomber during karaoke night. The three Canadians who perform just before Ruby Jetson? <b>Art Tebbel </b>and the Mounties.</p><div class=\\\"template asset\\\" data-edit_url=\\\"/projects/559914737/the-veronica-mars-movie-project/posts/838927/assets/1989381/edit\\\" data-id=\\\"1989381\\\"></div><p><b>BACKER #4. </b>This one posed a challenge, because our backer - <b>Shauna Isobel Claiborne</b> - wanted us to include her middle name. I was happy to try, but had trouble finding somewhere that it sounded natural to speak a full name out loud. Instead, Shauna’s name appears as one of Veronica’s old aliases when she pulls out her PI supplies. (And, since she never got to hear her name in the movie, we sent Shauna the ID card as a souvenir.) </p><div class=\\\"template asset\\\" data-edit_url=\\\"/projects/559914737/the-veronica-mars-movie-project/posts/838927/assets/1989383/edit\\\" data-id=\\\"1989383\\\"></div><p><b>BACKER #5.</b> When Veronica, Mac and Wallace arrive at the Neptune High Reunion, Wallace sees an attractive single prospect named <b>Alexis Link </b>across the room, and remembers a deal that they made ten years earlier. (In a fun coincidence, Alexis herself appears in the reunion scene as an extra, but — to Wallace’s disappointment — ends up on Dick’s arm instead. Dick hands her his belt flask just before joining the brawl at the bar.)</p><div class=\\\"template asset\\\" data-edit_url=\\\"/projects/559914737/the-veronica-mars-movie-project/posts/838927/assets/1989385/edit\\\" data-id=\\\"1989385\\\"></div><p><b>BACKER #6.</b> During the Neptune Reunion award ceremony, Madison — in a rare moment of sincerity — awards the “Biggest Success Story” to <b>Patti Jackson</b>, \\\"for starting her own line of natural hair care products.” I found it interesting that this line often got a laugh from audiences. In real life, Patti Jackson did exactly that, launching her own line of <a href=\\\"http://www.lomaforhair.com/\\\" target=\\\"_blank\\\">all-natural salon products</a>. (Fun fact: Patti also appears in the movie, when Logan and Veronica meet at the airport.)</p><div class=\\\"template asset\\\" data-edit_url=\\\"/projects/559914737/the-veronica-mars-movie-project/posts/838927/assets/1989386/edit\\\" data-id=\\\"1989386\\\"></div><h1>A FINAL WORD ON TEAM T-SHIRTS. </h1><p>If you liked the Team T-Shirts we released on CafePress but were holding out for TEAM VERONICA or TEAM KEITH, you’re in luck: I'm told that we've now added those to the official selection on CafePress. </p><p>(Against my better judgement, I’ve also allowed a TEAM ROB shirt. Enjoy, Mom.)</p><div class=\\\"template asset\\\" data-edit_url=\\\"/projects/559914737/the-veronica-mars-movie-project/posts/838927/assets/1989388/edit\\\" data-id=\\\"1989388\\\"></div><p><b>You can see the full selection of official <a href=\\\"http://www.cafepress.com/veronicamars\\\" target=\\\"_blank\\\"><i>Veronica Mars</i> Fan Merchandise</a>, or go straight to the <a href=\\\"http://www.cafepress.com/veronicamars/11105076\\\" target=\\\"_blank\\\">Team T-Shirts</a>. </b></p><p>And, as before, the team at CafePress are offering a 15% discount on <i>all</i> Veronica Mars merchandise for the next week, if you use the code <b>PIRATES</b> when you check out.\\r\\n </p><p>---</p><p>That’s all for this time, but we’re not at the end just yet. Expect one or two more updates before the end of the month, with some behind-the-scenes information that we couldn’t share until the movie was released. </p><p><b>And remember: if you’re missing any of your rewards, please email info@theveronicamarsmovie.com right now and let Customer Support know, so that we can fix it before the deadline on June 1. </b></p><p>Rob</p>\" comments_count=26 id=838927 likes_count=86 next_update_id=836640 project_id=1755266685 public=true published_at=1399675580 sequence=97 title=\"DVDs, Documentaries, Easter Eggs & Team Shirts. Plus: another Kickstarter that needs your help!\" updated_at=1417870541 urls=#<Hashie::Mash api=#<Hashie::Mash comments=\"https://api.kickstarter.com/v1/projects/1755266685/updates/838927/comments?signature=1503842325.d08c79d41c9438f1a7a8fd78e84e43e471f0ccb9\" update=\"https://api.kickstarter.com/v1/projects/1755266685/updates/838927?signature=1503842325.a2a0f9d7090050eeb9062676683468facc11b5e3\"> web=#<Hashie::Mash update=\"https://www.kickstarter.com/projects/559914737/the-veronica-mars-movie-project/posts/838927\">> visible=true>>, #<Kickscraper::Update:0x007f77b3d227b0 @raw=#<Hashie::Mash body=\"<p>Dear Kickstarter Backers:</p><p>Hello from the Veronica Mars Customer Support Team! </p><p>It has been a real treat to be a part of this unprecedented project, and we can't thank you enough for all of the wonderful messages you've sent us. Now, as we wrap up the final details of the Kickstarter campaign, we wanted to provide some final details and instructions about getting ANY rewards that you might still be missing, before our support period ends. </p><p><b>PLEASE READ THIS CAREFULLY, because we don't want you to miss out!</b></p><h1>1. DVD and Blu-Ray Rewards </h1><p>Please note that we are in the final stages of shipping out the physical DVD and Blu-ray rewards for backers at the $50+ reward levels. If you are at the $50 reward level (or above), you may have already received your DVD or Blu-ray reward. <b>If you haven't, your DVD/Blu-ray should arrive no later than May 15th.</b> If it does not arrive by then, please contact Customer Support at info@theveronicamarsmovie.com so that we can help. </p><p><b>GERMAN AND AUSTRIAN BACKERS:</b> If your rewards include the DVD or Blu-ray/DVD Combo of the movie, we will be sending those to you during the fourth week of July, when the DVD and Blu-ray are released in your countries. <b>Please note we will no longer be offering German and Austrian DVD and Blu-Ray rewards after AUGUST 15, 2014.  </b></p><h1>2. If your address has changed... </h1><p>If you have moved since we last got your address, or if you receive a notification that your DVD/Blu-Ray rewards have been sent to an incorrect address, your <b>best option</b> is to contact your local post office and provide a forwarding address. </p><p>If that doesn't work, <b>please contact Customer Support at info@theveronicamarsmovie.com</b> and let us know your updated address, so we can make sure your rewards reach you. </p><h1>3. All missing rewards must be sent out by June 1, 2014. </h1><p>Unfortunately, we can't assign a <i>permanent</i> Customer Support team to this Kickstarter, and now that all rewards have been finished and sent out, we need to wrap up loose ends. As such: </p><p><b>WE WILL NOT BE ABLE TO SEND ANY ADDITIONAL KICKSTARTER REWARDS AFTER JUNE 1, 2014,</b> except for DVD/Blu-ray discs owed to German and Austrian backers. </p><p><b>If you are still waiting on rewards other than DVD’s or Blu-rays, PLEASE contact Customer Support at info@theveronicamarsmovie.com as soon as possible.</b> This will allow us enough time to fulfill any of your rewards before our JUNE 1, 2014 deadline.  </p><h1> \\r\\n4. All refunds must be issued by June 1, 2014. </h1><p>If you wish to request a refund for the digital download, or reimbursement for purchasing the movie from iTunes, Amazon or other digital retailers, please forward your receipt to info@theveronicamarsmovie.com ASAP, because <b>we will not be able to process any additional refunds after June 1, 2014. </b></p><p><b>GERMAN AND AUSTRIAN BACKERS: </b>  We will not be able to process refunds for the digital download or reimbursements for purchasing the movie from iTunes, Amazon or other digital retailers after August 1, 2014.</p><h1>5. If you have not heard back from Customer Support... </h1><p> ...it might be because our response got trapped in a Junk Mail folder or filter. </p><p>If you are still waiting for a response, and are not sure the email address for Customer Support is working, please do the following: </p><p>a. Double-check the address where you sent your request -- it should be <b>info@theveronicamarsmovie.com</b>. </p><p>b. Send us a message through Kickstarter AND INCLUDE YOUR EMAIL ADDRESS, so that Customer Support can respond to help address your problem.</p><p>Please note: if you need help, please know that we are NOT able to respond to requests and problems mentioned in the comments below this update, or here on the Kickstarter forums, because our Customer Support team has no way of contacting you. <b>To get help, we need you to contact us DIRECTLY at info@theveronicamarsmovie.com!</b></p><p>--- </p><p>We know that most of you have received your rewards, and we hope you're thrilled with them -- but if you haven't, PLEASE be sure to let us know so that we can help work out your remaining issues and get replacements out before June 1, while there is still time. </p><p>Sincerely,</p><p>Veronica Mars Customer Support</p>\" comments_count=42 id=836640 likes_count=79 next_update_id=806673 project_id=1755266685 public=true published_at=1399510869 sequence=96 title=\"If you're missing ANY rewards, please read this ASAP.\" updated_at=1417870552 urls=#<Hashie::Mash api=#<Hashie::Mash comments=\"https://api.kickstarter.com/v1/projects/1755266685/updates/836640/comments?signature=1503842325.7f50e5b1106e3e31c3d6dfe4053b72d5a8c96bf6\" update=\"https://api.kickstarter.com/v1/projects/1755266685/updates/836640?signature=1503842325.0267e909ba80baf3038cd4f3e1c213e4f82818a2\"> web=#<Hashie::Mash update=\"https://www.kickstarter.com/projects/559914737/the-veronica-mars-movie-project/posts/836640\">> visible=true>>, #<Kickscraper::Update:0x007f77b3d22760 @raw=#<Hashie::Mash body=\"<p>Gang,</p><p>I'm on the final day of shooting for iZOMBIE in Vancouver. Tomorrow, I head back to LA. Next week, I go back to the editing room to put together a first cut of the pilot.</p><p>I'm planning a longer update for you soon. We've been putting a few more fun things together behind-the-scenes, and I'm looking forward to sharing them with you.</p><p>Today, though, just one quick update:</p><h1>Chris Lowell Needs Your Help.</h1><p>Last October, Chris joined me at the Austin Film Festival for a panel about<i> Veronica Mars</i>. But while he was there, he also premiered his own passion project: an impressive film he wrote and directed called <i>Beside Still Waters</i>.</p><p>As our Kickstarter winds down, Chris has launched <a href=\\\"https://www.kickstarter.com/projects/chrislowell/beside-still-waters-a-chris-lowell-film\\\" target=\\\"_blank\\\">a Kickstarter of his own</a>, to help <i>Beside Still Waters</i> reach the widest possible audience. And while it didn't take him long to meet his minimum goal, he still needs your help. I'll let him explain. </p><div class=\\\"template asset\\\" data-id=\\\"1865115\\\"></div><p>He also sent this message:</p><p><b>Marshmallows!</b></p><p><b>Thank you so much for checking out <i>Beside Still Waters</i>! Like <i>Veronica Mars</i>, we knew there were people out there who wanted to see this film, but we had no idea the response would be so incredible. Already, we’ve almost doubled our initial goal, and I hope we can continue our momentum. ALL of the money we raise is going directly toward distributing the movie, and the more money we raise (and the more backers we have) DIRECTLY AFFECTS the number of theaters we can screen the film, which means more people will have a chance to see it, which means independent cinema gets to take a much-needed victory lap! You guys already made history with <i>Veronica Mars</i>. I hope you'll help us do it again with <i>Beside Still Waters</i>.</b></p><p><b>Thank you thank you thank you,</b></p><p><b>Chris Lowell</b></p><p>---</p><p>Rob again.</p><p>I've contributed, and I'll tell you this: the Backer Updates alone have already been worth the price of admission. Chris is a smart kid, with a bright future in front of him. Now is the perfect time to get on his good side. </p><p>(Also, if you're feeling bad for Piz, helping Chris will make you feel better. Trust me on that one.)</p><p>More soon, </p><p>Rob \\r\\n</p>\" comments_count=29 id=806673 likes_count=105 next_update_id=800268 project_id=1755266685 public=true published_at=1397169885 sequence=95 title=\"Marshmallows: Chris needs you.\" updated_at=1417870556 urls=#<Hashie::Mash api=#<Hashie::Mash comments=\"https://api.kickstarter.com/v1/projects/1755266685/updates/806673/comments?signature=1503842325.b6540829e0b848736ef013383b7b1ed0236772da\" update=\"https://api.kickstarter.com/v1/projects/1755266685/updates/806673?signature=1503842325.da43cc4b5ae43829001183828abf8abda358ce30\"> web=#<Hashie::Mash update=\"https://www.kickstarter.com/projects/559914737/the-veronica-mars-movie-project/posts/806673\">> visible=true>>, #<Kickscraper::Update:0x007f77b3d22710 @raw=#<Hashie::Mash body=\"<p>Gang,</p><p>I'm still in Vancouver, and the end of shooting on <a href=\\\"https://www.kickstarter.com/projects/559914737/the-veronica-mars-movie-project/posts/735902\\\" target=\\\"_blank\\\">the iZOMBIE pilot</a> is approaching quickly, so I'll keep this brief.</p><p>Today, three more quick updates, covering new theatrical locations, a few more links, and a last-minute chance to help establish Veronica as a dark horse candidate for the MTV Movie Awards.</p><h1>New Theaters for Week 4</h1><p>We're now entering the fourth weekend since <i>Veronica Mars</i> was released, which means that -- in many locations -- the movie's theatrical run has ended, or will soon. (If you've been meaning to see the movie in a theater, and it's still playing near you, you might want to get tickets while you still can.)</p><p>But since we want as many backers as possible to have a chance to see the movie in theaters, Warner Bros. is still working to bring the movie to a few more theatrical markets in the United States.</p><p><b>Starting today, <i>Veronica Mars</i> will add theatrical screenings in (or near) these locations:</b></p><ul>\\n<li>IA: Davenport</li>\\r\\n<li>IA: Shreveport</li>\\r\\n<li>\\r\\nMO: Columbia</li>\\r\\n<li>MN: Rochester</li>\\r\\n<li>NE: Lincoln\\r\\n</li>\\r\\n</ul><p>Finally, while I don't expect we'll be able to add many more locations after this weekend, we <i>are</i> still working on 1-2 final locations – so Hawaiian backers, don't give up just yet. No promises, but I'm hoping we'll have good news for you soon.</p><h1>MTV Movie Awards: Veronica for Best Character?</h1><p>A few months ago, I <a href=\\\"https://www.kickstarter.com/projects/559914737/the-veronica-mars-movie-project/posts/728883\\\" target=\\\"_blank\\\">invited you to help our movie</a> win the MTV Movie Brawl. The Hunger Games had us on the ropes. A week later, <a href=\\\"http://www.mtv.com/news/articles/1721509/veronica-mars-mtv-movie-brawl.jhtml\\\" target=\\\"_blank\\\">we won the entire tournament</a>.</p><p><b>Now, Veronica is facing an even more difficult challenge, as the underdog challenger for <a href=\\\"http://www.mtv.com/news/articles/1725192/best-character-movie-awards.jhtml\\\" target=\\\"_blank\\\">\\\"Best Character\\\" in this year's MTV Movie Awards</a>.</b> Sure, it's an honor just to be nominated, but right now, we're in last place, and facing some really stiff competition. I don't know whether we can <i>win</i>, but I'll tell you this: I'm betting we can get out of last place. We've got one week left until the MTV Movie Awards, so if you want to remind MTV to never undercount the sassy, here's another chance.</p><h1>To cast a vote, just include #VoteVeronicaMars in any tweet – and you can vote as many times as you want between now and Sunday, April 13.</h1><p>And, fun fact: the 2014 MTV Movie Awards will be held on April 13… exactly one year after our Kickstarter campaign ended.</p><h1>Video from PaleyFest! A podcast from KCRW!</h1><p>Finally, a few more links for anyone suffering <i>Veronica Mars</i> withdrawal. </p><p>If you weren't able to catch the livestream of our panel at <b>PALEYFEST</b>, we're still waiting to find out whether we can get a full video to share with you. </p><p>For now, the Paley Center has <a href=\\\"https://www.youtube.com/watch?v=TAQK0w5Dw8E\\\" target=\\\"_blank\\\">posted this excerpt</a>:</p><div class=\\\"template oembed\\\" data-href=\\\"https://www.youtube.com/watch?v=TAQK0w5Dw8E\\\"><a href=\\\"https://www.youtube.com/watch?v=TAQK0w5Dw8E\\\" target=\\\"_blank\\\">https://www.youtube.com/watch?v=TAQK0w5Dw8E</a></div><p>Or, if you prefer listening to watching, <b>KCRW's <i>The Business</i> </b>podcast <a href=\\\"http://www.kcrw.com/etc/programs/tb/tb140324making_veronica_mars\\\" target=\\\"_blank\\\">has a fun segment</a> about Veronica, Kickstarter, and what our movie might mean for the future.</p><p>--</p><p>That's all for now. More next week, gang.</p><p>Rob</p>\" comments_count=26 id=800268 likes_count=74 next_update_id=791456 project_id=1755266685 public=true published_at=1396637874 sequence=94 title=\"More Theaters & More Links. Plus: Another MTV Vote-Off!\" updated_at=1417870564 urls=#<Hashie::Mash api=#<Hashie::Mash comments=\"https://api.kickstarter.com/v1/projects/1755266685/updates/800268/comments?signature=1503842325.11daf95653cba989359aa5670eed0abb3e7fbffe\" update=\"https://api.kickstarter.com/v1/projects/1755266685/updates/800268?signature=1503842325.5442afb9ebd67a73022dbb338eead0740dacdd32\"> web=#<Hashie::Mash update=\"https://www.kickstarter.com/projects/559914737/the-veronica-mars-movie-project/posts/800268\">> visible=true>>, #<Kickscraper::Update:0x007f77b3d225f8 @raw=#<Hashie::Mash comments_count=50 id=791456 likes_count=87 next_update_id=787843 project_id=1755266685 public=false published_at=1395955497 sequence=93 title=\"More Theatrical Locations! Austrian Fan Screenings! Plus: more links!\" updated_at=1403946944 urls=#<Hashie::Mash api=#<Hashie::Mash update=\"https://api.kickstarter.com/v1/projects/1755266685/updates/791456?signature=1503842325.9e827a9e65a7b492154c4644223500b6a80b06bc\"> web=#<Hashie::Mash update=\"https://www.kickstarter.com/projects/559914737/the-veronica-mars-movie-project/posts/791456\">> visible=nil>>]"
      ]
     },
     "execution_count": 15,
     "metadata": {},
     "output_type": "execute_result"
    }
   ],
   "source": [
    "# and view their rewards or updates, in addition to any of the data found in the \"keys\"\n",
    "vm = c.search_projects('veronica mars').first\n",
    "vm.updates\n"
   ]
  },
  {
   "cell_type": "code",
   "execution_count": 16,
   "metadata": {
    "collapsed": false
   },
   "outputs": [
    {
     "data": {
      "text/plain": [
       "true"
      ]
     },
     "execution_count": 16,
     "metadata": {},
     "output_type": "execute_result"
    }
   ],
   "source": [
    "vm.successful?"
   ]
  },
  {
   "cell_type": "code",
   "execution_count": 17,
   "metadata": {
    "collapsed": false
   },
   "outputs": [
    {
     "data": {
      "text/plain": [
       "\"https://ksr-video.imgix.net/projects/56284/video-238582-h264_high.mp4\""
      ]
     },
     "execution_count": 17,
     "metadata": {},
     "output_type": "execute_result"
    }
   ],
   "source": [
    "vm.video.high\n"
   ]
  },
  {
   "cell_type": "code",
   "execution_count": 18,
   "metadata": {
    "collapsed": false
   },
   "outputs": [
    {
     "data": {
      "text/plain": [
       "[<Project: 'GOZPA Paz y Moda'>, <Project: 'Our Reality Show'>, <Project: 'Cyberhacker Club X'>, <Project: 'Can I Recognize Your Soul'>, <Project: 'Kiki's Delivery Service / Harry Potter Enamel Pins'>, <Project: 'Architectural Modernity: the Other Face of Europe'>, <Project: 'Can't Find Your Mobile? We can help, with PinPoint My Device'>, <Project: 'Tomb Raider - Lara Croft Fanfilm'>, <Project: 'Sheep Counting Dice - Sleep tight!'>, <Project: 'We make awesome socks.'>, <Project: 'Grapes Socks | Unique and different quality socks'>, <Project: 'International \"Fire Rescue\" Project'>]"
      ]
     },
     "execution_count": 18,
     "metadata": {},
     "output_type": "execute_result"
    }
   ],
   "source": [
    "# When searching for projects (or using convenient methods like recently_launched_projects()),\n",
    "# you can continue the search until Kickstarter returns no more results\n",
    "c.recently_launched_projects"
   ]
  },
  {
   "cell_type": "code",
   "execution_count": 19,
   "metadata": {
    "collapsed": false
   },
   "outputs": [
    {
     "data": {
      "text/plain": [
       "[<Project: 'Prosopagnosia: the independent free downloadable music album'>, <Project: 'CHRONO by Chrono Collective is going to print.'>, <Project: '\"Get Chickd\"'>, <Project: 'Idle Lands – Embezzlement, land-grabbing and broken promises'>, <Project: 'Mairearad Green & Mike Vass - Day a Month'>, <Project: 'the BIG institute. 11 TED-style lectures to change the world'>, <Project: 'Pokeri -videopoker playing cards'>, <Project: 'Learn to cross stitch kit - World of Warcraft Horde logo'>, <Project: 'site internet de commandes personnalisées basée sur l’art'>, <Project: 'A Streamer's Best Friend'>, <Project: 'GetBack Stickers: The Simplest Way To Find Your Lost Items'>, <Project: 'Carreducker Tor Boot'>]"
      ]
     },
     "execution_count": 19,
     "metadata": {},
     "output_type": "execute_result"
    }
   ],
   "source": [
    "c.load_more_projects if c.more_projects_available?"
   ]
  },
  {
   "cell_type": "code",
   "execution_count": 20,
   "metadata": {
    "collapsed": false
   },
   "outputs": [
    {
     "data": {
      "text/plain": [
       "[<Project: 'Portable Recording Studios'>, <Project: 'Comic Book Factory'>, <Project: 'Greeting Cards & Pen Pals - Projects of Earth'>, <Project: 'Plant(Flower)-lovers Network on Internet'>, <Project: 'Karl Kämpe Äventyraren: Den Enda Kvinnan'>, <Project: 'Wargaming and Roleplaying'>, <Project: 'Amelia & Holly's Compassionate Canine Campaign: Part 1'>, <Project: 'DEKU FOR ALL - FANBOOK YAOI My Hero Academia'>, <Project: 'Untitled history of the Human Condition'>, <Project: 'Liquid with Literacy'>, <Project: 'Anxiety Hackers: The Real Cure to Anxiety'>, <Project: 'Char Lottess - Romantic Rose for Elegant Lady in Modern Way'>]"
      ]
     },
     "execution_count": 20,
     "metadata": {},
     "output_type": "execute_result"
    }
   ],
   "source": [
    "c.load_more_projects if c.more_projects_available?"
   ]
  },
  {
   "cell_type": "code",
   "execution_count": 21,
   "metadata": {
    "collapsed": false
   },
   "outputs": [
    {
     "data": {
      "text/plain": [
       "[<Project: 'Voyage of the Curious Heart! by lunaliliputian'>, <Project: 'Moon Mousse™ : Magic Makeup Repair'>, <Project: 'Kindness for Weakness'>, <Project: 'Monster Wings (Short Film)'>, <Project: 'Voices The Stage Play by Tony Roberts'>, <Project: 'The Growth Network'>, <Project: 'Normal'>, <Project: 'Celestial Pulse: Printing 5-Issues'>, <Project: 'Tea Cup Planter Pin'>, <Project: 'Revolutionise your shower today'>, <Project: 'Yum Yum Dim Sum Food Truck Phenomena!'>, <Project: 'Real World Fishing AR/VR - Projects of Earth'>]"
      ]
     },
     "execution_count": 21,
     "metadata": {},
     "output_type": "execute_result"
    }
   ],
   "source": [
    "c.load_more_projects if c.more_projects_available?"
   ]
  },
  {
   "cell_type": "markdown",
   "metadata": {},
   "source": [
    "# Categories"
   ]
  },
  {
   "cell_type": "code",
   "execution_count": 22,
   "metadata": {
    "collapsed": false,
    "scrolled": true
   },
   "outputs": [
    {
     "data": {
      "text/plain": [
       "[<Category: 'Art'>, <Category: 'Anthologies'>, <Category: 'Performances'>, <Category: 'Architecture'>, <Category: 'Accessories'>, <Category: 'Gaming Hardware'>, <Category: 'Animals'>, <Category: 'Ceramics'>, <Category: 'Action'>, <Category: 'Bacon'>, <Category: 'Blues'>, <Category: 'Academic'>, <Category: '3D Printing'>, <Category: 'Candles'>, <Category: 'Audio'>, <Category: 'Comedy'>, <Category: 'Comics'>, <Category: 'Conceptual Art'>, <Category: 'Animation'>, <Category: 'Comic Books'>, <Category: 'Residencies'>, <Category: 'Civic Design'>, <Category: 'Apparel'>, <Category: 'Live Games'>, <Category: 'Fine Art'>, <Category: 'Experimental'>, <Category: 'Community Gardens'>, <Category: 'Chiptune'>, <Category: 'Anthologies'>, <Category: 'Apps'>, <Category: 'Crochet'>, <Category: 'Photo'>, <Category: 'Digital Art'>, <Category: 'Crafts'>, <Category: 'Graphic Design'>, <Category: 'Classical Music'>, <Category: 'Art Books'>, <Category: 'Events'>, <Category: 'Spaces'>, <Category: 'Childrenswear'>, <Category: 'Mobile Games'>, <Category: 'Nature'>, <Category: 'Festivals'>, <Category: 'Comedy'>, <Category: 'Cookbooks'>, <Category: 'Camera Equipment'>, <Category: 'DIY'>, <Category: 'Print'>, <Category: 'Dance'>, <Category: 'Illustration'>, <Category: 'Documentary'>, <Category: 'Graphic Novels'>, <Category: 'Workshops'>, <Category: 'Interactive Design'>, <Category: 'Couture'>, <Category: 'Playing Cards'>, <Category: 'People'>, <Category: 'Immersive'>, <Category: 'Drinks'>, <Category: 'Calendars'>, <Category: 'DIY Electronics'>, <Category: 'Embroidery'>, <Category: 'Video'>, <Category: 'Comedy'>, <Category: 'Design'>, <Category: 'Product Design'>, <Category: 'Country & Folk'>, <Category: 'Children's Books'>, <Category: 'Webcomics'>, <Category: 'Footwear'>, <Category: 'Puzzles'>, <Category: 'Photobooks'>, <Category: 'Musical'>, <Category: 'Installations'>, <Category: 'Drama'>, <Category: 'Events'>, <Category: 'Fabrication Tools'>, <Category: 'Glass'>, <Category: 'Web'>, <Category: 'Fashion'>, <Category: 'Tabletop Games'>, <Category: 'Electronic Music'>, <Category: 'Mixed Media'>, <Category: 'Typography'>, <Category: 'Jewelry'>, <Category: 'Places'>, <Category: 'Plays'>, <Category: 'Experimental'>, <Category: 'Farmer's Markets'>, <Category: 'Flight'>, <Category: 'Knitting'>, <Category: 'Comedy'>, <Category: 'Film & Video'>, <Category: 'Painting'>, <Category: 'Video Games'>, <Category: 'Fiction'>, <Category: 'Pet Fashion'>, <Category: 'Spaces'>, <Category: 'Farms'>, <Category: 'Faith'>, <Category: 'Family'>, <Category: 'Gadgets'>, <Category: 'Letterpress'>, <Category: 'Food'>, <Category: 'Performance Art'>, <Category: 'Hip-Hop'>, <Category: 'Hardware'>, <Category: 'Ready-to-wear'>, <Category: 'Fantasy'>, <Category: 'Food Trucks'>, <Category: 'Literary Journals'>, <Category: 'Pottery'>, <Category: 'Games'>, <Category: 'Indie Rock'>, <Category: 'Nonfiction'>, <Category: 'Public Art'>, <Category: 'Festivals'>, <Category: 'Restaurants'>, <Category: 'Printing'>, <Category: 'Makerspaces'>, <Category: 'Journalism'>, <Category: 'Sculpture'>, <Category: 'Jazz'>, <Category: 'Periodicals'>, <Category: 'Horror'>, <Category: 'Small Batch'>, <Category: 'Robots'>, <Category: 'Quilts'>, <Category: 'Music'>, <Category: 'Poetry'>, <Category: 'Software'>, <Category: 'Textiles'>, <Category: 'Movie Theaters'>, <Category: 'Spaces'>, <Category: 'Kids'>, <Category: 'Stationery'>, <Category: 'Photography'>, <Category: 'Radio & Podcasts'>, <Category: 'Video Art'>, <Category: 'Music Videos'>, <Category: 'Vegan'>, <Category: 'Latin'>, <Category: 'Sound'>, <Category: 'Taxidermy'>, <Category: 'Publishing'>, <Category: 'Narrative Film'>, <Category: 'Metal'>, <Category: 'Translations'>, <Category: 'Space Exploration'>, <Category: 'Weaving'>, <Category: 'Technology'>, <Category: 'Pop'>, <Category: 'Romance'>, <Category: 'Young Adult'>, <Category: 'Wearables'>, <Category: 'Woodworking'>, <Category: 'Theater'>, <Category: 'Science Fiction'>, <Category: 'Punk'>, <Category: 'Zines'>, <Category: 'Web'>, <Category: 'Shorts'>, <Category: 'R&B'>, <Category: 'Literary Spaces'>, <Category: 'Rock'>, <Category: 'Television'>, <Category: 'World Music'>, <Category: 'Thrillers'>, <Category: 'Webseries'>]"
      ]
     },
     "execution_count": 22,
     "metadata": {},
     "output_type": "execute_result"
    }
   ],
   "source": [
    "# Get info about Kickstarter categories or find projects by category\n",
    "c.categories"
   ]
  },
  {
   "cell_type": "code",
   "execution_count": 23,
   "metadata": {
    "collapsed": false
   },
   "outputs": [
    {
     "data": {
      "text/plain": [
       "<Category: 'Technology'>"
      ]
     },
     "execution_count": 23,
     "metadata": {},
     "output_type": "execute_result"
    }
   ],
   "source": [
    "category = c.category('Technology')"
   ]
  },
  {
   "cell_type": "code",
   "execution_count": 24,
   "metadata": {
    "collapsed": false
   },
   "outputs": [
    {
     "data": {
      "text/plain": [
       "[\"id\", \"name\", \"slug\", \"position\", \"color\", \"urls\", \"projects_count\"]"
      ]
     },
     "execution_count": 24,
     "metadata": {},
     "output_type": "execute_result"
    }
   ],
   "source": [
    "category.keys"
   ]
  },
  {
   "cell_type": "code",
   "execution_count": 25,
   "metadata": {
    "collapsed": false
   },
   "outputs": [
    {
     "data": {
      "text/plain": [
       "502"
      ]
     },
     "execution_count": 25,
     "metadata": {},
     "output_type": "execute_result"
    }
   ],
   "source": [
    "category.projects_count"
   ]
  },
  {
   "cell_type": "code",
   "execution_count": 26,
   "metadata": {
    "collapsed": false
   },
   "outputs": [
    {
     "data": {
      "text/plain": [
       "[<Project: 'Algobrix | The Ultimate Coding Learning Game'>, <Project: 'Waylens Secure360 with 4G - Automotive Security Camera'>, <Project: 'Aloe App: Gentle self-care reminders from yourself'>, <Project: 'MiniS Magnetic Speakers: 360° Sound - Anywhere, Anytime'>, <Project: 'Specdrums: Music at Your Fingertips'>, <Project: 'Luna Display'>, <Project: 'Coding Unicorn Shield for Raspberry and Arduino'>, <Project: 'Polyfuge: A DIY Open-Source Microcentrifuge for Everyone'>, <Project: 'HEXA: Programmable, Highly Maneuverable Robot'>, <Project: 'Next generation battery-free safety light, now for everyone!'>, <Project: 'PELDA Pro - The First Nintendo Switch Battery Case with HDMI'>, <Project: 'CrazyPi - The True Robot Kit For DIY Robot Lovers'>]"
      ]
     },
     "execution_count": 26,
     "metadata": {},
     "output_type": "execute_result"
    }
   ],
   "source": [
    "category_projects = category.projects"
   ]
  },
  {
   "cell_type": "code",
   "execution_count": null,
   "metadata": {
    "collapsed": true
   },
   "outputs": [],
   "source": []
  }
 ],
 "metadata": {
  "kernelspec": {
   "display_name": "Ruby 2.4.1",
   "language": "ruby",
   "name": "ruby"
  },
  "language_info": {
   "file_extension": ".rb",
   "mimetype": "application/x-ruby",
   "name": "ruby",
   "version": "2.4.1"
  }
 },
 "nbformat": 4,
 "nbformat_minor": 2
}
