{
 "cells": [
  {
   "cell_type": "code",
   "execution_count": 4,
   "metadata": {
    "collapsed": false
   },
   "outputs": [
    {
     "data": {
      "text/plain": [
       "false"
      ]
     },
     "execution_count": 4,
     "metadata": {},
     "output_type": "execute_result"
    }
   ],
   "source": [
    "require 'rubygems'\n"
   ]
  },
  {
   "cell_type": "code",
   "execution_count": 13,
   "metadata": {
    "collapsed": false
   },
   "outputs": [
    {
     "name": "stderr",
     "output_type": "stream",
     "text": [
      "NOTE: Dependency.new w/ a regexp is deprecated.\n",
      "Dependency.new called from <main>:1\n"
     ]
    },
    {
     "ename": "ArgumentError",
     "evalue": "wrong number of arguments (given 1, expected 0)",
     "output_type": "error",
     "traceback": [
      "\u001b[31mArgumentError\u001b[0m: wrong number of arguments (given 1, expected 0)",
      "\u001b[37m/home/nahmed/.rbenv/versions/2.4.1/lib/ruby/2.4.0/rubygems/source_list.rb:90:in `each'\u001b[0m",
      "\u001b[37m<main>:2:in `<main>'\u001b[0m",
      "\u001b[37m/home/nahmed/.rbenv/versions/2.4.1/lib/ruby/gems/2.4.0/gems/iruby-0.3/lib/iruby/backend.rb:44:in `eval'\u001b[0m",
      "\u001b[37m/home/nahmed/.rbenv/versions/2.4.1/lib/ruby/gems/2.4.0/gems/iruby-0.3/lib/iruby/backend.rb:44:in `eval'\u001b[0m",
      "\u001b[37m/home/nahmed/.rbenv/versions/2.4.1/lib/ruby/gems/2.4.0/gems/iruby-0.3/lib/iruby/backend.rb:12:in `eval'\u001b[0m",
      "\u001b[37m/home/nahmed/.rbenv/versions/2.4.1/lib/ruby/gems/2.4.0/gems/iruby-0.3/lib/iruby/kernel.rb:87:in `execute_request'\u001b[0m",
      "\u001b[37m/home/nahmed/.rbenv/versions/2.4.1/lib/ruby/gems/2.4.0/gems/iruby-0.3/lib/iruby/kernel.rb:47:in `dispatch'\u001b[0m",
      "\u001b[37m/home/nahmed/.rbenv/versions/2.4.1/lib/ruby/gems/2.4.0/gems/iruby-0.3/lib/iruby/kernel.rb:37:in `run'\u001b[0m",
      "\u001b[37m/home/nahmed/.rbenv/versions/2.4.1/lib/ruby/gems/2.4.0/gems/iruby-0.3/lib/iruby/command.rb:70:in `run_kernel'\u001b[0m",
      "\u001b[37m/home/nahmed/.rbenv/versions/2.4.1/lib/ruby/gems/2.4.0/gems/iruby-0.3/lib/iruby/command.rb:34:in `run'\u001b[0m",
      "\u001b[37m/home/nahmed/.rbenv/versions/2.4.1/lib/ruby/gems/2.4.0/gems/iruby-0.3/bin/iruby:5:in `<top (required)>'\u001b[0m",
      "\u001b[37m/home/nahmed/.rbenv/versions/2.4.1/bin/iruby:22:in `load'\u001b[0m",
      "\u001b[37m/home/nahmed/.rbenv/versions/2.4.1/bin/iruby:22:in `<main>'\u001b[0m"
     ]
    }
   ],
   "source": [
    "name = /^/i\n",
    "dep = Gem::Dependency.new(name, Gem::Requirement.default)\n",
    "specs = Gem.sources.each(dep)\n",
    "puts specs[0..5].map{ |s| \"#{s.name} #{s.version}\" }"
   ]
  },
  {
   "cell_type": "code",
   "execution_count": 14,
   "metadata": {
    "collapsed": false
   },
   "outputs": [
    {
     "data": {
      "text/plain": [
       ":local_gems"
      ]
     },
     "execution_count": 14,
     "metadata": {},
     "output_type": "execute_result"
    }
   ],
   "source": [
    "require 'rubygems'\n",
    "\n",
    "# Because local_gems relies on group_by, it returns a hash of the gems, \n",
    "# where the key is the gem's name, and the value is an array of the gem specifications. \n",
    "# The value is an array of the instances of that gem that is installed, sorted by the version number.\n",
    "\n",
    "def local_gems\n",
    "   Gem::Specification.sort_by{ |g| [g.name.downcase, g.version] }.group_by{ |g| g.name }\n",
    "end"
   ]
  },
  {
   "cell_type": "code",
   "execution_count": 16,
   "metadata": {
    "collapsed": false
   },
   "outputs": [
    {
     "data": {
      "text/plain": [
       "{\"bigdecimal\"=>[#<Gem::Specification:0x3ff22638f740 bigdecimal-1.3.0>], \"bond\"=>[#<Gem::Specification:0x3ff2262f9b3c bond-0.5.1>], \"czmq-ffi-gen\"=>[#<Gem::Specification:0x3ff22647c248 czmq-ffi-gen-0.13.0>], \"cztop\"=>[#<Gem::Specification:0x3ff226483250 cztop-0.11.4>], \"data_uri\"=>[#<Gem::Specification:0x3ff2263b5be8 data_uri-0.1.0>], \"did_you_mean\"=>[#<Gem::Specification:0x3ff226350b08 did_you_mean-1.1.0>], \"ffi\"=>[#<Gem::Specification:0x3ff22647653c ffi-1.9.18>], \"io-console\"=>[#<Gem::Specification:0x3ff226350b1c io-console-0.4.6>], \"iruby\"=>[#<Gem::Specification:0x3ff226300a90 iruby-0.3>], \"json\"=>[#<Gem::Specification:0x3ff226341aa4 json-2.0.2>], \"mimemagic\"=>[#<Gem::Specification:0x3ff226241654 mimemagic-0.3.2>], \"minitest\"=>[#<Gem::Specification:0x3ff226450800 minitest-5.10.1>], \"multi_json\"=>[#<Gem::Specification:0x3ff2262cee78 multi_json-1.12.1>], \"net-telnet\"=>[#<Gem::Specification:0x3ff22644c7c8 net-telnet-0.1.1>], \"openssl\"=>[#<Gem::Specification:0x3ff22632dcc0 openssl-2.0.3>], \"power_assert\"=>[#<Gem::Specification:0x3ff2263b4928 power_assert-0.4.1>], \"psych\"=>[#<Gem::Specification:0x3ff2262ce6d0 psych-2.2.2>], \"rake\"=>[#<Gem::Specification:0x3ff22639aca8 rake-12.0.0>], \"rbczmq\"=>[#<Gem::Specification:0x3ff22633cf54 rbczmq-1.7.9>], \"rdoc\"=>[#<Gem::Specification:0x3ff22639e4e8 rdoc-5.0.0>], \"test-unit\"=>[#<Gem::Specification:0x3ff22638baa0 test-unit-3.2.3>], \"xmlrpc\"=>[#<Gem::Specification:0x3ff226350a54 xmlrpc-0.2.1>]}"
      ]
     },
     "execution_count": 16,
     "metadata": {},
     "output_type": "execute_result"
    }
   ],
   "source": [
    "local_gems()"
   ]
  },
  {
   "cell_type": "code",
   "execution_count": 1,
   "metadata": {
    "collapsed": false
   },
   "outputs": [
    {
     "data": {
      "text/plain": [
       "true"
      ]
     },
     "execution_count": 1,
     "metadata": {},
     "output_type": "execute_result"
    }
   ],
   "source": [
    "require 'kickscraper'"
   ]
  },
  {
   "cell_type": "code",
   "execution_count": null,
   "metadata": {
    "collapsed": false
   },
   "outputs": [],
   "source": [
    "\n"
   ]
  },
  {
   "cell_type": "code",
   "execution_count": null,
   "metadata": {
    "collapsed": true
   },
   "outputs": [],
   "source": []
  }
 ],
 "metadata": {
  "kernelspec": {
   "display_name": "Ruby 2.4.1",
   "language": "ruby",
   "name": "ruby"
  },
  "language_info": {
   "file_extension": ".rb",
   "mimetype": "application/x-ruby",
   "name": "ruby",
   "version": "2.4.1"
  }
 },
 "nbformat": 4,
 "nbformat_minor": 2
}
