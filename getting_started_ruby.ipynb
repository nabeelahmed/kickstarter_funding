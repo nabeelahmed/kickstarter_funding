{
 "cells": [
  {
   "cell_type": "code",
   "execution_count": 1,
   "metadata": {
    "collapsed": false
   },
   "outputs": [
    {
     "data": {
      "text/plain": [
       "false"
      ]
     },
     "execution_count": 1,
     "metadata": {},
     "output_type": "execute_result"
    }
   ],
   "source": [
    "require 'rubygems'"
   ]
  },
  {
   "cell_type": "code",
   "execution_count": 2,
   "metadata": {
    "collapsed": false
   },
   "outputs": [],
   "source": [
    "# name = /^/i\n",
    "# specs = Gem.sources.each()\n",
    "# dep = Gem::Dependency.new(name, Gem::Requirement.default)\n",
    "# puts specs[0..5].map{ |s| \"#{s.name} #{s.version}\" }"
   ]
  },
  {
   "cell_type": "code",
   "execution_count": 3,
   "metadata": {
    "collapsed": false
   },
   "outputs": [
    {
     "data": {
      "text/plain": [
       ":local_gems"
      ]
     },
     "execution_count": 3,
     "metadata": {},
     "output_type": "execute_result"
    }
   ],
   "source": [
    "require 'rubygems'\n",
    "\n",
    "# Because local_gems relies on group_by, it returns a hash of the gems, \n",
    "# where the key is the gem's name, and the value is an array of the gem specifications. \n",
    "# The value is an array of the instances of that gem that is installed, sorted by the version number.\n",
    "\n",
    "def local_gems\n",
    "   Gem::Specification.sort_by{ |g| [g.name.downcase, g.version] }.group_by{ |g| g.name }\n",
    "end"
   ]
  },
  {
   "cell_type": "code",
   "execution_count": 4,
   "metadata": {
    "collapsed": false
   },
   "outputs": [
    {
     "data": {
      "text/plain": [
       "{\"bigdecimal\"=>[#<Gem::Specification:0x3fc7fe3455d4 bigdecimal-1.3.0>], \"bond\"=>[#<Gem::Specification:0x3fc7fe2b1b04 bond-0.5.1>], \"czmq-ffi-gen\"=>[#<Gem::Specification:0x3fc7fe433dc4 czmq-ffi-gen-0.13.0>], \"cztop\"=>[#<Gem::Specification:0x3fc7fe43ae44 cztop-0.11.4>], \"data_uri\"=>[#<Gem::Specification:0x3fc7fe36db9c data_uri-0.1.0>], \"did_you_mean\"=>[#<Gem::Specification:0x3fc7fe306b7c did_you_mean-1.1.0>], \"faraday\"=>[#<Gem::Specification:0x3fc7fe346a9c faraday-0.8.11>], \"faraday_middleware\"=>[#<Gem::Specification:0x3fc7fe36d660 faraday_middleware-0.12.2>], \"ffi\"=>[#<Gem::Specification:0x3fc7fe42e108 ffi-1.9.18>], \"hashie\"=>[#<Gem::Specification:0x3fc7fe40a398 hashie-2.1.2>], \"io-console\"=>[#<Gem::Specification:0x3fc7fe306910 io-console-0.4.6>], \"iruby\"=>[#<Gem::Specification:0x3fc7fe2b8c10 iruby-0.3>], \"json\"=>[#<Gem::Specification:0x3fc7fe2f5c50 json-2.0.2>], \"kickscraper\"=>[#<Gem::Specification:0x3fc7fe40fa3c kickscraper-0.2.3>], \"mimemagic\"=>[#<Gem::Specification:0x3fc7fe1f9374 mimemagic-0.3.2>], \"minitest\"=>[#<Gem::Specification:0x3fc7fe417480 minitest-5.10.1>], \"multi_json\"=>[#<Gem::Specification:0x3fc7fe286da0 multi_json-1.12.1>], \"multipart-post\"=>[#<Gem::Specification:0x3fc7fe4227f4 multipart-post-1.2.0>], \"net-telnet\"=>[#<Gem::Specification:0x3fc7fe42b6ec net-telnet-0.1.1>], \"openssl\"=>[#<Gem::Specification:0x3fc7fe2e33d4 openssl-2.0.3>], \"power_assert\"=>[#<Gem::Specification:0x3fc7fe426110 power_assert-0.4.1>], \"psych\"=>[#<Gem::Specification:0x3fc7fe219c14 psych-2.2.2>], \"rake\"=>[#<Gem::Specification:0x3fc7fe43acf0 rake-12.0.0>], \"rbczmq\"=>[#<Gem::Specification:0x3fc7fe2ee1d0 rbczmq-1.7.9>], \"rdoc\"=>[#<Gem::Specification:0x3fc7fe354444 rdoc-5.0.0>], \"test-unit\"=>[#<Gem::Specification:0x3fc7fe43e508 test-unit-3.2.3>], \"uri-query_params\"=>[#<Gem::Specification:0x3fc7fe459de4 uri-query_params-0.7.1>], \"xmlrpc\"=>[#<Gem::Specification:0x3fc7fe4a486c xmlrpc-0.2.1>]}"
      ]
     },
     "execution_count": 4,
     "metadata": {},
     "output_type": "execute_result"
    }
   ],
   "source": [
    "my_local_gems = local_gems()\n"
   ]
  },
  {
   "cell_type": "code",
   "execution_count": 5,
   "metadata": {
    "collapsed": false
   },
   "outputs": [
    {
     "data": {
      "text/plain": [
       "[#<Gem::Specification:0x3fc7fe40fa3c kickscraper-0.2.3>]"
      ]
     },
     "execution_count": 5,
     "metadata": {},
     "output_type": "execute_result"
    }
   ],
   "source": [
    "my_local_gems['kickscraper']"
   ]
  },
  {
   "cell_type": "code",
   "execution_count": 6,
   "metadata": {
    "collapsed": false
   },
   "outputs": [
    {
     "name": "stdout",
     "output_type": "stream",
     "text": [
      "[\"bigdecimal 1.3.0\", \"bond 0.5.1\", \"czmq-ffi-gen 0.13.0\", \"cztop 0.11.4\", \"data_uri 0.1.0\", \"did_you_mean 1.1.0\", \"faraday 0.8.11\", \"faraday_middleware 0.12.2\", \"ffi 1.9.18\", \"hashie 2.1.2\", \"io-console 0.4.6\", \"iruby 0.3\", \"json 2.0.2\", \"kickscraper 0.2.3\", \"mimemagic 0.3.2\", \"minitest 5.10.1\", \"multi_json 1.12.1\", \"multipart-post 1.2.0\", \"net-telnet 0.1.1\", \"openssl 2.0.3\", \"power_assert 0.4.1\", \"psych 2.2.2\", \"rake 12.0.0\", \"rbczmq 1.7.9\", \"rdoc 5.0.0\", \"test-unit 3.2.3\", \"uri-query_params 0.7.1\", \"xmlrpc 0.2.1\"]\n"
     ]
    }
   ],
   "source": [
    "puts my_local_gems.map{ |name, specs| \n",
    "  [ \n",
    "    name,\n",
    "    specs.map{ |spec| spec.version.to_s }.join(',')\n",
    "  ].join(' ') \n",
    "}"
   ]
  },
  {
   "cell_type": "code",
   "execution_count": null,
   "metadata": {
    "collapsed": false
   },
   "outputs": [],
   "source": []
  },
  {
   "cell_type": "code",
   "execution_count": 1,
   "metadata": {
    "collapsed": false
   },
   "outputs": [
    {
     "data": {
      "text/plain": [
       "true"
      ]
     },
     "execution_count": 1,
     "metadata": {},
     "output_type": "execute_result"
    }
   ],
   "source": [
    "require './ks_cred'"
   ]
  },
  {
   "cell_type": "code",
   "execution_count": null,
   "metadata": {
    "collapsed": false
   },
   "outputs": [],
   "source": []
  },
  {
   "cell_type": "code",
   "execution_count": 2,
   "metadata": {
    "collapsed": false
   },
   "outputs": [
    {
     "data": {
      "text/plain": [
       "Object"
      ]
     },
     "execution_count": 2,
     "metadata": {},
     "output_type": "execute_result"
    }
   ],
   "source": [
    "include KickstarterConf"
   ]
  },
  {
   "cell_type": "code",
   "execution_count": 4,
   "metadata": {
    "collapsed": false
   },
   "outputs": [
    {
     "data": {
      "text/plain": [
       "\"my_email@gmail.com\""
      ]
     },
     "execution_count": 4,
     "metadata": {},
     "output_type": "execute_result"
    }
   ],
   "source": [
    "#  constants has to be in all caps (or first capital letter) - to be accessible when require/imported.\n",
    "CONFIG['email']"
   ]
  },
  {
   "cell_type": "code",
   "execution_count": 5,
   "metadata": {
    "collapsed": false
   },
   "outputs": [
    {
     "data": {
      "text/plain": [
       "\"my_email@gmail.com\""
      ]
     },
     "execution_count": 5,
     "metadata": {},
     "output_type": "execute_result"
    }
   ],
   "source": [
    "KickstarterConf::CONFIG['email']"
   ]
  },
  {
   "cell_type": "code",
   "execution_count": null,
   "metadata": {
    "collapsed": false
   },
   "outputs": [],
   "source": []
  },
  {
   "cell_type": "code",
   "execution_count": null,
   "metadata": {
    "collapsed": false
   },
   "outputs": [],
   "source": []
  },
  {
   "cell_type": "code",
   "execution_count": 7,
   "metadata": {
    "collapsed": false
   },
   "outputs": [],
   "source": [
    "# config = {\n",
    "# \t\t'email' => 'my_email@gmail.com', \n",
    "# \t\t 'passwd' => 'my_password'\t\t\t\t\t\n",
    "# \t} "
   ]
  },
  {
   "cell_type": "code",
   "execution_count": 8,
   "metadata": {
    "collapsed": false
   },
   "outputs": [],
   "source": [
    "# config['email']\n"
   ]
  },
  {
   "cell_type": "markdown",
   "metadata": {},
   "source": []
  },
  {
   "cell_type": "code",
   "execution_count": 6,
   "metadata": {
    "collapsed": false
   },
   "outputs": [],
   "source": [
    "# require './config/ks_cred'"
   ]
  },
  {
   "cell_type": "code",
   "execution_count": null,
   "metadata": {
    "collapsed": false
   },
   "outputs": [],
   "source": []
  },
  {
   "cell_type": "code",
   "execution_count": 11,
   "metadata": {
    "collapsed": false
   },
   "outputs": [
    {
     "data": {
      "text/plain": [
       "\"/home/nahmed/python_notebooks/kickstarter_funding\""
      ]
     },
     "execution_count": 11,
     "metadata": {},
     "output_type": "execute_result"
    }
   ],
   "source": [
    "require 'fileutils'\n",
    "FileUtils.pwd # prints working directory\n",
    "# FileUtils.cd '/path/to/somewhere' # changes the directory"
   ]
  },
  {
   "cell_type": "code",
   "execution_count": null,
   "metadata": {
    "collapsed": true
   },
   "outputs": [],
   "source": []
  }
 ],
 "metadata": {
  "kernelspec": {
   "display_name": "Ruby 2.4.1",
   "language": "ruby",
   "name": "ruby"
  },
  "language_info": {
   "file_extension": ".rb",
   "mimetype": "application/x-ruby",
   "name": "ruby",
   "version": "2.4.1"
  }
 },
 "nbformat": 4,
 "nbformat_minor": 2
}
