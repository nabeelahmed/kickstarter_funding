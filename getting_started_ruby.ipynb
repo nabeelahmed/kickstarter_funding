{
 "cells": [
  {
   "cell_type": "code",
   "execution_count": 4,
   "metadata": {
    "collapsed": false
   },
   "outputs": [
    {
     "data": {
      "text/plain": [
       "false"
      ]
     },
     "execution_count": 4,
     "metadata": {},
     "output_type": "execute_result"
    }
   ],
   "source": [
    "require 'rubygems'"
   ]
  },
  {
   "cell_type": "code",
   "execution_count": 9,
   "metadata": {
    "collapsed": false
   },
   "outputs": [
    {
     "ename": "LocalJumpError",
     "evalue": "no block given (yield)",
     "output_type": "error",
     "traceback": [
      "\u001b[31mLocalJumpError\u001b[0m: no block given (yield)",
      "\u001b[37m/home/nahmed/.rbenv/versions/2.4.1/lib/ruby/2.4.0/rubygems/source_list.rb:91:in `block in each'\u001b[0m",
      "\u001b[37m/home/nahmed/.rbenv/versions/2.4.1/lib/ruby/2.4.0/rubygems/source_list.rb:91:in `each'\u001b[0m",
      "\u001b[37m/home/nahmed/.rbenv/versions/2.4.1/lib/ruby/2.4.0/rubygems/source_list.rb:91:in `each'\u001b[0m",
      "\u001b[37m<main>:1:in `<main>'\u001b[0m",
      "\u001b[37m/home/nahmed/.rbenv/versions/2.4.1/lib/ruby/gems/2.4.0/gems/iruby-0.3/lib/iruby/backend.rb:44:in `eval'\u001b[0m",
      "\u001b[37m/home/nahmed/.rbenv/versions/2.4.1/lib/ruby/gems/2.4.0/gems/iruby-0.3/lib/iruby/backend.rb:44:in `eval'\u001b[0m",
      "\u001b[37m/home/nahmed/.rbenv/versions/2.4.1/lib/ruby/gems/2.4.0/gems/iruby-0.3/lib/iruby/backend.rb:12:in `eval'\u001b[0m",
      "\u001b[37m/home/nahmed/.rbenv/versions/2.4.1/lib/ruby/gems/2.4.0/gems/iruby-0.3/lib/iruby/kernel.rb:87:in `execute_request'\u001b[0m",
      "\u001b[37m/home/nahmed/.rbenv/versions/2.4.1/lib/ruby/gems/2.4.0/gems/iruby-0.3/lib/iruby/kernel.rb:47:in `dispatch'\u001b[0m",
      "\u001b[37m/home/nahmed/.rbenv/versions/2.4.1/lib/ruby/gems/2.4.0/gems/iruby-0.3/lib/iruby/kernel.rb:37:in `run'\u001b[0m",
      "\u001b[37m/home/nahmed/.rbenv/versions/2.4.1/lib/ruby/gems/2.4.0/gems/iruby-0.3/lib/iruby/command.rb:70:in `run_kernel'\u001b[0m",
      "\u001b[37m/home/nahmed/.rbenv/versions/2.4.1/lib/ruby/gems/2.4.0/gems/iruby-0.3/lib/iruby/command.rb:34:in `run'\u001b[0m",
      "\u001b[37m/home/nahmed/.rbenv/versions/2.4.1/lib/ruby/gems/2.4.0/gems/iruby-0.3/bin/iruby:5:in `<top (required)>'\u001b[0m",
      "\u001b[37m/home/nahmed/.rbenv/versions/2.4.1/bin/iruby:22:in `load'\u001b[0m",
      "\u001b[37m/home/nahmed/.rbenv/versions/2.4.1/bin/iruby:22:in `<main>'\u001b[0m"
     ]
    }
   ],
   "source": [
    "# name = /^/i\n",
    "# specs = Gem.sources.each()\n",
    "# dep = Gem::Dependency.new(name, Gem::Requirement.default)\n",
    "# puts specs[0..5].map{ |s| \"#{s.name} #{s.version}\" }"
   ]
  },
  {
   "cell_type": "code",
   "execution_count": 10,
   "metadata": {
    "collapsed": false
   },
   "outputs": [
    {
     "data": {
      "text/plain": [
       ":local_gems"
      ]
     },
     "execution_count": 10,
     "metadata": {},
     "output_type": "execute_result"
    }
   ],
   "source": [
    "require 'rubygems'\n",
    "\n",
    "# Because local_gems relies on group_by, it returns a hash of the gems, \n",
    "# where the key is the gem's name, and the value is an array of the gem specifications. \n",
    "# The value is an array of the instances of that gem that is installed, sorted by the version number.\n",
    "\n",
    "def local_gems\n",
    "   Gem::Specification.sort_by{ |g| [g.name.downcase, g.version] }.group_by{ |g| g.name }\n",
    "end"
   ]
  },
  {
   "cell_type": "code",
   "execution_count": 11,
   "metadata": {
    "collapsed": false
   },
   "outputs": [
    {
     "data": {
      "text/plain": [
       "{\"bigdecimal\"=>[#<Gem::Specification:0x3fc08f1d5710 bigdecimal-1.3.0>], \"bond\"=>[#<Gem::Specification:0x3fc08f141a9c bond-0.5.1>], \"czmq-ffi-gen\"=>[#<Gem::Specification:0x3fc08f2c3e9c czmq-ffi-gen-0.13.0>], \"cztop\"=>[#<Gem::Specification:0x3fc08f2caee0 cztop-0.11.4>], \"data_uri\"=>[#<Gem::Specification:0x3fc08f1fdbc0 data_uri-0.1.0>], \"did_you_mean\"=>[#<Gem::Specification:0x3fc08f196a74 did_you_mean-1.1.0>], \"faraday\"=>[#<Gem::Specification:0x3fc08f33b67c faraday-0.8.11>], \"faraday_middleware\"=>[#<Gem::Specification:0x3fc08f32dc70 faraday_middleware-0.12.2>], \"ffi\"=>[#<Gem::Specification:0x3fc08f2be1e0 ffi-1.9.18>], \"hashie\"=>[#<Gem::Specification:0x3fc08f323a18 hashie-2.1.2>], \"io-console\"=>[#<Gem::Specification:0x3fc08f196ab0 io-console-0.4.6>], \"iruby\"=>[#<Gem::Specification:0x3fc08f1489f0 iruby-0.3>], \"json\"=>[#<Gem::Specification:0x3fc08f185f6c json-2.0.2>], \"kickscraper\"=>[#<Gem::Specification:0x3fc08f2de120 kickscraper-0.2.3>], \"mimemagic\"=>[#<Gem::Specification:0x3fc08f0893c0 mimemagic-0.3.2>], \"minitest\"=>[#<Gem::Specification:0x3fc08f2d3eb4 minitest-5.10.1>], \"multi_json\"=>[#<Gem::Specification:0x3fc08f116db0 multi_json-1.12.1>], \"multipart-post\"=>[#<Gem::Specification:0x3fc08f2ce0a4 multipart-post-1.2.0>], \"net-telnet\"=>[#<Gem::Specification:0x3fc08f2c8e74 net-telnet-0.1.1>], \"openssl\"=>[#<Gem::Specification:0x3fc08f173b28 openssl-2.0.3>], \"power_assert\"=>[#<Gem::Specification:0x3fc08f2c2290 power_assert-0.4.1>], \"psych\"=>[#<Gem::Specification:0x3fc08f0a9df0 psych-2.2.2>], \"rake\"=>[#<Gem::Specification:0x3fc08f2bbbd4 rake-12.0.0>], \"rbczmq\"=>[#<Gem::Specification:0x3fc08f17e2d0 rbczmq-1.7.9>], \"rdoc\"=>[#<Gem::Specification:0x3fc08f1e44b8 rdoc-5.0.0>], \"test-unit\"=>[#<Gem::Specification:0x3fc08f2b5734 test-unit-3.2.3>], \"uri-query_params\"=>[#<Gem::Specification:0x3fc08f2afd84 uri-query_params-0.7.1>], \"xmlrpc\"=>[#<Gem::Specification:0x3fc08f2ac184 xmlrpc-0.2.1>]}"
      ]
     },
     "execution_count": 11,
     "metadata": {},
     "output_type": "execute_result"
    }
   ],
   "source": [
    "my_local_gems = local_gems()\n"
   ]
  },
  {
   "cell_type": "code",
   "execution_count": 12,
   "metadata": {
    "collapsed": false
   },
   "outputs": [
    {
     "data": {
      "text/plain": [
       "[#<Gem::Specification:0x3fc08f2de120 kickscraper-0.2.3>]"
      ]
     },
     "execution_count": 12,
     "metadata": {},
     "output_type": "execute_result"
    }
   ],
   "source": [
    "my_local_gems['kickscraper']"
   ]
  },
  {
   "cell_type": "code",
   "execution_count": 13,
   "metadata": {
    "collapsed": false
   },
   "outputs": [
    {
     "name": "stdout",
     "output_type": "stream",
     "text": [
      "[\"bigdecimal 1.3.0\", \"bond 0.5.1\", \"czmq-ffi-gen 0.13.0\", \"cztop 0.11.4\", \"data_uri 0.1.0\", \"did_you_mean 1.1.0\", \"faraday 0.8.11\", \"faraday_middleware 0.12.2\", \"ffi 1.9.18\", \"hashie 2.1.2\", \"io-console 0.4.6\", \"iruby 0.3\", \"json 2.0.2\", \"kickscraper 0.2.3\", \"mimemagic 0.3.2\", \"minitest 5.10.1\", \"multi_json 1.12.1\", \"multipart-post 1.2.0\", \"net-telnet 0.1.1\", \"openssl 2.0.3\", \"power_assert 0.4.1\", \"psych 2.2.2\", \"rake 12.0.0\", \"rbczmq 1.7.9\", \"rdoc 5.0.0\", \"test-unit 3.2.3\", \"uri-query_params 0.7.1\", \"xmlrpc 0.2.1\"]\n"
     ]
    }
   ],
   "source": [
    "puts my_local_gems.map{ |name, specs| \n",
    "  [ \n",
    "    name,\n",
    "    specs.map{ |spec| spec.version.to_s }.join(',')\n",
    "  ].join(' ') \n",
    "}"
   ]
  },
  {
   "cell_type": "code",
   "execution_count": 6,
   "metadata": {
    "collapsed": false
   },
   "outputs": [
    {
     "ename": "LoadError",
     "evalue": "cannot load such file -- /home/nahmed/.rbenv/versions/2.4.1/lib/ruby/gems/2.4.0/gems/iruby-0.3/lib/iruby/ks_cred.rb",
     "output_type": "error",
     "traceback": [
      "\u001b[31mLoadError\u001b[0m: cannot load such file -- /home/nahmed/.rbenv/versions/2.4.1/lib/ruby/gems/2.4.0/gems/iruby-0.3/lib/iruby/ks_cred.rb",
      "\u001b[37m<main>:in `require_relative'\u001b[0m",
      "\u001b[37m<main>:in `<main>'\u001b[0m",
      "\u001b[37m/home/nahmed/.rbenv/versions/2.4.1/lib/ruby/gems/2.4.0/gems/iruby-0.3/lib/iruby/backend.rb:44:in `eval'\u001b[0m",
      "\u001b[37m/home/nahmed/.rbenv/versions/2.4.1/lib/ruby/gems/2.4.0/gems/iruby-0.3/lib/iruby/backend.rb:44:in `eval'\u001b[0m",
      "\u001b[37m/home/nahmed/.rbenv/versions/2.4.1/lib/ruby/gems/2.4.0/gems/iruby-0.3/lib/iruby/backend.rb:12:in `eval'\u001b[0m",
      "\u001b[37m/home/nahmed/.rbenv/versions/2.4.1/lib/ruby/gems/2.4.0/gems/iruby-0.3/lib/iruby/kernel.rb:87:in `execute_request'\u001b[0m",
      "\u001b[37m/home/nahmed/.rbenv/versions/2.4.1/lib/ruby/gems/2.4.0/gems/iruby-0.3/lib/iruby/kernel.rb:47:in `dispatch'\u001b[0m",
      "\u001b[37m/home/nahmed/.rbenv/versions/2.4.1/lib/ruby/gems/2.4.0/gems/iruby-0.3/lib/iruby/kernel.rb:37:in `run'\u001b[0m",
      "\u001b[37m/home/nahmed/.rbenv/versions/2.4.1/lib/ruby/gems/2.4.0/gems/iruby-0.3/lib/iruby/command.rb:70:in `run_kernel'\u001b[0m",
      "\u001b[37m/home/nahmed/.rbenv/versions/2.4.1/lib/ruby/gems/2.4.0/gems/iruby-0.3/lib/iruby/command.rb:34:in `run'\u001b[0m",
      "\u001b[37m/home/nahmed/.rbenv/versions/2.4.1/lib/ruby/gems/2.4.0/gems/iruby-0.3/bin/iruby:5:in `<top (required)>'\u001b[0m",
      "\u001b[37m/home/nahmed/.rbenv/versions/2.4.1/bin/iruby:22:in `load'\u001b[0m",
      "\u001b[37m/home/nahmed/.rbenv/versions/2.4.1/bin/iruby:22:in `<main>'\u001b[0m"
     ]
    }
   ],
   "source": [
    "require_relative './ks_cred.rb'"
   ]
  },
  {
   "cell_type": "code",
   "execution_count": 14,
   "metadata": {
    "collapsed": false
   },
   "outputs": [
    {
     "data": {
      "text/plain": [
       "false"
      ]
     },
     "execution_count": 14,
     "metadata": {},
     "output_type": "execute_result"
    }
   ],
   "source": [
    "require './ks_cred'"
   ]
  },
  {
   "cell_type": "code",
   "execution_count": 22,
   "metadata": {
    "collapsed": false
   },
   "outputs": [
    {
     "data": {
      "text/plain": [
       "false"
      ]
     },
     "execution_count": 22,
     "metadata": {},
     "output_type": "execute_result"
    }
   ],
   "source": [
    "require './config/ks_cred'"
   ]
  },
  {
   "cell_type": "code",
   "execution_count": 23,
   "metadata": {
    "collapsed": false
   },
   "outputs": [
    {
     "ename": "NameError",
     "evalue": "undefined local variable or method `ks_email' for main:Object",
     "output_type": "error",
     "traceback": [
      "\u001b[31mNameError\u001b[0m: undefined local variable or method `ks_email' for main:Object",
      "\u001b[37m<main>:in `<main>'\u001b[0m",
      "\u001b[37m/home/nahmed/.rbenv/versions/2.4.1/lib/ruby/gems/2.4.0/gems/iruby-0.3/lib/iruby/backend.rb:44:in `eval'\u001b[0m",
      "\u001b[37m/home/nahmed/.rbenv/versions/2.4.1/lib/ruby/gems/2.4.0/gems/iruby-0.3/lib/iruby/backend.rb:44:in `eval'\u001b[0m",
      "\u001b[37m/home/nahmed/.rbenv/versions/2.4.1/lib/ruby/gems/2.4.0/gems/iruby-0.3/lib/iruby/backend.rb:12:in `eval'\u001b[0m",
      "\u001b[37m/home/nahmed/.rbenv/versions/2.4.1/lib/ruby/gems/2.4.0/gems/iruby-0.3/lib/iruby/kernel.rb:87:in `execute_request'\u001b[0m",
      "\u001b[37m/home/nahmed/.rbenv/versions/2.4.1/lib/ruby/gems/2.4.0/gems/iruby-0.3/lib/iruby/kernel.rb:47:in `dispatch'\u001b[0m",
      "\u001b[37m/home/nahmed/.rbenv/versions/2.4.1/lib/ruby/gems/2.4.0/gems/iruby-0.3/lib/iruby/kernel.rb:37:in `run'\u001b[0m",
      "\u001b[37m/home/nahmed/.rbenv/versions/2.4.1/lib/ruby/gems/2.4.0/gems/iruby-0.3/lib/iruby/command.rb:70:in `run_kernel'\u001b[0m",
      "\u001b[37m/home/nahmed/.rbenv/versions/2.4.1/lib/ruby/gems/2.4.0/gems/iruby-0.3/lib/iruby/command.rb:34:in `run'\u001b[0m",
      "\u001b[37m/home/nahmed/.rbenv/versions/2.4.1/lib/ruby/gems/2.4.0/gems/iruby-0.3/bin/iruby:5:in `<top (required)>'\u001b[0m",
      "\u001b[37m/home/nahmed/.rbenv/versions/2.4.1/bin/iruby:22:in `load'\u001b[0m",
      "\u001b[37m/home/nahmed/.rbenv/versions/2.4.1/bin/iruby:22:in `<main>'\u001b[0m"
     ]
    }
   ],
   "source": [
    "ks_email"
   ]
  },
  {
   "cell_type": "code",
   "execution_count": 17,
   "metadata": {
    "collapsed": false
   },
   "outputs": [
    {
     "data": {
      "text/plain": [
       "\"/home/nahmed/python_notebooks/kickstarter_funding\""
      ]
     },
     "execution_count": 17,
     "metadata": {},
     "output_type": "execute_result"
    }
   ],
   "source": [
    "require 'fileutils'\n",
    "FileUtils.pwd # prints working directory\n",
    "# FileUtils.cd '/path/to/somewhere' # changes the directory"
   ]
  },
  {
   "cell_type": "code",
   "execution_count": null,
   "metadata": {
    "collapsed": true
   },
   "outputs": [],
   "source": []
  }
 ],
 "metadata": {
  "kernelspec": {
   "display_name": "Ruby 2.4.1",
   "language": "ruby",
   "name": "ruby"
  },
  "language_info": {
   "file_extension": ".rb",
   "mimetype": "application/x-ruby",
   "name": "ruby",
   "version": "2.4.1"
  }
 },
 "nbformat": 4,
 "nbformat_minor": 2
}
