{
 "cells": [
  {
   "cell_type": "markdown",
   "metadata": {},
   "source": [
    "#### Getting to know the data:\n",
    "venv_scientific - The virtualenv with pandas, numpy, scipy, matplotlib, "
   ]
  },
  {
   "cell_type": "code",
   "execution_count": 2,
   "metadata": {
    "collapsed": true
   },
   "outputs": [],
   "source": [
    "import pandas as pd"
   ]
  },
  {
   "cell_type": "code",
   "execution_count": 3,
   "metadata": {},
   "outputs": [
    {
     "name": "stdout",
     "output_type": "stream",
     "text": [
      "samplesubmission.csv\n",
      "test.csv\n",
      "train.csv\n",
      "\n"
     ]
    }
   ],
   "source": [
    "from subprocess import check_output\n",
    "print(check_output([\"ls\", \"data\"]).decode(\"utf8\"))"
   ]
  },
  {
   "cell_type": "markdown",
   "metadata": {},
   "source": [
    "train.csv, test.csv and sample_submission.csv The train data consists of sample projects from the May 2009 to May 2015. The test data consists of projects from June 2015 to March 2017."
   ]
  },
  {
   "cell_type": "code",
   "execution_count": 4,
   "metadata": {
    "collapsed": true
   },
   "outputs": [],
   "source": [
    "train_data = pd.read_csv(\"data/train.csv\")\n",
    "test_data = pd.read_csv(\"data/test.csv\")"
   ]
  },
  {
   "cell_type": "code",
   "execution_count": 5,
   "metadata": {},
   "outputs": [
    {
     "data": {
      "text/plain": [
       "(108129, 14)"
      ]
     },
     "execution_count": 5,
     "metadata": {},
     "output_type": "execute_result"
    }
   ],
   "source": [
    "train_data.shape"
   ]
  },
  {
   "cell_type": "code",
   "execution_count": 6,
   "metadata": {},
   "outputs": [
    {
     "data": {
      "text/plain": [
       "(63465, 12)"
      ]
     },
     "execution_count": 6,
     "metadata": {},
     "output_type": "execute_result"
    }
   ],
   "source": [
    "test_data.shape"
   ]
  },
  {
   "cell_type": "code",
   "execution_count": 18,
   "metadata": {},
   "outputs": [
    {
     "data": {
      "text/html": [
       "<div>\n",
       "<style>\n",
       "    .dataframe thead tr:only-child th {\n",
       "        text-align: right;\n",
       "    }\n",
       "\n",
       "    .dataframe thead th {\n",
       "        text-align: left;\n",
       "    }\n",
       "\n",
       "    .dataframe tbody tr th {\n",
       "        vertical-align: top;\n",
       "    }\n",
       "</style>\n",
       "<table border=\"1\" class=\"dataframe\">\n",
       "  <thead>\n",
       "    <tr style=\"text-align: right;\">\n",
       "      <th></th>\n",
       "      <th>project_id</th>\n",
       "      <th>name</th>\n",
       "      <th>desc</th>\n",
       "      <th>goal</th>\n",
       "      <th>keywords</th>\n",
       "      <th>disable_communication</th>\n",
       "      <th>country</th>\n",
       "      <th>currency</th>\n",
       "      <th>deadline</th>\n",
       "      <th>state_changed_at</th>\n",
       "      <th>created_at</th>\n",
       "      <th>launched_at</th>\n",
       "      <th>backers_count</th>\n",
       "      <th>final_status</th>\n",
       "    </tr>\n",
       "  </thead>\n",
       "  <tbody>\n",
       "    <tr>\n",
       "      <th>0</th>\n",
       "      <td>kkst1451568084</td>\n",
       "      <td>drawing for dollars</td>\n",
       "      <td>I like drawing pictures. and then i color them too. so i thought i would suggest something for m...</td>\n",
       "      <td>20.0</td>\n",
       "      <td>drawing-for-dollars</td>\n",
       "      <td>False</td>\n",
       "      <td>US</td>\n",
       "      <td>USD</td>\n",
       "      <td>1241333999</td>\n",
       "      <td>1241334017</td>\n",
       "      <td>1240600507</td>\n",
       "      <td>1240602723</td>\n",
       "      <td>3</td>\n",
       "      <td>1</td>\n",
       "    </tr>\n",
       "    <tr>\n",
       "      <th>1</th>\n",
       "      <td>kkst1474482071</td>\n",
       "      <td>Sponsor Dereck Blackburn (Lostwars) Artist in Residence in Kankakee Illinois</td>\n",
       "      <td>I, Dereck Blackburn will be taking upon an incredible journey in the month of May 2009. I will b...</td>\n",
       "      <td>300.0</td>\n",
       "      <td>sponsor-dereck-blackburn-lostwars-artist-in-residence-in-kankakee-illinois</td>\n",
       "      <td>False</td>\n",
       "      <td>US</td>\n",
       "      <td>USD</td>\n",
       "      <td>1242429000</td>\n",
       "      <td>1242432018</td>\n",
       "      <td>1240960224</td>\n",
       "      <td>1240975592</td>\n",
       "      <td>2</td>\n",
       "      <td>0</td>\n",
       "    </tr>\n",
       "    <tr>\n",
       "      <th>2</th>\n",
       "      <td>kkst183622197</td>\n",
       "      <td>Mr. Squiggles</td>\n",
       "      <td>So I saw darkpony's successfully funded drawing for dollars project and I thought \"\"\"\"\"\"\"\"\"\"\"\"\"\"...</td>\n",
       "      <td>30.0</td>\n",
       "      <td>mr-squiggles</td>\n",
       "      <td>False</td>\n",
       "      <td>US</td>\n",
       "      <td>USD</td>\n",
       "      <td>1243027560</td>\n",
       "      <td>1243027818</td>\n",
       "      <td>1242163613</td>\n",
       "      <td>1242164398</td>\n",
       "      <td>0</td>\n",
       "      <td>0</td>\n",
       "    </tr>\n",
       "    <tr>\n",
       "      <th>3</th>\n",
       "      <td>kkst597742710</td>\n",
       "      <td>Help me write my second novel.</td>\n",
       "      <td>Do your part to help out starving artists and help me write my second novel!\\r\\n\\r\\nI have just ...</td>\n",
       "      <td>500.0</td>\n",
       "      <td>help-me-write-my-second-novel</td>\n",
       "      <td>False</td>\n",
       "      <td>US</td>\n",
       "      <td>USD</td>\n",
       "      <td>1243555740</td>\n",
       "      <td>1243556121</td>\n",
       "      <td>1240963795</td>\n",
       "      <td>1240966730</td>\n",
       "      <td>18</td>\n",
       "      <td>1</td>\n",
       "    </tr>\n",
       "    <tr>\n",
       "      <th>4</th>\n",
       "      <td>kkst1913131122</td>\n",
       "      <td>Support casting my sculpture in bronze</td>\n",
       "      <td>I'm nearing completion on a sculpture, currently titled \"\"\"\"\"\"\"\"\"\"\"\"\"\"\"\"\"\"\"\"\"\"\"\"\"\"\"\"\"\"\"\"\"\"\"\"\"\"\"\"...</td>\n",
       "      <td>2000.0</td>\n",
       "      <td>support-casting-my-sculpture-in-bronze</td>\n",
       "      <td>False</td>\n",
       "      <td>US</td>\n",
       "      <td>USD</td>\n",
       "      <td>1243769880</td>\n",
       "      <td>1243770317</td>\n",
       "      <td>1241177914</td>\n",
       "      <td>1241180541</td>\n",
       "      <td>1</td>\n",
       "      <td>0</td>\n",
       "    </tr>\n",
       "  </tbody>\n",
       "</table>\n",
       "</div>"
      ]
     },
     "metadata": {},
     "output_type": "execute_result"
    }
   ],
   "source": [
    "train_data.head()"
   ]
  },
  {
   "cell_type": "code",
   "execution_count": 35,
   "metadata": {},
   "outputs": [
    {
     "data": {
      "text/html": [
       "<div>\n",
       "<style>\n",
       "    .dataframe thead tr:only-child th {\n",
       "        text-align: right;\n",
       "    }\n",
       "\n",
       "    .dataframe thead th {\n",
       "        text-align: left;\n",
       "    }\n",
       "\n",
       "    .dataframe tbody tr th {\n",
       "        vertical-align: top;\n",
       "    }\n",
       "</style>\n",
       "<table border=\"1\" class=\"dataframe\">\n",
       "  <thead>\n",
       "    <tr style=\"text-align: right;\">\n",
       "      <th></th>\n",
       "      <th>project_id</th>\n",
       "      <th>name</th>\n",
       "      <th>desc</th>\n",
       "      <th>goal</th>\n",
       "      <th>keywords</th>\n",
       "      <th>disable_communication</th>\n",
       "      <th>country</th>\n",
       "      <th>currency</th>\n",
       "      <th>deadline</th>\n",
       "      <th>state_changed_at</th>\n",
       "      <th>created_at</th>\n",
       "      <th>launched_at</th>\n",
       "    </tr>\n",
       "  </thead>\n",
       "  <tbody>\n",
       "    <tr>\n",
       "      <th>0</th>\n",
       "      <td>kkst917493670</td>\n",
       "      <td>Bràthair.</td>\n",
       "      <td>My first film, of many to come. Trying to purs...</td>\n",
       "      <td>7000.0</td>\n",
       "      <td>brathair</td>\n",
       "      <td>False</td>\n",
       "      <td>US</td>\n",
       "      <td>USD</td>\n",
       "      <td>1449619185</td>\n",
       "      <td>1449619185</td>\n",
       "      <td>1446002581</td>\n",
       "      <td>1446159585</td>\n",
       "    </tr>\n",
       "    <tr>\n",
       "      <th>1</th>\n",
       "      <td>kkst1664901914</td>\n",
       "      <td>THE SCREENWRITER</td>\n",
       "      <td>A young man that has earned his master's in sc...</td>\n",
       "      <td>35000.0</td>\n",
       "      <td>the-screenwriter</td>\n",
       "      <td>False</td>\n",
       "      <td>US</td>\n",
       "      <td>USD</td>\n",
       "      <td>1453435620</td>\n",
       "      <td>1453435620</td>\n",
       "      <td>1450297323</td>\n",
       "      <td>1450411620</td>\n",
       "    </tr>\n",
       "    <tr>\n",
       "      <th>2</th>\n",
       "      <td>kkst925125077</td>\n",
       "      <td>The Hornets Nest the Fairmont Heights Story</td>\n",
       "      <td>Film about a high school constructed for negro...</td>\n",
       "      <td>49500.0</td>\n",
       "      <td>the-hornets-nest-the-fairmont-heights-story</td>\n",
       "      <td>False</td>\n",
       "      <td>US</td>\n",
       "      <td>USD</td>\n",
       "      <td>1451780700</td>\n",
       "      <td>1451780700</td>\n",
       "      <td>1448581356</td>\n",
       "      <td>1448672128</td>\n",
       "    </tr>\n",
       "    <tr>\n",
       "      <th>3</th>\n",
       "      <td>kkst1427645275</td>\n",
       "      <td>BROTHERS Season 2 - Groundbreaking Transgender...</td>\n",
       "      <td>The acclaimed series about a group of transgen...</td>\n",
       "      <td>40000.0</td>\n",
       "      <td>brothers-season-2-groundbreaking-transgender-male</td>\n",
       "      <td>False</td>\n",
       "      <td>US</td>\n",
       "      <td>USD</td>\n",
       "      <td>1445021518</td>\n",
       "      <td>1445021530</td>\n",
       "      <td>1440966830</td>\n",
       "      <td>1442429518</td>\n",
       "    </tr>\n",
       "  </tbody>\n",
       "</table>\n",
       "</div>"
      ],
      "text/plain": [
       "       project_id                                               name  \\\n",
       "0   kkst917493670                                          Bràthair.   \n",
       "1  kkst1664901914                                   THE SCREENWRITER   \n",
       "2   kkst925125077        The Hornets Nest the Fairmont Heights Story   \n",
       "3  kkst1427645275  BROTHERS Season 2 - Groundbreaking Transgender...   \n",
       "\n",
       "                                                desc     goal  \\\n",
       "0  My first film, of many to come. Trying to purs...   7000.0   \n",
       "1  A young man that has earned his master's in sc...  35000.0   \n",
       "2  Film about a high school constructed for negro...  49500.0   \n",
       "3  The acclaimed series about a group of transgen...  40000.0   \n",
       "\n",
       "                                            keywords  disable_communication  \\\n",
       "0                                           brathair                  False   \n",
       "1                                   the-screenwriter                  False   \n",
       "2        the-hornets-nest-the-fairmont-heights-story                  False   \n",
       "3  brothers-season-2-groundbreaking-transgender-male                  False   \n",
       "\n",
       "  country currency    deadline  state_changed_at  created_at  launched_at  \n",
       "0      US      USD  1449619185        1449619185  1446002581   1446159585  \n",
       "1      US      USD  1453435620        1453435620  1450297323   1450411620  \n",
       "2      US      USD  1451780700        1451780700  1448581356   1448672128  \n",
       "3      US      USD  1445021518        1445021530  1440966830   1442429518  "
      ]
     },
     "execution_count": 35,
     "metadata": {},
     "output_type": "execute_result"
    }
   ],
   "source": [
    "test_data.head(4)"
   ]
  },
  {
   "cell_type": "markdown",
   "metadata": {},
   "source": [
    "# final_status:\n",
    "whether the project was successful or not \n",
    "1 -> success\n",
    "0 -> failed"
   ]
  },
  {
   "cell_type": "code",
   "execution_count": 36,
   "metadata": {},
   "outputs": [
    {
     "name": "stdout",
     "output_type": "stream",
     "text": [
      "0    73568\n",
      "1    34561\n",
      "Name: final_status, dtype: int64\n"
     ]
    }
   ],
   "source": [
    "print(train_data['final_status'].value_counts())\n"
   ]
  },
  {
   "cell_type": "code",
   "execution_count": 39,
   "metadata": {},
   "outputs": [
    {
     "data": {
      "text/plain": [
       "0    68.037252\n",
       "1    31.962748\n",
       "Name: final_status, dtype: float64"
      ]
     },
     "execution_count": 39,
     "metadata": {},
     "output_type": "execute_result"
    }
   ],
   "source": [
    "100 * train_data.final_status.value_counts()/len(train_data.final_status)"
   ]
  },
  {
   "cell_type": "raw",
   "metadata": {},
   "source": [
    "31.96 % projects were successul - "
   ]
  },
  {
   "cell_type": "code",
   "execution_count": null,
   "metadata": {
    "collapsed": true
   },
   "outputs": [],
   "source": []
  },
  {
   "cell_type": "markdown",
   "metadata": {},
   "source": [
    "# goal - \n",
    "the goal (amount) required for the project.\n",
    "0.01 to 100,000,000 asked.\n",
    "Mean - $ 36726\n",
    "\n",
    "Successful projects mean - below 10,000 - <b>9806</b>\n",
    "Failed projects mean - is nearly 50,000 - <b>49372.5889115</b>"
   ]
  },
  {
   "cell_type": "code",
   "execution_count": 17,
   "metadata": {
    "collapsed": true
   },
   "outputs": [],
   "source": [
    "pd.set_option('display.max_colwidth', 100)"
   ]
  },
  {
   "cell_type": "code",
   "execution_count": 18,
   "metadata": {},
   "outputs": [
    {
     "name": "stdout",
     "output_type": "stream",
     "text": [
      "65916\n",
      "100000000.0\n"
     ]
    },
    {
     "data": {
      "text/plain": [
       "RangeIndex(start=0, stop=108129, step=1)"
      ]
     },
     "execution_count": 18,
     "metadata": {},
     "output_type": "execute_result"
    }
   ],
   "source": [
    "print(train_data['goal'].idxmax())  # index of max\n",
    "print(train_data['goal'].max()) # max value for the column\n",
    "train_data.index  # data index\n"
   ]
  },
  {
   "cell_type": "code",
   "execution_count": 13,
   "metadata": {},
   "outputs": [
    {
     "name": "stdout",
     "output_type": "stream",
     "text": [
      "317\n",
      "0.01\n"
     ]
    }
   ],
   "source": [
    "print(train_data['goal'].idxmin())  # index of min\n",
    "print(train_data['goal'].min())"
   ]
  },
  {
   "cell_type": "code",
   "execution_count": 26,
   "metadata": {},
   "outputs": [
    {
     "data": {
      "text/plain": [
       "array([     0,      1,      2, ..., 108126, 108127, 108128])"
      ]
     },
     "execution_count": 26,
     "metadata": {},
     "output_type": "execute_result"
    }
   ],
   "source": [
    "train_data.index.tolist()  # get the DataFrame index as a list.\n"
   ]
  },
  {
   "cell_type": "code",
   "execution_count": 27,
   "metadata": {},
   "outputs": [
    {
     "data": {
      "text/plain": [
       "array([     0,      1,      2, ..., 108126, 108127, 108128])"
      ]
     },
     "execution_count": 27,
     "metadata": {},
     "output_type": "execute_result"
    }
   ],
   "source": [
    "train_data.index.get_values()  # a better and new approach\n"
   ]
  },
  {
   "cell_type": "code",
   "execution_count": 28,
   "metadata": {},
   "outputs": [
    {
     "name": "stdout",
     "output_type": "stream",
     "text": [
      "36726.2288326\n"
     ]
    }
   ],
   "source": [
    "print(train_data['goal'].mean())  # average/mean of the column"
   ]
  },
  {
   "cell_type": "code",
   "execution_count": 40,
   "metadata": {},
   "outputs": [
    {
     "name": "stdout",
     "output_type": "stream",
     "text": [
      "9806.65421718\n"
     ]
    }
   ],
   "source": [
    "print(train_data['goal'][train_data['final_status'] == 1].mean())  # average/mean of successful projects"
   ]
  },
  {
   "cell_type": "code",
   "execution_count": 41,
   "metadata": {},
   "outputs": [
    {
     "name": "stdout",
     "output_type": "stream",
     "text": [
      "49372.5889115\n"
     ]
    }
   ],
   "source": [
    "print(train_data['goal'][train_data['final_status'] == 0].mean())  # average/mean of failed projects"
   ]
  },
  {
   "cell_type": "markdown",
   "metadata": {},
   "source": [
    "# disable_communication - \n",
    "whether the project authors has disabled communication option with people donating to the project"
   ]
  },
  {
   "cell_type": "code",
   "execution_count": 33,
   "metadata": {},
   "outputs": [
    {
     "name": "stdout",
     "output_type": "stream",
     "text": [
      "False    107806\n",
      "True        323\n",
      "Name: disable_communication, dtype: int64\n"
     ]
    }
   ],
   "source": [
    "print(train_data['disable_communication'].value_counts())\n"
   ]
  },
  {
   "cell_type": "code",
   "execution_count": 45,
   "metadata": {},
   "outputs": [
    {
     "name": "stdout",
     "output_type": "stream",
     "text": [
      "False    99.701283\n",
      "True      0.298717\n",
      "Name: disable_communication, dtype: float64\n"
     ]
    }
   ],
   "source": [
    "print(100 * train_data['disable_communication'].value_counts()) / len(train_data.disable_communication)\n"
   ]
  },
  {
   "cell_type": "code",
   "execution_count": 34,
   "metadata": {},
   "outputs": [
    {
     "name": "stdout",
     "output_type": "stream",
     "text": [
      "False    34561\n",
      "Name: disable_communication, dtype: int64\n"
     ]
    }
   ],
   "source": [
    "print(train_data['disable_communication'][train_data['final_status'] == 1].value_counts())\n"
   ]
  },
  {
   "cell_type": "code",
   "execution_count": 43,
   "metadata": {},
   "outputs": [
    {
     "name": "stdout",
     "output_type": "stream",
     "text": [
      "False    73245\n",
      "True       323\n",
      "Name: disable_communication, dtype: int64\n"
     ]
    }
   ],
   "source": [
    "print(train_data['disable_communication'][train_data.final_status == 0].value_counts())\n"
   ]
  },
  {
   "cell_type": "markdown",
   "metadata": {},
   "source": [
    "A rather insignificant feature - as <b>99.7%</b> have <b>it False</b>"
   ]
  },
  {
   "cell_type": "markdown",
   "metadata": {},
   "source": [
    "# duration:\n",
    "A new feature, stating project duration in terms of days it was opne/active"
   ]
  },
  {
   "cell_type": "code",
   "execution_count": 51,
   "metadata": {},
   "outputs": [],
   "source": [
    "# processing the UNIX timestamps into readable dates:\n",
    "cols = ['state_changed_at','created_at','launched_at','deadline']\n",
    "for col in cols:\n",
    "    train_data['%s' % col] = pd.to_datetime(train_data['%s' % col], unit='s')"
   ]
  },
  {
   "cell_type": "code",
   "execution_count": 52,
   "metadata": {},
   "outputs": [
    {
     "data": {
      "text/html": [
       "<div>\n",
       "<style>\n",
       "    .dataframe thead tr:only-child th {\n",
       "        text-align: right;\n",
       "    }\n",
       "\n",
       "    .dataframe thead th {\n",
       "        text-align: left;\n",
       "    }\n",
       "\n",
       "    .dataframe tbody tr th {\n",
       "        vertical-align: top;\n",
       "    }\n",
       "</style>\n",
       "<table border=\"1\" class=\"dataframe\">\n",
       "  <thead>\n",
       "    <tr style=\"text-align: right;\">\n",
       "      <th></th>\n",
       "      <th>project_id</th>\n",
       "      <th>name</th>\n",
       "      <th>desc</th>\n",
       "      <th>goal</th>\n",
       "      <th>keywords</th>\n",
       "      <th>disable_communication</th>\n",
       "      <th>country</th>\n",
       "      <th>currency</th>\n",
       "      <th>deadline</th>\n",
       "      <th>state_changed_at</th>\n",
       "      <th>created_at</th>\n",
       "      <th>launched_at</th>\n",
       "      <th>backers_count</th>\n",
       "      <th>final_status</th>\n",
       "    </tr>\n",
       "  </thead>\n",
       "  <tbody>\n",
       "    <tr>\n",
       "      <th>0</th>\n",
       "      <td>kkst1451568084</td>\n",
       "      <td>drawing for dollars</td>\n",
       "      <td>I like drawing pictures. and then i color them...</td>\n",
       "      <td>20.0</td>\n",
       "      <td>drawing-for-dollars</td>\n",
       "      <td>False</td>\n",
       "      <td>US</td>\n",
       "      <td>USD</td>\n",
       "      <td>2009-05-03 06:59:59</td>\n",
       "      <td>2009-05-03 07:00:17</td>\n",
       "      <td>2009-04-24 19:15:07</td>\n",
       "      <td>2009-04-24 19:52:03</td>\n",
       "      <td>3</td>\n",
       "      <td>1</td>\n",
       "    </tr>\n",
       "    <tr>\n",
       "      <th>1</th>\n",
       "      <td>kkst1474482071</td>\n",
       "      <td>Sponsor Dereck Blackburn (Lostwars) Artist in ...</td>\n",
       "      <td>I, Dereck Blackburn will be taking upon an inc...</td>\n",
       "      <td>300.0</td>\n",
       "      <td>sponsor-dereck-blackburn-lostwars-artist-in-re...</td>\n",
       "      <td>False</td>\n",
       "      <td>US</td>\n",
       "      <td>USD</td>\n",
       "      <td>2009-05-15 23:10:00</td>\n",
       "      <td>2009-05-16 00:00:18</td>\n",
       "      <td>2009-04-28 23:10:24</td>\n",
       "      <td>2009-04-29 03:26:32</td>\n",
       "      <td>2</td>\n",
       "      <td>0</td>\n",
       "    </tr>\n",
       "  </tbody>\n",
       "</table>\n",
       "</div>"
      ],
      "text/plain": [
       "       project_id                                               name  \\\n",
       "0  kkst1451568084                                drawing for dollars   \n",
       "1  kkst1474482071  Sponsor Dereck Blackburn (Lostwars) Artist in ...   \n",
       "\n",
       "                                                desc   goal  \\\n",
       "0  I like drawing pictures. and then i color them...   20.0   \n",
       "1  I, Dereck Blackburn will be taking upon an inc...  300.0   \n",
       "\n",
       "                                            keywords  disable_communication  \\\n",
       "0                                drawing-for-dollars                  False   \n",
       "1  sponsor-dereck-blackburn-lostwars-artist-in-re...                  False   \n",
       "\n",
       "  country currency            deadline    state_changed_at  \\\n",
       "0      US      USD 2009-05-03 06:59:59 2009-05-03 07:00:17   \n",
       "1      US      USD 2009-05-15 23:10:00 2009-05-16 00:00:18   \n",
       "\n",
       "           created_at         launched_at  backers_count  final_status  \n",
       "0 2009-04-24 19:15:07 2009-04-24 19:52:03              3             1  \n",
       "1 2009-04-28 23:10:24 2009-04-29 03:26:32              2             0  "
      ]
     },
     "execution_count": 52,
     "metadata": {},
     "output_type": "execute_result"
    }
   ],
   "source": [
    "train_data.head(2)"
   ]
  },
  {
   "cell_type": "code",
   "execution_count": 59,
   "metadata": {
    "collapsed": true
   },
   "outputs": [],
   "source": [
    "# dt - only work for datetime series - TypeError if the Series does not contain datetimelike values.\n",
    "train_data['project_duration'] = (train_data.deadline - train_data.launched_at).dt.days"
   ]
  },
  {
   "cell_type": "code",
   "execution_count": 57,
   "metadata": {},
   "outputs": [
    {
     "data": {
      "text/html": [
       "<div>\n",
       "<style>\n",
       "    .dataframe thead tr:only-child th {\n",
       "        text-align: right;\n",
       "    }\n",
       "\n",
       "    .dataframe thead th {\n",
       "        text-align: left;\n",
       "    }\n",
       "\n",
       "    .dataframe tbody tr th {\n",
       "        vertical-align: top;\n",
       "    }\n",
       "</style>\n",
       "<table border=\"1\" class=\"dataframe\">\n",
       "  <thead>\n",
       "    <tr style=\"text-align: right;\">\n",
       "      <th></th>\n",
       "      <th>project_id</th>\n",
       "      <th>name</th>\n",
       "      <th>desc</th>\n",
       "      <th>goal</th>\n",
       "      <th>keywords</th>\n",
       "      <th>disable_communication</th>\n",
       "      <th>country</th>\n",
       "      <th>currency</th>\n",
       "      <th>deadline</th>\n",
       "      <th>state_changed_at</th>\n",
       "      <th>created_at</th>\n",
       "      <th>launched_at</th>\n",
       "      <th>backers_count</th>\n",
       "      <th>final_status</th>\n",
       "      <th>project_duration</th>\n",
       "    </tr>\n",
       "  </thead>\n",
       "  <tbody>\n",
       "    <tr>\n",
       "      <th>0</th>\n",
       "      <td>kkst1451568084</td>\n",
       "      <td>drawing for dollars</td>\n",
       "      <td>I like drawing pictures. and then i color them...</td>\n",
       "      <td>20.0</td>\n",
       "      <td>drawing-for-dollars</td>\n",
       "      <td>False</td>\n",
       "      <td>US</td>\n",
       "      <td>USD</td>\n",
       "      <td>2009-05-03 06:59:59</td>\n",
       "      <td>2009-05-03 07:00:17</td>\n",
       "      <td>2009-04-24 19:15:07</td>\n",
       "      <td>2009-04-24 19:52:03</td>\n",
       "      <td>3</td>\n",
       "      <td>1</td>\n",
       "      <td>8</td>\n",
       "    </tr>\n",
       "    <tr>\n",
       "      <th>1</th>\n",
       "      <td>kkst1474482071</td>\n",
       "      <td>Sponsor Dereck Blackburn (Lostwars) Artist in ...</td>\n",
       "      <td>I, Dereck Blackburn will be taking upon an inc...</td>\n",
       "      <td>300.0</td>\n",
       "      <td>sponsor-dereck-blackburn-lostwars-artist-in-re...</td>\n",
       "      <td>False</td>\n",
       "      <td>US</td>\n",
       "      <td>USD</td>\n",
       "      <td>2009-05-15 23:10:00</td>\n",
       "      <td>2009-05-16 00:00:18</td>\n",
       "      <td>2009-04-28 23:10:24</td>\n",
       "      <td>2009-04-29 03:26:32</td>\n",
       "      <td>2</td>\n",
       "      <td>0</td>\n",
       "      <td>16</td>\n",
       "    </tr>\n",
       "  </tbody>\n",
       "</table>\n",
       "</div>"
      ],
      "text/plain": [
       "       project_id                                               name  \\\n",
       "0  kkst1451568084                                drawing for dollars   \n",
       "1  kkst1474482071  Sponsor Dereck Blackburn (Lostwars) Artist in ...   \n",
       "\n",
       "                                                desc   goal  \\\n",
       "0  I like drawing pictures. and then i color them...   20.0   \n",
       "1  I, Dereck Blackburn will be taking upon an inc...  300.0   \n",
       "\n",
       "                                            keywords  disable_communication  \\\n",
       "0                                drawing-for-dollars                  False   \n",
       "1  sponsor-dereck-blackburn-lostwars-artist-in-re...                  False   \n",
       "\n",
       "  country currency            deadline    state_changed_at  \\\n",
       "0      US      USD 2009-05-03 06:59:59 2009-05-03 07:00:17   \n",
       "1      US      USD 2009-05-15 23:10:00 2009-05-16 00:00:18   \n",
       "\n",
       "           created_at         launched_at  backers_count  final_status  \\\n",
       "0 2009-04-24 19:15:07 2009-04-24 19:52:03              3             1   \n",
       "1 2009-04-28 23:10:24 2009-04-29 03:26:32              2             0   \n",
       "\n",
       "   project_duration  \n",
       "0                 8  \n",
       "1                16  "
      ]
     },
     "execution_count": 57,
     "metadata": {},
     "output_type": "execute_result"
    }
   ],
   "source": [
    "train_data.head(2)"
   ]
  },
  {
   "cell_type": "code",
   "execution_count": 62,
   "metadata": {},
   "outputs": [
    {
     "data": {
      "text/plain": [
       "30    44506\n",
       "29     6787\n",
       "60     6736\n",
       "45     4421\n",
       "31     2943\n",
       "59     2615\n",
       "40     2573\n",
       "35     2513\n",
       "20     2048\n",
       "21     2009\n",
       "25     1757\n",
       "28     1753\n",
       "32     1743\n",
       "33     1499\n",
       "15     1450\n",
       "14     1384\n",
       "44     1161\n",
       "34     1153\n",
       "27     1023\n",
       "24      851\n",
       "39      830\n",
       "36      812\n",
       "26      763\n",
       "22      739\n",
       "10      664\n",
       "37      660\n",
       "23      657\n",
       "50      641\n",
       "38      598\n",
       "42      543\n",
       "      ...  \n",
       "88       65\n",
       "70       54\n",
       "63       53\n",
       "62       51\n",
       "65       49\n",
       "75       47\n",
       "66       43\n",
       "1        37\n",
       "80       36\n",
       "2        36\n",
       "86       34\n",
       "91       32\n",
       "72       32\n",
       "71       32\n",
       "87       29\n",
       "76       27\n",
       "85       25\n",
       "84       24\n",
       "68       22\n",
       "77       22\n",
       "69       22\n",
       "83       20\n",
       "67       20\n",
       "78       19\n",
       "81       19\n",
       "64       18\n",
       "79       17\n",
       "82       16\n",
       "73       15\n",
       "74       13\n",
       "Name: project_duration, Length: 91, dtype: int64"
      ]
     },
     "execution_count": 62,
     "metadata": {},
     "output_type": "execute_result"
    }
   ],
   "source": [
    "train_data.project_duration.value_counts()\n",
    "\n"
   ]
  },
  {
   "cell_type": "code",
   "execution_count": 65,
   "metadata": {},
   "outputs": [
    {
     "data": {
      "text/plain": [
       "33.917034283124785"
      ]
     },
     "execution_count": 65,
     "metadata": {},
     "output_type": "execute_result"
    }
   ],
   "source": [
    "train_data.project_duration.mean()\n",
    "\n"
   ]
  },
  {
   "cell_type": "code",
   "execution_count": 64,
   "metadata": {},
   "outputs": [
    {
     "data": {
      "text/plain": [
       "32.124475564943147"
      ]
     },
     "execution_count": 64,
     "metadata": {},
     "output_type": "execute_result"
    }
   ],
   "source": [
    "train_data.project_duration[train_data.final_status == 1].mean()\n",
    "\n"
   ]
  },
  {
   "cell_type": "code",
   "execution_count": 66,
   "metadata": {},
   "outputs": [
    {
     "data": {
      "text/plain": [
       "34.759147999130057"
      ]
     },
     "execution_count": 66,
     "metadata": {},
     "output_type": "execute_result"
    }
   ],
   "source": [
    "train_data.project_duration[train_data.final_status == 0].mean()\n"
   ]
  },
  {
   "cell_type": "markdown",
   "metadata": {},
   "source": [
    "Not much si"
   ]
  }
 ],
 "metadata": {
  "kernelspec": {
   "display_name": "venv_scientific",
   "language": "python",
   "name": "venv_scientific"
  },
  "language_info": {
   "codemirror_mode": {
    "name": "ipython",
    "version": 2
   },
   "file_extension": ".py",
   "mimetype": "text/x-python",
   "name": "python",
   "nbconvert_exporter": "python",
   "pygments_lexer": "ipython2",
   "version": "2.7.5"
  }
 },
 "nbformat": 4,
 "nbformat_minor": 2
}
