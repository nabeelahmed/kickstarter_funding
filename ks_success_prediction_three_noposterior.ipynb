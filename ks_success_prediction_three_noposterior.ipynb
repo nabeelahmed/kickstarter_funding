{
 "cells": [
  {
   "cell_type": "markdown",
   "metadata": {},
   "source": [
    "<img src=\"images/scikit-learn-ml\">"
   ]
  },
  {
   "cell_type": "code",
   "execution_count": 2,
   "metadata": {
    "collapsed": false
   },
   "outputs": [
    {
     "name": "stdout",
     "output_type": "stream",
     "text": [
      "dataset_three.csv\n",
      "numeric_one.csv\n",
      "numeric_three_extended.csv\n",
      "numeric_three_extended_normalized.csv\n",
      "numeric_three_extended_normalized_final.csv\n",
      "numeric_two_extrafeatures.csv\n",
      "test.csv\n",
      "train.csv\n",
      "train_new_innerjoin.csv\n",
      "train_new_leftjoin.csv\n",
      "train_new_numeric.csv\n",
      "\n"
     ]
    }
   ],
   "source": [
    "import pandas as pd\n",
    "# import seaborn as sns\n",
    "# from sklearn import tree\n",
    "# import numpy as np\n",
    "from subprocess import check_output\n",
    "\n",
    "print(check_output([\"ls\", \"data\"]).decode(\"utf8\"))"
   ]
  },
  {
   "cell_type": "code",
   "execution_count": 3,
   "metadata": {
    "collapsed": false
   },
   "outputs": [
    {
     "data": {
      "text/plain": [
       "(83096, 14)"
      ]
     },
     "execution_count": 3,
     "metadata": {},
     "output_type": "execute_result"
    }
   ],
   "source": [
    "train_data = pd.read_csv(\"data/numeric_three_extended_normalized_final.csv\")\n",
    "train_data.shape"
   ]
  },
  {
   "cell_type": "code",
   "execution_count": 4,
   "metadata": {
    "collapsed": false
   },
   "outputs": [
    {
     "data": {
      "text/html": [
       "<div>\n",
       "<table border=\"1\" class=\"dataframe\">\n",
       "  <thead>\n",
       "    <tr style=\"text-align: right;\">\n",
       "      <th></th>\n",
       "      <th>description_size</th>\n",
       "      <th>goal_usd_scaled</th>\n",
       "      <th>disable_communication</th>\n",
       "      <th>country</th>\n",
       "      <th>backers_count_norm</th>\n",
       "      <th>final_status</th>\n",
       "      <th>project_duration</th>\n",
       "      <th>creation_to_launch</th>\n",
       "      <th>staff_pick</th>\n",
       "      <th>is_starrable</th>\n",
       "      <th>pledged_usd_scaled</th>\n",
       "      <th>main_category</th>\n",
       "      <th>sub_category</th>\n",
       "      <th>spotlight</th>\n",
       "    </tr>\n",
       "  </thead>\n",
       "  <tbody>\n",
       "    <tr>\n",
       "      <th>0</th>\n",
       "      <td>134.0</td>\n",
       "      <td>1.999000e-07</td>\n",
       "      <td>0.0</td>\n",
       "      <td>10</td>\n",
       "      <td>0.000028</td>\n",
       "      <td>1</td>\n",
       "      <td>8</td>\n",
       "      <td>0</td>\n",
       "      <td>1</td>\n",
       "      <td>0</td>\n",
       "      <td>0.000003</td>\n",
       "      <td>0</td>\n",
       "      <td>61</td>\n",
       "      <td>1</td>\n",
       "    </tr>\n",
       "  </tbody>\n",
       "</table>\n",
       "</div>"
      ],
      "text/plain": [
       "   description_size  goal_usd_scaled  disable_communication  country  \\\n",
       "0             134.0     1.999000e-07                    0.0       10   \n",
       "\n",
       "   backers_count_norm  final_status  project_duration  creation_to_launch  \\\n",
       "0            0.000028             1                 8                   0   \n",
       "\n",
       "   staff_pick  is_starrable  pledged_usd_scaled  main_category  sub_category  \\\n",
       "0           1             0            0.000003              0            61   \n",
       "\n",
       "   spotlight  \n",
       "0          1  "
      ]
     },
     "execution_count": 4,
     "metadata": {},
     "output_type": "execute_result"
    }
   ],
   "source": [
    "train_data.head(1)"
   ]
  },
  {
   "cell_type": "code",
   "execution_count": 5,
   "metadata": {
    "collapsed": true
   },
   "outputs": [],
   "source": [
    "train_copy = train_data.copy()"
   ]
  },
  {
   "cell_type": "markdown",
   "metadata": {},
   "source": [
    "# Drop posterior featuers\n",
    "\n",
    "backers_count, pledge"
   ]
  },
  {
   "cell_type": "code",
   "execution_count": 6,
   "metadata": {
    "collapsed": true
   },
   "outputs": [],
   "source": [
    "# extract backers_count\n",
    "y_backers = train_copy.backers_count_norm.values.tolist()\n",
    "train_copy.drop(\"backers_count_norm\", axis=1, inplace=True)\n",
    "# del train_copy['backers_count_norm']\n",
    "\n",
    "# extract pledged amount\n",
    "y_pledge = train_copy.pledged_usd_scaled.values.tolist()\n",
    "train_copy.drop(\"pledged_usd_scaled\", axis=1, inplace=True)\n",
    "# del train_copy['pledged_usd_scaled']\n",
    "\n",
    "# extract final_status\n",
    "y_status = train_copy.final_status.values.tolist()\n",
    "train_copy.drop(\"final_status\", axis=1, inplace=True)\n",
    "# del train_copy['final_status']"
   ]
  },
  {
   "cell_type": "code",
   "execution_count": 8,
   "metadata": {
    "collapsed": false
   },
   "outputs": [
    {
     "data": {
      "text/html": [
       "<div>\n",
       "<table border=\"1\" class=\"dataframe\">\n",
       "  <thead>\n",
       "    <tr style=\"text-align: right;\">\n",
       "      <th></th>\n",
       "      <th>description_size</th>\n",
       "      <th>goal_usd_scaled</th>\n",
       "      <th>disable_communication</th>\n",
       "      <th>country</th>\n",
       "      <th>project_duration</th>\n",
       "      <th>creation_to_launch</th>\n",
       "      <th>staff_pick</th>\n",
       "      <th>is_starrable</th>\n",
       "      <th>main_category</th>\n",
       "      <th>sub_category</th>\n",
       "      <th>spotlight</th>\n",
       "    </tr>\n",
       "  </thead>\n",
       "  <tbody>\n",
       "    <tr>\n",
       "      <th>0</th>\n",
       "      <td>134.0</td>\n",
       "      <td>1.999000e-07</td>\n",
       "      <td>0.0</td>\n",
       "      <td>10</td>\n",
       "      <td>8</td>\n",
       "      <td>0</td>\n",
       "      <td>1</td>\n",
       "      <td>0</td>\n",
       "      <td>0</td>\n",
       "      <td>61</td>\n",
       "      <td>1</td>\n",
       "    </tr>\n",
       "  </tbody>\n",
       "</table>\n",
       "</div>"
      ],
      "text/plain": [
       "   description_size  goal_usd_scaled  disable_communication  country  \\\n",
       "0             134.0     1.999000e-07                    0.0       10   \n",
       "\n",
       "   project_duration  creation_to_launch  staff_pick  is_starrable  \\\n",
       "0                 8                   0           1             0   \n",
       "\n",
       "   main_category  sub_category  spotlight  \n",
       "0              0            61          1  "
      ]
     },
     "execution_count": 8,
     "metadata": {},
     "output_type": "execute_result"
    }
   ],
   "source": [
    "train_copy.head(1)"
   ]
  },
  {
   "cell_type": "markdown",
   "metadata": {},
   "source": [
    "# Train-Test Split 80-20\n",
    "\n",
    "<b>train_test_split()</b>\n",
    "\n",
    "Split arrays or matrices into random train and test subsets\n",
    "Quick utility that wraps input validation and next(ShuffleSplit().split(X, y)) and application to input data into a single call for splitting (and optionally subsampling) data in a oneliner."
   ]
  },
  {
   "cell_type": "code",
   "execution_count": 9,
   "metadata": {
    "collapsed": true
   },
   "outputs": [],
   "source": [
    "from sklearn.model_selection import train_test_split\n",
    "\n",
    "\n",
    "features = train_copy.values.tolist()  # extracting features as lists.\n",
    "\n",
    "# the split - separate for every regression use y as per prediction \n",
    "# X_train, X_test, y_train, y_test = train_test_split(features, class_label, test_size=0.2, random_state=40)\n",
    "\n"
   ]
  },
  {
   "cell_type": "markdown",
   "metadata": {},
   "source": [
    "#  Predicting the posterior features\n",
    "\n",
    "backers_count, pledge, \n",
    "\n",
    "Remove the 'spotlight' feature - \n",
    "\n",
    "\n",
    "\n",
    "For regression use:\n",
    "\n",
    "<b>SGD Regressor</b> - If examples > 100,000\n",
    "\n",
    "<b>Lasso , ElasticNet</b>\n",
    "\n",
    "<b>RidgeRegression , SVR(kernel=\"linear\")</b>\n",
    "\n",
    "<b>EnsembleRegressors , SVR(kernel=\"rbf\")</b>"
   ]
  },
  {
   "cell_type": "code",
   "execution_count": 12,
   "metadata": {
    "collapsed": true
   },
   "outputs": [],
   "source": [
    "from sklearn import metrics"
   ]
  },
  {
   "cell_type": "markdown",
   "metadata": {},
   "source": [
    "# 1. Ridge Regression\n",
    "\n",
    "Linear least squares with l2 regularization.\n",
    "This model solves a regression model where the loss function is the linear least squares function and regularization is given by the l2-norm. Also known as Ridge Regression or Tikhonov regularization. This estimator has built-in support for multi-variate regression (i.e., when y is a 2d-array of shape [n_samples, n_targets])."
   ]
  },
  {
   "cell_type": "code",
   "execution_count": 13,
   "metadata": {
    "collapsed": false
   },
   "outputs": [
    {
     "data": {
      "text/plain": [
       "Ridge(alpha=1.0, copy_X=True, fit_intercept=True, max_iter=None,\n",
       "   normalize=False, random_state=None, solver='auto', tol=0.001)"
      ]
     },
     "execution_count": 13,
     "metadata": {},
     "output_type": "execute_result"
    }
   ],
   "source": [
    "from sklearn.linear_model import Ridge\n",
    "\n",
    "\n",
    "\n",
    "# the split\n",
    "X_train_backers, X_test_backers, y_train_backers, y_test_backers = train_test_split(features, y_backers, \n",
    "                                                                                    test_size=0.2, \n",
    "                                                                                    random_state=40)\n",
    "\n",
    "\n",
    "ridge_model = Ridge(alpha=1.0)\n",
    "ridge_model.fit(X_train_backers, y_train_backers) \n"
   ]
  },
  {
   "cell_type": "code",
   "execution_count": 16,
   "metadata": {
    "collapsed": false
   },
   "outputs": [
    {
     "name": "stdout",
     "output_type": "stream",
     "text": [
      "[ 0.00131064 -0.0003805   0.00093277  0.00657318  0.0004239 ]\n"
     ]
    }
   ],
   "source": [
    "# make predictions\n",
    "expected = y_test_backers\n",
    "predicted_rr = ridge_model.predict(X_test_backers)\n",
    "\n",
    "\n",
    "print(predicted_rr[:5])\n",
    "# summarize the fit of the model\n",
    "# print(metrics.classification_report(expected, predicted_rr))\n"
   ]
  },
  {
   "cell_type": "code",
   "execution_count": 17,
   "metadata": {
    "collapsed": false
   },
   "outputs": [
    {
     "data": {
      "text/plain": [
       "0.039002916700242252"
      ]
     },
     "execution_count": 17,
     "metadata": {},
     "output_type": "execute_result"
    }
   ],
   "source": [
    "ridge_model.score(X_test_backers, y_test_backers)"
   ]
  },
  {
   "cell_type": "code",
   "execution_count": null,
   "metadata": {
    "collapsed": true
   },
   "outputs": [],
   "source": []
  },
  {
   "cell_type": "markdown",
   "metadata": {},
   "source": [
    "# 2. SVR\n",
    "\n",
    "\n",
    "default kernel - rbf"
   ]
  },
  {
   "cell_type": "code",
   "execution_count": 18,
   "metadata": {
    "collapsed": false
   },
   "outputs": [
    {
     "data": {
      "text/plain": [
       "SVR(C=1.0, cache_size=200, coef0=0.0, degree=3, epsilon=0.2, gamma='auto',\n",
       "  kernel='rbf', max_iter=-1, shrinking=True, tol=0.001, verbose=False)"
      ]
     },
     "execution_count": 18,
     "metadata": {},
     "output_type": "execute_result"
    }
   ],
   "source": [
    "from sklearn.svm import SVR\n",
    "\n",
    "\n",
    "svr_model = SVR(C=1.0, epsilon=0.2, kernel=\"linear\")\n",
    "svr_model.fit(X_train_backers, y_train_backers) "
   ]
  },
  {
   "cell_type": "code",
   "execution_count": null,
   "metadata": {
    "collapsed": true
   },
   "outputs": [],
   "source": [
    "# make predictions\n",
    "expected = y_test_backers\n",
    "predicted_svr = svr_model.predict(X_test_backers)\n",
    "\n",
    "\n",
    "print(predicted_svr[:5])\n",
    "# summarize the fit of the model\n",
    "# print(metrics.classification_report(expected, predicted_rr))\n",
    "\n",
    "print(svr_model.score(X_test_backers, y_test_backers))"
   ]
  }
 ],
 "metadata": {
  "kernelspec": {
   "display_name": "Python 2",
   "language": "python",
   "name": "python2"
  },
  "language_info": {
   "codemirror_mode": {
    "name": "ipython",
    "version": 2
   },
   "file_extension": ".py",
   "mimetype": "text/x-python",
   "name": "python",
   "nbconvert_exporter": "python",
   "pygments_lexer": "ipython2",
   "version": "2.7.13"
  }
 },
 "nbformat": 4,
 "nbformat_minor": 2
}
