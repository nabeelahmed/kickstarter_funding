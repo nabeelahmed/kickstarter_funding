{
 "cells": [
  {
   "cell_type": "code",
   "execution_count": 1,
   "metadata": {
    "collapsed": true
   },
   "outputs": [],
   "source": [
    "import pandas as pd\n",
    "# import seaborn as sns\n",
    "# from sklearn import tree\n",
    "# import numpy as np\n"
   ]
  },
  {
   "cell_type": "code",
   "execution_count": 3,
   "metadata": {
    "collapsed": false
   },
   "outputs": [
    {
     "name": "stdout",
     "output_type": "stream",
     "text": [
      "kickstarter_projects.csv\n",
      "kickstarter_projects_proper.csv\n",
      "new_dataset.csv\n",
      "samplesubmission.csv\n",
      "test.csv\n",
      "train.csv\n",
      "train_new.csv\n",
      "train_new_innerjoin.csv\n",
      "train_new_leftjoin.csv\n",
      "train_new_numeric.csv\n",
      "train_ready.csv\n",
      "\n"
     ]
    }
   ],
   "source": [
    "from subprocess import check_output\n",
    "print(check_output([\"ls\", \"data\"]).decode(\"utf8\"))"
   ]
  },
  {
   "cell_type": "code",
   "execution_count": 53,
   "metadata": {
    "collapsed": true
   },
   "outputs": [],
   "source": [
    "train_data = pd.read_csv(\"data/train_new_numeric.csv\")"
   ]
  },
  {
   "cell_type": "code",
   "execution_count": 40,
   "metadata": {
    "collapsed": false
   },
   "outputs": [
    {
     "data": {
      "text/plain": [
       "(83096, 35)"
      ]
     },
     "execution_count": 40,
     "metadata": {},
     "output_type": "execute_result"
    }
   ],
   "source": [
    "train_data.shape"
   ]
  },
  {
   "cell_type": "code",
   "execution_count": 9,
   "metadata": {
    "collapsed": false
   },
   "outputs": [
    {
     "data": {
      "text/html": [
       "<div>\n",
       "<table border=\"1\" class=\"dataframe\">\n",
       "  <thead>\n",
       "    <tr style=\"text-align: right;\">\n",
       "      <th></th>\n",
       "      <th>description_size</th>\n",
       "      <th>goal</th>\n",
       "      <th>disable_communication</th>\n",
       "      <th>country</th>\n",
       "      <th>backers_count</th>\n",
       "      <th>final_status</th>\n",
       "      <th>std_goal</th>\n",
       "      <th>project_duration</th>\n",
       "      <th>creation_to_launch</th>\n",
       "      <th>pledged</th>\n",
       "      <th>staff_pick</th>\n",
       "      <th>is_starrable</th>\n",
       "      <th>static_usd_rate</th>\n",
       "      <th>usd_pledged</th>\n",
       "      <th>main_category</th>\n",
       "      <th>sub_category</th>\n",
       "      <th>spotlight</th>\n",
       "      <th>is_backing</th>\n",
       "      <th>is_starred</th>\n",
       "    </tr>\n",
       "  </thead>\n",
       "  <tbody>\n",
       "    <tr>\n",
       "      <th>count</th>\n",
       "      <td>83079.000000</td>\n",
       "      <td>8.309600e+04</td>\n",
       "      <td>83096.000000</td>\n",
       "      <td>83096.000000</td>\n",
       "      <td>83096.000000</td>\n",
       "      <td>83096.000000</td>\n",
       "      <td>83096.000000</td>\n",
       "      <td>83096.000000</td>\n",
       "      <td>83096.000000</td>\n",
       "      <td>8.309600e+04</td>\n",
       "      <td>83096.000000</td>\n",
       "      <td>83096.000000</td>\n",
       "      <td>83096.000000</td>\n",
       "      <td>8.309600e+04</td>\n",
       "      <td>83096.000000</td>\n",
       "      <td>83096.000000</td>\n",
       "      <td>83096.000000</td>\n",
       "      <td>0.0</td>\n",
       "      <td>0.0</td>\n",
       "    </tr>\n",
       "    <tr>\n",
       "      <th>mean</th>\n",
       "      <td>128.266806</td>\n",
       "      <td>3.755120e+04</td>\n",
       "      <td>0.003454</td>\n",
       "      <td>8.960191</td>\n",
       "      <td>133.522275</td>\n",
       "      <td>0.351702</td>\n",
       "      <td>0.000376</td>\n",
       "      <td>33.889176</td>\n",
       "      <td>35.733441</td>\n",
       "      <td>1.046335e+04</td>\n",
       "      <td>0.122340</td>\n",
       "      <td>0.000229</td>\n",
       "      <td>1.037177</td>\n",
       "      <td>1.058518e+04</td>\n",
       "      <td>7.569799</td>\n",
       "      <td>74.561964</td>\n",
       "      <td>0.482550</td>\n",
       "      <td>NaN</td>\n",
       "      <td>NaN</td>\n",
       "    </tr>\n",
       "    <tr>\n",
       "      <th>std</th>\n",
       "      <td>68.730961</td>\n",
       "      <td>1.032037e+06</td>\n",
       "      <td>0.058668</td>\n",
       "      <td>2.598463</td>\n",
       "      <td>1049.540416</td>\n",
       "      <td>0.477504</td>\n",
       "      <td>0.010320</td>\n",
       "      <td>13.011661</td>\n",
       "      <td>84.305255</td>\n",
       "      <td>9.734290e+04</td>\n",
       "      <td>0.327681</td>\n",
       "      <td>0.015120</td>\n",
       "      <td>0.181879</td>\n",
       "      <td>9.791797e+04</td>\n",
       "      <td>4.164941</td>\n",
       "      <td>40.712967</td>\n",
       "      <td>0.499698</td>\n",
       "      <td>NaN</td>\n",
       "      <td>NaN</td>\n",
       "    </tr>\n",
       "    <tr>\n",
       "      <th>min</th>\n",
       "      <td>1.000000</td>\n",
       "      <td>1.000000e-02</td>\n",
       "      <td>0.000000</td>\n",
       "      <td>0.000000</td>\n",
       "      <td>0.000000</td>\n",
       "      <td>0.000000</td>\n",
       "      <td>0.000000</td>\n",
       "      <td>1.000000</td>\n",
       "      <td>0.000000</td>\n",
       "      <td>0.000000e+00</td>\n",
       "      <td>0.000000</td>\n",
       "      <td>0.000000</td>\n",
       "      <td>0.056937</td>\n",
       "      <td>0.000000e+00</td>\n",
       "      <td>0.000000</td>\n",
       "      <td>0.000000</td>\n",
       "      <td>0.000000</td>\n",
       "      <td>NaN</td>\n",
       "      <td>NaN</td>\n",
       "    </tr>\n",
       "    <tr>\n",
       "      <th>25%</th>\n",
       "      <td>105.000000</td>\n",
       "      <td>1.600000e+03</td>\n",
       "      <td>0.000000</td>\n",
       "      <td>10.000000</td>\n",
       "      <td>2.000000</td>\n",
       "      <td>0.000000</td>\n",
       "      <td>0.000016</td>\n",
       "      <td>30.000000</td>\n",
       "      <td>2.000000</td>\n",
       "      <td>5.000000e+01</td>\n",
       "      <td>0.000000</td>\n",
       "      <td>0.000000</td>\n",
       "      <td>1.000000</td>\n",
       "      <td>5.000000e+01</td>\n",
       "      <td>5.000000</td>\n",
       "      <td>39.000000</td>\n",
       "      <td>0.000000</td>\n",
       "      <td>NaN</td>\n",
       "      <td>NaN</td>\n",
       "    </tr>\n",
       "    <tr>\n",
       "      <th>50%</th>\n",
       "      <td>126.000000</td>\n",
       "      <td>5.000000e+03</td>\n",
       "      <td>0.000000</td>\n",
       "      <td>10.000000</td>\n",
       "      <td>19.000000</td>\n",
       "      <td>0.000000</td>\n",
       "      <td>0.000050</td>\n",
       "      <td>30.000000</td>\n",
       "      <td>9.000000</td>\n",
       "      <td>1.030000e+03</td>\n",
       "      <td>0.000000</td>\n",
       "      <td>0.000000</td>\n",
       "      <td>1.000000</td>\n",
       "      <td>1.050000e+03</td>\n",
       "      <td>8.000000</td>\n",
       "      <td>81.000000</td>\n",
       "      <td>0.000000</td>\n",
       "      <td>NaN</td>\n",
       "      <td>NaN</td>\n",
       "    </tr>\n",
       "    <tr>\n",
       "      <th>75%</th>\n",
       "      <td>133.000000</td>\n",
       "      <td>1.250000e+04</td>\n",
       "      <td>0.000000</td>\n",
       "      <td>10.000000</td>\n",
       "      <td>70.000000</td>\n",
       "      <td>1.000000</td>\n",
       "      <td>0.000125</td>\n",
       "      <td>37.000000</td>\n",
       "      <td>31.000000</td>\n",
       "      <td>5.135000e+03</td>\n",
       "      <td>0.000000</td>\n",
       "      <td>0.000000</td>\n",
       "      <td>1.000000</td>\n",
       "      <td>5.180000e+03</td>\n",
       "      <td>11.000000</td>\n",
       "      <td>112.000000</td>\n",
       "      <td>1.000000</td>\n",
       "      <td>NaN</td>\n",
       "      <td>NaN</td>\n",
       "    </tr>\n",
       "    <tr>\n",
       "      <th>max</th>\n",
       "      <td>1151.000000</td>\n",
       "      <td>1.000000e+08</td>\n",
       "      <td>1.000000</td>\n",
       "      <td>10.000000</td>\n",
       "      <td>105857.000000</td>\n",
       "      <td>1.000000</td>\n",
       "      <td>1.000000</td>\n",
       "      <td>91.000000</td>\n",
       "      <td>1903.000000</td>\n",
       "      <td>1.328523e+07</td>\n",
       "      <td>1.000000</td>\n",
       "      <td>1.000000</td>\n",
       "      <td>1.716408</td>\n",
       "      <td>1.328523e+07</td>\n",
       "      <td>14.000000</td>\n",
       "      <td>142.000000</td>\n",
       "      <td>1.000000</td>\n",
       "      <td>NaN</td>\n",
       "      <td>NaN</td>\n",
       "    </tr>\n",
       "  </tbody>\n",
       "</table>\n",
       "</div>"
      ],
      "text/plain": [
       "       description_size          goal  disable_communication       country  \\\n",
       "count      83079.000000  8.309600e+04           83096.000000  83096.000000   \n",
       "mean         128.266806  3.755120e+04               0.003454      8.960191   \n",
       "std           68.730961  1.032037e+06               0.058668      2.598463   \n",
       "min            1.000000  1.000000e-02               0.000000      0.000000   \n",
       "25%          105.000000  1.600000e+03               0.000000     10.000000   \n",
       "50%          126.000000  5.000000e+03               0.000000     10.000000   \n",
       "75%          133.000000  1.250000e+04               0.000000     10.000000   \n",
       "max         1151.000000  1.000000e+08               1.000000     10.000000   \n",
       "\n",
       "       backers_count  final_status      std_goal  project_duration  \\\n",
       "count   83096.000000  83096.000000  83096.000000      83096.000000   \n",
       "mean      133.522275      0.351702      0.000376         33.889176   \n",
       "std      1049.540416      0.477504      0.010320         13.011661   \n",
       "min         0.000000      0.000000      0.000000          1.000000   \n",
       "25%         2.000000      0.000000      0.000016         30.000000   \n",
       "50%        19.000000      0.000000      0.000050         30.000000   \n",
       "75%        70.000000      1.000000      0.000125         37.000000   \n",
       "max    105857.000000      1.000000      1.000000         91.000000   \n",
       "\n",
       "       creation_to_launch       pledged    staff_pick  is_starrable  \\\n",
       "count        83096.000000  8.309600e+04  83096.000000  83096.000000   \n",
       "mean            35.733441  1.046335e+04      0.122340      0.000229   \n",
       "std             84.305255  9.734290e+04      0.327681      0.015120   \n",
       "min              0.000000  0.000000e+00      0.000000      0.000000   \n",
       "25%              2.000000  5.000000e+01      0.000000      0.000000   \n",
       "50%              9.000000  1.030000e+03      0.000000      0.000000   \n",
       "75%             31.000000  5.135000e+03      0.000000      0.000000   \n",
       "max           1903.000000  1.328523e+07      1.000000      1.000000   \n",
       "\n",
       "       static_usd_rate   usd_pledged  main_category  sub_category  \\\n",
       "count     83096.000000  8.309600e+04   83096.000000  83096.000000   \n",
       "mean          1.037177  1.058518e+04       7.569799     74.561964   \n",
       "std           0.181879  9.791797e+04       4.164941     40.712967   \n",
       "min           0.056937  0.000000e+00       0.000000      0.000000   \n",
       "25%           1.000000  5.000000e+01       5.000000     39.000000   \n",
       "50%           1.000000  1.050000e+03       8.000000     81.000000   \n",
       "75%           1.000000  5.180000e+03      11.000000    112.000000   \n",
       "max           1.716408  1.328523e+07      14.000000    142.000000   \n",
       "\n",
       "          spotlight  is_backing  is_starred  \n",
       "count  83096.000000         0.0         0.0  \n",
       "mean       0.482550         NaN         NaN  \n",
       "std        0.499698         NaN         NaN  \n",
       "min        0.000000         NaN         NaN  \n",
       "25%        0.000000         NaN         NaN  \n",
       "50%        0.000000         NaN         NaN  \n",
       "75%        1.000000         NaN         NaN  \n",
       "max        1.000000         NaN         NaN  "
      ]
     },
     "execution_count": 9,
     "metadata": {},
     "output_type": "execute_result"
    }
   ],
   "source": [
    "train_data.describe()"
   ]
  },
  {
   "cell_type": "code",
   "execution_count": 54,
   "metadata": {
    "collapsed": false,
    "scrolled": true
   },
   "outputs": [
    {
     "name": "stdout",
     "output_type": "stream",
     "text": [
      "project_id                object\n",
      "name                      object\n",
      "desc                      object\n",
      "description_size         float64\n",
      "goal_norm                float64\n",
      "goal                     float64\n",
      "keywords                  object\n",
      "disable_communication    float64\n",
      "country                    int64\n",
      "currency                  object\n",
      "deadline                  object\n",
      "state_changed_at          object\n",
      "created_at                object\n",
      "launched_at               object\n",
      "backers_count              int64\n",
      "final_status               int64\n",
      "std_goal                 float64\n",
      "project_duration           int64\n",
      "creation_to_launch         int64\n",
      "photo                     object\n",
      "pledged                  float64\n",
      "state                     object\n",
      "staff_pick               float64\n",
      "is_starrable             float64\n",
      "static_usd_rate          float64\n",
      "usd_pledged              float64\n",
      "creator                   object\n",
      "category                  object\n",
      "main_category              int64\n",
      "sub_category               int64\n",
      "profile                   object\n",
      "spotlight                float64\n",
      "is_backing               float64\n",
      "is_starred               float64\n",
      "backers_count_norm       float64\n",
      "dtype: object\n"
     ]
    }
   ],
   "source": [
    "train_copy = train_data.copy()\n",
    "print(train_copy.dtypes)"
   ]
  },
  {
   "cell_type": "code",
   "execution_count": 13,
   "metadata": {
    "collapsed": true
   },
   "outputs": [],
   "source": [
    "from sklearn import tree\n",
    "import numpy as np"
   ]
  },
  {
   "cell_type": "code",
   "execution_count": 55,
   "metadata": {
    "collapsed": false
   },
   "outputs": [],
   "source": [
    "dtree_one = tree.DecisionTreeClassifier()  # getting the tree\n",
    "\n",
    "\n",
    "target = train_copy[\"final_status\"].values\n",
    "features = train_copy[[\"goal_norm\", \"description_size\", \"backers_count_norm\", \"creation_to_launch\", \n",
    "                        \"project_duration\", \"country\", \"pledged\", \"staff_pick\", \n",
    "                        \"main_category\", \"sub_category\", \"spotlight\"]].values\n",
    "dtree_one = dtree_one.fit(features, target)  # fitting/training the tree classifier"
   ]
  },
  {
   "cell_type": "code",
   "execution_count": 56,
   "metadata": {
    "collapsed": false
   },
   "outputs": [
    {
     "name": "stdout",
     "output_type": "stream",
     "text": [
      "[  3.33699033e-01   3.16528460e-03   3.88849840e-01   3.06645084e-03\n",
      "   2.11092582e-03   5.29162106e-04   2.63231167e-01   1.87707841e-04\n",
      "   1.74009301e-03   3.18123941e-03   2.39096046e-04]\n",
      "1.0\n"
     ]
    }
   ],
   "source": [
    "print(dtree_one.feature_importances_)  # probably be calculating the inforamtion gain/entropy\n",
    "print(dtree_one.score(features, target))"
   ]
  },
  {
   "cell_type": "code",
   "execution_count": 65,
   "metadata": {
    "collapsed": true
   },
   "outputs": [],
   "source": [
    "max_depth = 7\n",
    "min_samples_split = 5\n",
    "\n",
    "dtree_three = tree.DecisionTreeClassifier(max_depth = max_depth, min_samples_split = min_samples_split, random_state = 1)"
   ]
  },
  {
   "cell_type": "code",
   "execution_count": 66,
   "metadata": {
    "collapsed": false
   },
   "outputs": [
    {
     "name": "stdout",
     "output_type": "stream",
     "text": [
      "0.91512226822\n",
      "[  2.82735316e-01   2.65678386e-05   5.20345901e-01   0.00000000e+00\n",
      "   1.75498701e-05   0.00000000e+00   1.96793569e-01   0.00000000e+00\n",
      "   0.00000000e+00   7.40806851e-05   7.01649611e-06]\n"
     ]
    }
   ],
   "source": [
    "dtree_three = dtree_three.fit(features, target)  # fitting/training the tree classifier\n",
    "print(dtree_three.score(features, target))\n",
    "print(dtree_three.feature_importances_)"
   ]
  },
  {
   "cell_type": "code",
   "execution_count": null,
   "metadata": {
    "collapsed": true
   },
   "outputs": [],
   "source": []
  },
  {
   "cell_type": "code",
   "execution_count": null,
   "metadata": {
    "collapsed": true
   },
   "outputs": [],
   "source": []
  },
  {
   "cell_type": "markdown",
   "metadata": {},
   "source": [
    "# RandomForest Classifier\n",
    "\n",
    "the Random Forest technique handles the overfitting problem you faced with decision trees. It grows multiple (very deep) classification trees using the training set. <b>At the time of prediction, each tree is used to come up with a prediction and every outcome is counted as a vote</b>. For example, if you have trained 3 trees with 2 saying a passenger in the test set will survive and 1 says he will not, the passenger will be classified as a survivor. This approach of overtraining trees, but having the majority's vote count as the actual classification decision, avoids overfitting.\n",
    "\n",
    "\n",
    "bagging and random forests - Averages predictions from a base set of models, can have difficulty making predictions near 0 and 1 because variance in the underlying base models will bias predictions that should be near zero or one away from these values."
   ]
  },
  {
   "cell_type": "code",
   "execution_count": 68,
   "metadata": {
    "collapsed": false
   },
   "outputs": [
    {
     "name": "stdout",
     "output_type": "stream",
     "text": [
      "0.932896890344\n",
      "[ 0.21725772  0.00514978  0.37316984  0.00916902  0.00939525  0.00154576\n",
      "  0.32600889  0.02056068  0.01161932  0.01301292  0.01311084]\n"
     ]
    }
   ],
   "source": [
    "from sklearn.ensemble import RandomForestClassifier\n",
    "\n",
    "# features = train_copy[[\"goal\", \"goal_log\", \"backers_count\", \"creation_to_launch\", \"project_duration\"]].values\n",
    "# target = train_copy[\"final_status\"].values\n",
    "\n",
    "# Building and fitting my_forest\n",
    "forest = RandomForestClassifier(max_depth = 10, min_samples_split=2, n_estimators = 100, random_state = 1) # initializing classifier\n",
    "my_forest = forest.fit(features, target)  # fitting/training the classifier\n",
    "\n",
    "# Print the score of the fitted random forest\n",
    "print(my_forest.score(features, target))   # for calculating the mean accuracy of the model.\n",
    "print(my_forest.feature_importances_)\n"
   ]
  },
  {
   "cell_type": "code",
   "execution_count": null,
   "metadata": {
    "collapsed": true
   },
   "outputs": [],
   "source": []
  }
 ],
 "metadata": {
  "kernelspec": {
   "display_name": "Python 2",
   "language": "python",
   "name": "python2"
  },
  "language_info": {
   "codemirror_mode": {
    "name": "ipython",
    "version": 2
   },
   "file_extension": ".py",
   "mimetype": "text/x-python",
   "name": "python",
   "nbconvert_exporter": "python",
   "pygments_lexer": "ipython2",
   "version": "2.7.13"
  }
 },
 "nbformat": 4,
 "nbformat_minor": 2
}
