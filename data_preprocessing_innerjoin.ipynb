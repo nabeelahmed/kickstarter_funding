{
 "cells": [
  {
   "cell_type": "markdown",
   "metadata": {},
   "source": [
    "# Final data pre-processing:\n",
    "\n",
    "So far have intend to use the original kaggele data - but for better model training merged the freshly scrapped data, with new additional features - ['name', 'photo', 'pledged', 'state', 'staff_pick', \n",
    "                             'is_starrable', 'static_usd_rate', 'usd_pledged', 'creator', \n",
    "                             'category', 'profile', 'spotlight']\n",
    "                             \n",
    "                             \n",
    " <b>Now the usable datasets are</b>:\n",
    " \n",
    " train_new_innerjoin - (83096, 25)\n",
    " \n",
    " train_new_leftjoin - (108800, 25)\n",
    "                             "
   ]
  },
  {
   "cell_type": "code",
   "execution_count": 17,
   "metadata": {
    "collapsed": false
   },
   "outputs": [
    {
     "name": "stdout",
     "output_type": "stream",
     "text": [
      "kickstarter_projects.csv\n",
      "kickstarter_projects_proper.csv\n",
      "new_dataset.csv\n",
      "samplesubmission.csv\n",
      "test.csv\n",
      "train.csv\n",
      "train_new.csv\n",
      "train_new_innerjoin.csv\n",
      "train_new_leftjoin.csv\n",
      "train_new_numeric.csv\n",
      "train_ready.csv\n",
      "\n"
     ]
    }
   ],
   "source": [
    "from subprocess import check_output\n",
    "print(check_output([\"ls\", \"data\"]).decode(\"utf8\"))\n"
   ]
  },
  {
   "cell_type": "code",
   "execution_count": 20,
   "metadata": {
    "collapsed": false
   },
   "outputs": [
    {
     "data": {
      "text/plain": [
       "(83096, 31)"
      ]
     },
     "execution_count": 20,
     "metadata": {},
     "output_type": "execute_result"
    }
   ],
   "source": [
    "import pandas as pd\n",
    "\n",
    "train_innerjoin = pd.read_csv('data/train_new_innerjoin.csv')\n",
    "train_innerjoin.shape"
   ]
  },
  {
   "cell_type": "code",
   "execution_count": 25,
   "metadata": {
    "collapsed": false
   },
   "outputs": [
    {
     "data": {
      "text/html": [
       "<div>\n",
       "<table border=\"1\" class=\"dataframe\">\n",
       "  <thead>\n",
       "    <tr style=\"text-align: right;\">\n",
       "      <th></th>\n",
       "      <th>project_id</th>\n",
       "      <th>name</th>\n",
       "      <th>desc</th>\n",
       "      <th>description_size</th>\n",
       "      <th>goal</th>\n",
       "      <th>keywords</th>\n",
       "      <th>disable_communication</th>\n",
       "      <th>country</th>\n",
       "      <th>currency</th>\n",
       "      <th>deadline</th>\n",
       "      <th>...</th>\n",
       "      <th>staff_pick</th>\n",
       "      <th>is_starrable</th>\n",
       "      <th>static_usd_rate</th>\n",
       "      <th>usd_pledged</th>\n",
       "      <th>creator</th>\n",
       "      <th>category</th>\n",
       "      <th>profile</th>\n",
       "      <th>spotlight</th>\n",
       "      <th>is_backing</th>\n",
       "      <th>is_starred</th>\n",
       "    </tr>\n",
       "  </thead>\n",
       "  <tbody>\n",
       "    <tr>\n",
       "      <th>0</th>\n",
       "      <td>kkst1451568084</td>\n",
       "      <td>drawing for dollars</td>\n",
       "      <td>I like drawing pictures. and then i color them...</td>\n",
       "      <td>134.0</td>\n",
       "      <td>20.0</td>\n",
       "      <td>drawing-for-dollars</td>\n",
       "      <td>False</td>\n",
       "      <td>US</td>\n",
       "      <td>USD</td>\n",
       "      <td>2009-05-03 06:59:59</td>\n",
       "      <td>...</td>\n",
       "      <td>True</td>\n",
       "      <td>False</td>\n",
       "      <td>1.0</td>\n",
       "      <td>35.0</td>\n",
       "      <td>{\"urls\":{\"web\":{\"user\":\"https://www.kickstarte...</td>\n",
       "      <td>{\"urls\":{\"web\":{\"discover\":\"http://www.kicksta...</td>\n",
       "      <td>{\"background_image_opacity\":0.8,\"should_show_f...</td>\n",
       "      <td>True</td>\n",
       "      <td>NaN</td>\n",
       "      <td>NaN</td>\n",
       "    </tr>\n",
       "    <tr>\n",
       "      <th>1</th>\n",
       "      <td>kkst183622197</td>\n",
       "      <td>Mr. Squiggles</td>\n",
       "      <td>So I saw darkpony's successfully funded drawin...</td>\n",
       "      <td>385.0</td>\n",
       "      <td>30.0</td>\n",
       "      <td>mr-squiggles</td>\n",
       "      <td>False</td>\n",
       "      <td>US</td>\n",
       "      <td>USD</td>\n",
       "      <td>2009-05-22 21:26:00</td>\n",
       "      <td>...</td>\n",
       "      <td>False</td>\n",
       "      <td>False</td>\n",
       "      <td>1.0</td>\n",
       "      <td>0.0</td>\n",
       "      <td>{\"urls\":{\"web\":{\"user\":\"https://www.kickstarte...</td>\n",
       "      <td>{\"urls\":{\"web\":{\"discover\":\"http://www.kicksta...</td>\n",
       "      <td>{\"background_image_opacity\":0.8,\"should_show_f...</td>\n",
       "      <td>False</td>\n",
       "      <td>NaN</td>\n",
       "      <td>NaN</td>\n",
       "    </tr>\n",
       "  </tbody>\n",
       "</table>\n",
       "<p>2 rows × 31 columns</p>\n",
       "</div>"
      ],
      "text/plain": [
       "       project_id                 name  \\\n",
       "0  kkst1451568084  drawing for dollars   \n",
       "1   kkst183622197        Mr. Squiggles   \n",
       "\n",
       "                                                desc  description_size  goal  \\\n",
       "0  I like drawing pictures. and then i color them...             134.0  20.0   \n",
       "1  So I saw darkpony's successfully funded drawin...             385.0  30.0   \n",
       "\n",
       "              keywords disable_communication country currency  \\\n",
       "0  drawing-for-dollars                 False      US      USD   \n",
       "1         mr-squiggles                 False      US      USD   \n",
       "\n",
       "              deadline     ...     staff_pick is_starrable static_usd_rate  \\\n",
       "0  2009-05-03 06:59:59     ...           True        False             1.0   \n",
       "1  2009-05-22 21:26:00     ...          False        False             1.0   \n",
       "\n",
       "   usd_pledged                                            creator  \\\n",
       "0         35.0  {\"urls\":{\"web\":{\"user\":\"https://www.kickstarte...   \n",
       "1          0.0  {\"urls\":{\"web\":{\"user\":\"https://www.kickstarte...   \n",
       "\n",
       "                                            category  \\\n",
       "0  {\"urls\":{\"web\":{\"discover\":\"http://www.kicksta...   \n",
       "1  {\"urls\":{\"web\":{\"discover\":\"http://www.kicksta...   \n",
       "\n",
       "                                             profile  spotlight is_backing  \\\n",
       "0  {\"background_image_opacity\":0.8,\"should_show_f...       True        NaN   \n",
       "1  {\"background_image_opacity\":0.8,\"should_show_f...      False        NaN   \n",
       "\n",
       "   is_starred  \n",
       "0         NaN  \n",
       "1         NaN  \n",
       "\n",
       "[2 rows x 31 columns]"
      ]
     },
     "execution_count": 25,
     "metadata": {},
     "output_type": "execute_result"
    }
   ],
   "source": [
    "train_innerjoin.head(2)"
   ]
  },
  {
   "cell_type": "raw",
   "metadata": {},
   "source": []
  },
  {
   "cell_type": "code",
   "execution_count": 6,
   "metadata": {
    "collapsed": false
   },
   "outputs": [
    {
     "data": {
      "text/html": [
       "<div>\n",
       "<table border=\"1\" class=\"dataframe\">\n",
       "  <thead>\n",
       "    <tr style=\"text-align: right;\">\n",
       "      <th></th>\n",
       "      <th>description_size</th>\n",
       "      <th>goal</th>\n",
       "      <th>backers_count</th>\n",
       "      <th>final_status</th>\n",
       "      <th>std_goal</th>\n",
       "      <th>project_duration</th>\n",
       "      <th>creation_to_launch</th>\n",
       "      <th>pledged</th>\n",
       "      <th>static_usd_rate</th>\n",
       "      <th>usd_pledged</th>\n",
       "      <th>is_backing</th>\n",
       "      <th>is_starred</th>\n",
       "    </tr>\n",
       "  </thead>\n",
       "  <tbody>\n",
       "    <tr>\n",
       "      <th>count</th>\n",
       "      <td>83079.000000</td>\n",
       "      <td>8.309600e+04</td>\n",
       "      <td>83096.000000</td>\n",
       "      <td>83096.000000</td>\n",
       "      <td>83096.000000</td>\n",
       "      <td>83096.000000</td>\n",
       "      <td>83096.000000</td>\n",
       "      <td>8.309600e+04</td>\n",
       "      <td>83096.000000</td>\n",
       "      <td>8.309600e+04</td>\n",
       "      <td>0.0</td>\n",
       "      <td>0.0</td>\n",
       "    </tr>\n",
       "    <tr>\n",
       "      <th>mean</th>\n",
       "      <td>128.266806</td>\n",
       "      <td>3.755120e+04</td>\n",
       "      <td>133.522275</td>\n",
       "      <td>0.351702</td>\n",
       "      <td>0.000376</td>\n",
       "      <td>33.889176</td>\n",
       "      <td>35.733441</td>\n",
       "      <td>1.046335e+04</td>\n",
       "      <td>1.037177</td>\n",
       "      <td>1.058518e+04</td>\n",
       "      <td>NaN</td>\n",
       "      <td>NaN</td>\n",
       "    </tr>\n",
       "    <tr>\n",
       "      <th>std</th>\n",
       "      <td>68.730961</td>\n",
       "      <td>1.032037e+06</td>\n",
       "      <td>1049.540416</td>\n",
       "      <td>0.477504</td>\n",
       "      <td>0.010320</td>\n",
       "      <td>13.011661</td>\n",
       "      <td>84.305255</td>\n",
       "      <td>9.734290e+04</td>\n",
       "      <td>0.181879</td>\n",
       "      <td>9.791797e+04</td>\n",
       "      <td>NaN</td>\n",
       "      <td>NaN</td>\n",
       "    </tr>\n",
       "    <tr>\n",
       "      <th>min</th>\n",
       "      <td>1.000000</td>\n",
       "      <td>1.000000e-02</td>\n",
       "      <td>0.000000</td>\n",
       "      <td>0.000000</td>\n",
       "      <td>0.000000</td>\n",
       "      <td>1.000000</td>\n",
       "      <td>0.000000</td>\n",
       "      <td>0.000000e+00</td>\n",
       "      <td>0.056937</td>\n",
       "      <td>0.000000e+00</td>\n",
       "      <td>NaN</td>\n",
       "      <td>NaN</td>\n",
       "    </tr>\n",
       "    <tr>\n",
       "      <th>25%</th>\n",
       "      <td>105.000000</td>\n",
       "      <td>1.600000e+03</td>\n",
       "      <td>2.000000</td>\n",
       "      <td>0.000000</td>\n",
       "      <td>0.000016</td>\n",
       "      <td>30.000000</td>\n",
       "      <td>2.000000</td>\n",
       "      <td>5.000000e+01</td>\n",
       "      <td>1.000000</td>\n",
       "      <td>5.000000e+01</td>\n",
       "      <td>NaN</td>\n",
       "      <td>NaN</td>\n",
       "    </tr>\n",
       "    <tr>\n",
       "      <th>50%</th>\n",
       "      <td>126.000000</td>\n",
       "      <td>5.000000e+03</td>\n",
       "      <td>19.000000</td>\n",
       "      <td>0.000000</td>\n",
       "      <td>0.000050</td>\n",
       "      <td>30.000000</td>\n",
       "      <td>9.000000</td>\n",
       "      <td>1.030000e+03</td>\n",
       "      <td>1.000000</td>\n",
       "      <td>1.050000e+03</td>\n",
       "      <td>NaN</td>\n",
       "      <td>NaN</td>\n",
       "    </tr>\n",
       "    <tr>\n",
       "      <th>75%</th>\n",
       "      <td>133.000000</td>\n",
       "      <td>1.250000e+04</td>\n",
       "      <td>70.000000</td>\n",
       "      <td>1.000000</td>\n",
       "      <td>0.000125</td>\n",
       "      <td>37.000000</td>\n",
       "      <td>31.000000</td>\n",
       "      <td>5.135000e+03</td>\n",
       "      <td>1.000000</td>\n",
       "      <td>5.180000e+03</td>\n",
       "      <td>NaN</td>\n",
       "      <td>NaN</td>\n",
       "    </tr>\n",
       "    <tr>\n",
       "      <th>max</th>\n",
       "      <td>1151.000000</td>\n",
       "      <td>1.000000e+08</td>\n",
       "      <td>105857.000000</td>\n",
       "      <td>1.000000</td>\n",
       "      <td>1.000000</td>\n",
       "      <td>91.000000</td>\n",
       "      <td>1903.000000</td>\n",
       "      <td>1.328523e+07</td>\n",
       "      <td>1.716408</td>\n",
       "      <td>1.328523e+07</td>\n",
       "      <td>NaN</td>\n",
       "      <td>NaN</td>\n",
       "    </tr>\n",
       "  </tbody>\n",
       "</table>\n",
       "</div>"
      ],
      "text/plain": [
       "       description_size          goal  backers_count  final_status  \\\n",
       "count      83079.000000  8.309600e+04   83096.000000  83096.000000   \n",
       "mean         128.266806  3.755120e+04     133.522275      0.351702   \n",
       "std           68.730961  1.032037e+06    1049.540416      0.477504   \n",
       "min            1.000000  1.000000e-02       0.000000      0.000000   \n",
       "25%          105.000000  1.600000e+03       2.000000      0.000000   \n",
       "50%          126.000000  5.000000e+03      19.000000      0.000000   \n",
       "75%          133.000000  1.250000e+04      70.000000      1.000000   \n",
       "max         1151.000000  1.000000e+08  105857.000000      1.000000   \n",
       "\n",
       "           std_goal  project_duration  creation_to_launch       pledged  \\\n",
       "count  83096.000000      83096.000000        83096.000000  8.309600e+04   \n",
       "mean       0.000376         33.889176           35.733441  1.046335e+04   \n",
       "std        0.010320         13.011661           84.305255  9.734290e+04   \n",
       "min        0.000000          1.000000            0.000000  0.000000e+00   \n",
       "25%        0.000016         30.000000            2.000000  5.000000e+01   \n",
       "50%        0.000050         30.000000            9.000000  1.030000e+03   \n",
       "75%        0.000125         37.000000           31.000000  5.135000e+03   \n",
       "max        1.000000         91.000000         1903.000000  1.328523e+07   \n",
       "\n",
       "       static_usd_rate   usd_pledged  is_backing  is_starred  \n",
       "count     83096.000000  8.309600e+04         0.0         0.0  \n",
       "mean          1.037177  1.058518e+04         NaN         NaN  \n",
       "std           0.181879  9.791797e+04         NaN         NaN  \n",
       "min           0.056937  0.000000e+00         NaN         NaN  \n",
       "25%           1.000000  5.000000e+01         NaN         NaN  \n",
       "50%           1.000000  1.050000e+03         NaN         NaN  \n",
       "75%           1.000000  5.180000e+03         NaN         NaN  \n",
       "max           1.716408  1.328523e+07         NaN         NaN  "
      ]
     },
     "execution_count": 6,
     "metadata": {},
     "output_type": "execute_result"
    }
   ],
   "source": [
    "train_innerjoin.describe()"
   ]
  },
  {
   "cell_type": "raw",
   "metadata": {},
   "source": []
  },
  {
   "cell_type": "markdown",
   "metadata": {},
   "source": [
    "# Class - final_status"
   ]
  },
  {
   "cell_type": "code",
   "execution_count": 7,
   "metadata": {
    "collapsed": false
   },
   "outputs": [
    {
     "name": "stdout",
     "output_type": "stream",
     "text": [
      "0    53871\n",
      "1    29225\n",
      "Name: final_status, dtype: int64\n"
     ]
    }
   ],
   "source": [
    "print(train_innerjoin['final_status'].value_counts())\n"
   ]
  },
  {
   "cell_type": "code",
   "execution_count": 8,
   "metadata": {
    "collapsed": false
   },
   "outputs": [
    {
     "data": {
      "text/plain": [
       "0    64.829835\n",
       "1    35.170165\n",
       "Name: final_status, dtype: float64"
      ]
     },
     "execution_count": 8,
     "metadata": {},
     "output_type": "execute_result"
    }
   ],
   "source": [
    "100 * train_innerjoin.final_status.value_counts()/len(train_innerjoin.final_status)"
   ]
  },
  {
   "cell_type": "code",
   "execution_count": 4,
   "metadata": {
    "collapsed": false,
    "scrolled": true
   },
   "outputs": [
    {
     "data": {
      "text/plain": [
       "<matplotlib.axes._subplots.AxesSubplot at 0x7ff0d6b466d0>"
      ]
     },
     "execution_count": 4,
     "metadata": {},
     "output_type": "execute_result"
    },
    {
     "data": {
      "image/png": "[encoded data removed]",
      "text/plain": [
       "<matplotlib.figure.Figure at 0x7ff0d6b29d50>"
      ]
     },
     "metadata": {},
     "output_type": "display_data"
    }
   ],
   "source": [
    "import seaborn as sns\n",
    "import matplotlib as plt\n",
    "%matplotlib inline\n",
    "\n",
    "sns.countplot(x='final_status',data=train_innerjoin)"
   ]
  },
  {
   "cell_type": "markdown",
   "metadata": {},
   "source": [
    "# backers_count"
   ]
  },
  {
   "cell_type": "code",
   "execution_count": 10,
   "metadata": {
    "collapsed": false
   },
   "outputs": [
    {
     "name": "stdout",
     "output_type": "stream",
     "text": [
      "105857\n",
      "0\n",
      "133.52227544\n",
      "328.186005133\n",
      "1049.54041605\n"
     ]
    }
   ],
   "source": [
    "print(train_innerjoin.backers_count.max())\n",
    "print(train_innerjoin.backers_count.min())\n",
    "print(train_innerjoin.backers_count.mean())\n",
    "# average backers for successful projects\n",
    "print(train_innerjoin.backers_count[train_innerjoin.final_status == 1].mean())\n",
    "print(train_innerjoin.backers_count.std())  # standard deviation "
   ]
  },
  {
   "cell_type": "code",
   "execution_count": 11,
   "metadata": {
    "collapsed": false
   },
   "outputs": [
    {
     "data": {
      "text/plain": [
       "<seaborn.axisgrid.FacetGrid at 0x7f8af1c55bd0>"
      ]
     },
     "execution_count": 11,
     "metadata": {},
     "output_type": "execute_result"
    },
    {
     "data": {
      "image/png": "[encoded data removed]",
      "text/plain": [
       "<matplotlib.figure.Figure at 0x7f8af7d80fd0>"
      ]
     },
     "metadata": {},
     "output_type": "display_data"
    }
   ],
   "source": [
    "sns.factorplot(x='final_status', y='backers_count', data=train_innerjoin, kind='bar')"
   ]
  },
  {
   "cell_type": "markdown",
   "metadata": {},
   "source": [
    "# goal"
   ]
  },
  {
   "cell_type": "code",
   "execution_count": 12,
   "metadata": {
    "collapsed": false
   },
   "outputs": [
    {
     "name": "stdout",
     "output_type": "stream",
     "text": [
      "100000000.0\n",
      "0.01\n",
      "37551.2006873\n",
      "1032037.02839\n"
     ]
    }
   ],
   "source": [
    "# print(train_data['goal'].idxmax())  # index of max\n",
    "print(train_innerjoin['goal'].max()) # max value for the column\n",
    "print(train_innerjoin['goal'].min())\n",
    "print(train_innerjoin['goal'].mean())  # average/mean of the column\n",
    "print(train_innerjoin.goal.std())  # standard deviation "
   ]
  },
  {
   "cell_type": "code",
   "execution_count": 13,
   "metadata": {
    "collapsed": false
   },
   "outputs": [
    {
     "data": {
      "text/plain": [
       "<seaborn.axisgrid.FacetGrid at 0x7f8af6e91190>"
      ]
     },
     "execution_count": 13,
     "metadata": {},
     "output_type": "execute_result"
    },
    {
     "data": {
      "image/png": "[encoded data removed]",
      "text/plain": [
       "<matplotlib.figure.Figure at 0x7f8af7d80550>"
      ]
     },
     "metadata": {},
     "output_type": "display_data"
    }
   ],
   "source": [
    "sns.factorplot(x='final_status', y='goal', data=train_innerjoin, kind='bar')"
   ]
  },
  {
   "cell_type": "markdown",
   "metadata": {},
   "source": [
    "# Country"
   ]
  },
  {
   "cell_type": "code",
   "execution_count": null,
   "metadata": {
    "collapsed": true
   },
   "outputs": [],
   "source": []
  },
  {
   "cell_type": "code",
   "execution_count": 14,
   "metadata": {
    "collapsed": false
   },
   "outputs": [
    {
     "data": {
      "text/plain": [
       "<matplotlib.axes._subplots.AxesSubplot at 0x7f8af6e3e1d0>"
      ]
     },
     "execution_count": 14,
     "metadata": {},
     "output_type": "execute_result"
    },
    {
     "data": {
      "image/png": "[encoded data removed]",
      "text/plain": [
       "<matplotlib.figure.Figure at 0x7f8af6f5b490>"
      ]
     },
     "metadata": {},
     "output_type": "display_data"
    }
   ],
   "source": [
    "sns.countplot(x='country',data=train_innerjoin, hue='final_status')"
   ]
  },
  {
   "cell_type": "code",
   "execution_count": null,
   "metadata": {
    "collapsed": false
   },
   "outputs": [],
   "source": []
  },
  {
   "cell_type": "markdown",
   "metadata": {},
   "source": [
    "# Preprocessing Plan:\n",
    "\n",
    "<b>Extract the project category </b>- have it as a separate attribute.\n",
    "\n",
    "<b>Calculate project_duration</b> - \n",
    "\n",
    "<b>calculate creation_to_launch </b> - \n",
    "\n",
    "Categorical to numerical - country, "
   ]
  },
  {
   "cell_type": "code",
   "execution_count": null,
   "metadata": {
    "collapsed": true
   },
   "outputs": [],
   "source": [
    "\n"
   ]
  },
  {
   "cell_type": "markdown",
   "metadata": {},
   "source": [
    "# Category extraction "
   ]
  },
  {
   "cell_type": "code",
   "execution_count": 21,
   "metadata": {
    "collapsed": false
   },
   "outputs": [
    {
     "name": "stdout",
     "output_type": "stream",
     "text": [
      "                                                   0\n",
      "0  {\"urls\":{\"web\":{\"discover\":\"http://www.kicksta...\n",
      "1  {\"urls\":{\"web\":{\"discover\":\"http://www.kicksta...\n"
     ]
    }
   ],
   "source": [
    "tmp_df = pd.DataFrame([x for x in train_innerjoin['category']])\n",
    "print(tmp_df[:2])"
   ]
  },
  {
   "cell_type": "code",
   "execution_count": 45,
   "metadata": {
    "collapsed": true
   },
   "outputs": [],
   "source": [
    "cat = {\"urls\":\n",
    "           {\"web\": {\"discover\":\"http://www.kickstarter.com/discover/categories/art/mixed%20media\"}},\n",
    "            \"color\":16760235,\n",
    "           \"parent_id\":1,\n",
    "       \"name\":\"Mixed Media\",\n",
    "       \"id\":54,\n",
    "       \"position\":6,\n",
    "       \"slug\":\"art/mixed media\"}"
   ]
  },
  {
   "cell_type": "code",
   "execution_count": 52,
   "metadata": {
    "collapsed": false
   },
   "outputs": [
    {
     "name": "stdout",
     "output_type": "stream",
     "text": [
      "<type 'dict'>\n",
      "Mixed Media\n",
      "art\n"
     ]
    }
   ],
   "source": [
    "print(type(cat))\n",
    "print(cat['name'])  # sub_category\n",
    "print(cat['slug'].split('/')[0])  # main_category"
   ]
  },
  {
   "cell_type": "code",
   "execution_count": 17,
   "metadata": {
    "collapsed": false
   },
   "outputs": [],
   "source": [
    "# sub_category = [d.get('name') for d in train_innerjoin.category]\n"
   ]
  },
  {
   "cell_type": "code",
   "execution_count": 22,
   "metadata": {
    "collapsed": false
   },
   "outputs": [
    {
     "name": "stdout",
     "output_type": "stream",
     "text": [
      "[{'name': 'Illustration', 'color': 16760235, 'slug': 'art/illustration', 'parent_id': 1, 'urls': {'web': {'discover': 'http://www.kickstarter.com/discover/categories/art/illustration'}}, 'position': 4, 'id': 22}, {'name': 'Illustration', 'color': 16760235, 'slug': 'art/illustration', 'parent_id': 1, 'urls': {'web': {'discover': 'http://www.kickstarter.com/discover/categories/art/illustration'}}, 'position': 4, 'id': 22}]\n"
     ]
    }
   ],
   "source": [
    "categories = [eval(d) for d in train_innerjoin.category]\n",
    "print(categories[:2])"
   ]
  },
  {
   "cell_type": "code",
   "execution_count": 24,
   "metadata": {
    "collapsed": false
   },
   "outputs": [
    {
     "name": "stdout",
     "output_type": "stream",
     "text": [
      "['Illustration', 'Illustration', 'Fiction']\n",
      "83096\n"
     ]
    }
   ],
   "source": [
    "sub_category = [c['name'] for c in categories]\n",
    "print(sub_category[:3])\n",
    "print(len(sub_category))"
   ]
  },
  {
   "cell_type": "code",
   "execution_count": null,
   "metadata": {
    "collapsed": false
   },
   "outputs": [],
   "source": []
  },
  {
   "cell_type": "code",
   "execution_count": 25,
   "metadata": {
    "collapsed": false
   },
   "outputs": [
    {
     "name": "stdout",
     "output_type": "stream",
     "text": [
      "['art', 'art', 'publishing']\n",
      "83096\n"
     ]
    }
   ],
   "source": [
    "main_category = [c['slug'].split('/')[0] for c in categories]\n",
    "print(main_category[:3])\n",
    "print(len(main_category))"
   ]
  },
  {
   "cell_type": "code",
   "execution_count": 26,
   "metadata": {
    "collapsed": false
   },
   "outputs": [],
   "source": [
    "# train_innerjoin['sub_category'] = sub_category\n",
    "train_innerjoin.insert(27, 'sub_category', sub_category)"
   ]
  },
  {
   "cell_type": "code",
   "execution_count": 28,
   "metadata": {
    "collapsed": false
   },
   "outputs": [
    {
     "data": {
      "text/html": [
       "<div>\n",
       "<table border=\"1\" class=\"dataframe\">\n",
       "  <thead>\n",
       "    <tr style=\"text-align: right;\">\n",
       "      <th></th>\n",
       "      <th>project_id</th>\n",
       "      <th>name</th>\n",
       "      <th>desc</th>\n",
       "      <th>description_size</th>\n",
       "      <th>goal</th>\n",
       "      <th>keywords</th>\n",
       "      <th>disable_communication</th>\n",
       "      <th>country</th>\n",
       "      <th>currency</th>\n",
       "      <th>deadline</th>\n",
       "      <th>...</th>\n",
       "      <th>is_starrable</th>\n",
       "      <th>static_usd_rate</th>\n",
       "      <th>usd_pledged</th>\n",
       "      <th>creator</th>\n",
       "      <th>category</th>\n",
       "      <th>sub_category</th>\n",
       "      <th>profile</th>\n",
       "      <th>spotlight</th>\n",
       "      <th>is_backing</th>\n",
       "      <th>is_starred</th>\n",
       "    </tr>\n",
       "  </thead>\n",
       "  <tbody>\n",
       "    <tr>\n",
       "      <th>0</th>\n",
       "      <td>kkst1451568084</td>\n",
       "      <td>drawing for dollars</td>\n",
       "      <td>I like drawing pictures. and then i color them...</td>\n",
       "      <td>134.0</td>\n",
       "      <td>20.0</td>\n",
       "      <td>drawing-for-dollars</td>\n",
       "      <td>False</td>\n",
       "      <td>US</td>\n",
       "      <td>USD</td>\n",
       "      <td>2009-05-03 06:59:59</td>\n",
       "      <td>...</td>\n",
       "      <td>False</td>\n",
       "      <td>1.0</td>\n",
       "      <td>35.0</td>\n",
       "      <td>{\"urls\":{\"web\":{\"user\":\"https://www.kickstarte...</td>\n",
       "      <td>{\"urls\":{\"web\":{\"discover\":\"http://www.kicksta...</td>\n",
       "      <td>Illustration</td>\n",
       "      <td>{\"background_image_opacity\":0.8,\"should_show_f...</td>\n",
       "      <td>True</td>\n",
       "      <td>NaN</td>\n",
       "      <td>NaN</td>\n",
       "    </tr>\n",
       "    <tr>\n",
       "      <th>1</th>\n",
       "      <td>kkst183622197</td>\n",
       "      <td>Mr. Squiggles</td>\n",
       "      <td>So I saw darkpony's successfully funded drawin...</td>\n",
       "      <td>385.0</td>\n",
       "      <td>30.0</td>\n",
       "      <td>mr-squiggles</td>\n",
       "      <td>False</td>\n",
       "      <td>US</td>\n",
       "      <td>USD</td>\n",
       "      <td>2009-05-22 21:26:00</td>\n",
       "      <td>...</td>\n",
       "      <td>False</td>\n",
       "      <td>1.0</td>\n",
       "      <td>0.0</td>\n",
       "      <td>{\"urls\":{\"web\":{\"user\":\"https://www.kickstarte...</td>\n",
       "      <td>{\"urls\":{\"web\":{\"discover\":\"http://www.kicksta...</td>\n",
       "      <td>Illustration</td>\n",
       "      <td>{\"background_image_opacity\":0.8,\"should_show_f...</td>\n",
       "      <td>False</td>\n",
       "      <td>NaN</td>\n",
       "      <td>NaN</td>\n",
       "    </tr>\n",
       "  </tbody>\n",
       "</table>\n",
       "<p>2 rows × 32 columns</p>\n",
       "</div>"
      ],
      "text/plain": [
       "       project_id                 name  \\\n",
       "0  kkst1451568084  drawing for dollars   \n",
       "1   kkst183622197        Mr. Squiggles   \n",
       "\n",
       "                                                desc  description_size  goal  \\\n",
       "0  I like drawing pictures. and then i color them...             134.0  20.0   \n",
       "1  So I saw darkpony's successfully funded drawin...             385.0  30.0   \n",
       "\n",
       "              keywords disable_communication country currency  \\\n",
       "0  drawing-for-dollars                 False      US      USD   \n",
       "1         mr-squiggles                 False      US      USD   \n",
       "\n",
       "              deadline     ...     is_starrable static_usd_rate usd_pledged  \\\n",
       "0  2009-05-03 06:59:59     ...            False             1.0        35.0   \n",
       "1  2009-05-22 21:26:00     ...            False             1.0         0.0   \n",
       "\n",
       "                                             creator  \\\n",
       "0  {\"urls\":{\"web\":{\"user\":\"https://www.kickstarte...   \n",
       "1  {\"urls\":{\"web\":{\"user\":\"https://www.kickstarte...   \n",
       "\n",
       "                                            category  sub_category  \\\n",
       "0  {\"urls\":{\"web\":{\"discover\":\"http://www.kicksta...  Illustration   \n",
       "1  {\"urls\":{\"web\":{\"discover\":\"http://www.kicksta...  Illustration   \n",
       "\n",
       "                                             profile  spotlight is_backing  \\\n",
       "0  {\"background_image_opacity\":0.8,\"should_show_f...       True        NaN   \n",
       "1  {\"background_image_opacity\":0.8,\"should_show_f...      False        NaN   \n",
       "\n",
       "   is_starred  \n",
       "0         NaN  \n",
       "1         NaN  \n",
       "\n",
       "[2 rows x 32 columns]"
      ]
     },
     "execution_count": 28,
     "metadata": {},
     "output_type": "execute_result"
    }
   ],
   "source": [
    "train_innerjoin.head(2)"
   ]
  },
  {
   "cell_type": "raw",
   "metadata": {},
   "source": []
  },
  {
   "cell_type": "code",
   "execution_count": 27,
   "metadata": {
    "collapsed": false
   },
   "outputs": [
    {
     "data": {
      "text/plain": [
       "143"
      ]
     },
     "execution_count": 27,
     "metadata": {},
     "output_type": "execute_result"
    }
   ],
   "source": [
    "len(train_innerjoin.sub_category.unique())"
   ]
  },
  {
   "cell_type": "code",
   "execution_count": 28,
   "metadata": {
    "collapsed": true
   },
   "outputs": [],
   "source": [
    "# train_innerjoin['main_category_tmp'] = main_category\n",
    "train_innerjoin.insert(27, 'main_category', main_category)"
   ]
  },
  {
   "cell_type": "code",
   "execution_count": 29,
   "metadata": {
    "collapsed": false
   },
   "outputs": [
    {
     "data": {
      "text/plain": [
       "15"
      ]
     },
     "execution_count": 29,
     "metadata": {},
     "output_type": "execute_result"
    }
   ],
   "source": [
    "len(train_innerjoin.main_category.unique())"
   ]
  },
  {
   "cell_type": "code",
   "execution_count": 37,
   "metadata": {
    "collapsed": false
   },
   "outputs": [
    {
     "data": {
      "text/plain": [
       "<matplotlib.axes._subplots.AxesSubplot at 0x7f8ae6ba8110>"
      ]
     },
     "execution_count": 37,
     "metadata": {},
     "output_type": "execute_result"
    },
    {
     "data": {
      "image/png": "[encoded data removed]",
      "text/plain": [
       "<matplotlib.figure.Figure at 0x7f8ae6f42610>"
      ]
     },
     "metadata": {},
     "output_type": "display_data"
    }
   ],
   "source": [
    "sns.countplot(x='main_category',data=train_innerjoin, hue='final_status')"
   ]
  },
  {
   "cell_type": "code",
   "execution_count": 53,
   "metadata": {
    "collapsed": false
   },
   "outputs": [
    {
     "data": {
      "image/png": "[encoded data removed]",
      "text/plain": [
       "<matplotlib.figure.Figure at 0x7f8ae71fd710>"
      ]
     },
     "metadata": {},
     "output_type": "display_data"
    }
   ],
   "source": [
    "# Size will change the height, while maintaining the aspect ratio (so it will also also get wider if only size is changed.)\n",
    "# Aspect will change the width while keeping the height constant.\n",
    "# sns.countplot(x='main_category',data=train_innerjoin, hue='final_status', size=1, aspect=1)\n",
    "\n",
    "sns.factorplot(x=\"main_category\", hue=\"final_status\",\n",
    "                  data=train_innerjoin, kind=\"count\",\n",
    "                   size=7, aspect=1.5);"
   ]
  },
  {
   "cell_type": "code",
   "execution_count": null,
   "metadata": {
    "collapsed": false
   },
   "outputs": [],
   "source": []
  },
  {
   "cell_type": "code",
   "execution_count": null,
   "metadata": {
    "collapsed": true
   },
   "outputs": [],
   "source": []
  },
  {
   "cell_type": "markdown",
   "metadata": {
    "collapsed": true
   },
   "source": [
    "# Spotlight"
   ]
  },
  {
   "cell_type": "code",
   "execution_count": 47,
   "metadata": {
    "collapsed": false
   },
   "outputs": [
    {
     "data": {
      "image/png": "[encoded data removed]",
      "text/plain": [
       "<matplotlib.figure.Figure at 0x7f8ae5699d10>"
      ]
     },
     "metadata": {},
     "output_type": "display_data"
    }
   ],
   "source": [
    "# sns.countplot(x='spotlight',data=train_innerjoin, hue='final_status')\n",
    "\n",
    "sns.factorplot(x=\"spotlight\", hue=\"final_status\",\n",
    "                  data=train_innerjoin, kind=\"count\",\n",
    "                   size=5, aspect=1);"
   ]
  },
  {
   "cell_type": "markdown",
   "metadata": {
    "collapsed": true
   },
   "source": [
    "# pledged amount"
   ]
  },
  {
   "cell_type": "code",
   "execution_count": 61,
   "metadata": {
    "collapsed": false
   },
   "outputs": [
    {
     "name": "stdout",
     "output_type": "stream",
     "text": [
      "13285226.36\n",
      "0.0\n",
      "10463.3548172\n",
      "24793.583806\n",
      "2689.21024596\n"
     ]
    }
   ],
   "source": [
    "print(train_innerjoin.pledged.max())\n",
    "print(train_innerjoin.pledged.min())\n",
    "print(train_innerjoin.pledged.mean())\n",
    "print(train_innerjoin.pledged[train_innerjoin.final_status == 1].mean())  # average backers for successful projects\n",
    "print(train_innerjoin.pledged[train_innerjoin.final_status == 0].mean())  # average backers for failed projects\n"
   ]
  },
  {
   "cell_type": "code",
   "execution_count": null,
   "metadata": {
    "collapsed": false
   },
   "outputs": [],
   "source": [
    "sns.countplot(x='pledged',data=train_innerjoin, hue='final_status')"
   ]
  },
  {
   "cell_type": "markdown",
   "metadata": {},
   "source": [
    "# Staff pick"
   ]
  },
  {
   "cell_type": "code",
   "execution_count": 50,
   "metadata": {
    "collapsed": false
   },
   "outputs": [
    {
     "name": "stdout",
     "output_type": "stream",
     "text": [
      "True\n",
      "False\n",
      "0.122340425532\n",
      "0.230487596236\n",
      "0.0636706205565\n"
     ]
    }
   ],
   "source": [
    "# print(train_innerjoin.staff_pick.max())\n",
    "# print(train_innerjoin.staff_pick.min())\n",
    "# print(train_innerjoin.staff_pick.mean())\n",
    "print(train_innerjoin.staff_pick[train_innerjoin.final_status == 1].mean())  # average backers for successful projects\n",
    "print(train_innerjoin.staff_pick[train_innerjoin.final_status == 0].mean())  # average backers for failed projects\n"
   ]
  },
  {
   "cell_type": "code",
   "execution_count": 49,
   "metadata": {
    "collapsed": false
   },
   "outputs": [
    {
     "data": {
      "image/png": "[encoded data removed]",
      "text/plain": [
       "<matplotlib.figure.Figure at 0x7f8af580ead0>"
      ]
     },
     "metadata": {},
     "output_type": "display_data"
    }
   ],
   "source": [
    "\n",
    "sns.factorplot(x=\"staff_pick\", hue=\"final_status\",\n",
    "                  data=train_innerjoin, kind=\"count\",\n",
    "                   size=6, aspect=2);"
   ]
  },
  {
   "cell_type": "markdown",
   "metadata": {},
   "source": [
    "# Categorical to Numerical:\n",
    "\n",
    "country, main_category, sub_category, spotlight, staff_pick, "
   ]
  },
  {
   "cell_type": "code",
   "execution_count": 4,
   "metadata": {
    "collapsed": false
   },
   "outputs": [
    {
     "name": "stdout",
     "output_type": "stream",
     "text": [
      "Index([], dtype='object')\n"
     ]
    }
   ],
   "source": [
    "# cat_columns = train_innerjoin.select_dtypes(['category']).columns\n",
    "# print(cat_columns)"
   ]
  },
  {
   "cell_type": "code",
   "execution_count": 36,
   "metadata": {
    "collapsed": false
   },
   "outputs": [],
   "source": [
    "# print(train_innerjoin.dtypes)\n"
   ]
  },
  {
   "cell_type": "markdown",
   "metadata": {},
   "source": [
    "# Boolean to Numerical:\n",
    "\n",
    "spotlight, staff_pick, is_starrable, disable_communication"
   ]
  },
  {
   "cell_type": "code",
   "execution_count": 30,
   "metadata": {
    "collapsed": false
   },
   "outputs": [
    {
     "name": "stdout",
     "output_type": "stream",
     "text": [
      "Index([u'disable_communication', u'staff_pick', u'is_starrable', u'spotlight'], dtype='object')\n"
     ]
    }
   ],
   "source": [
    "bool_columns = train_innerjoin.select_dtypes(['bool']).columns\n",
    "# int_columns = train_innerjoin.select_dtypes(['int']).columns\n",
    "\n",
    "print(bool_columns)\n",
    "# traintrain_innerjoin.spotlight.astype(int)"
   ]
  },
  {
   "cell_type": "code",
   "execution_count": 32,
   "metadata": {
    "collapsed": false
   },
   "outputs": [],
   "source": [
    "train_innerjoin[bool_columns] = train_innerjoin[bool_columns].apply(lambda x: x.astype(float))"
   ]
  },
  {
   "cell_type": "code",
   "execution_count": 47,
   "metadata": {
    "collapsed": false
   },
   "outputs": [
    {
     "name": "stdout",
     "output_type": "stream",
     "text": [
      "project_id                object\n",
      "name                      object\n",
      "desc                      object\n",
      "description_size         float64\n",
      "goal                     float64\n",
      "keywords                  object\n",
      "disable_communication    float64\n",
      "country                     int8\n",
      "currency                  object\n",
      "deadline                  object\n",
      "state_changed_at          object\n",
      "created_at                object\n",
      "launched_at               object\n",
      "backers_count              int64\n",
      "final_status               int64\n",
      "std_goal                 float64\n",
      "project_duration           int64\n",
      "creation_to_launch         int64\n",
      "photo                     object\n",
      "pledged                  float64\n",
      "state                     object\n",
      "staff_pick               float64\n",
      "is_starrable             float64\n",
      "static_usd_rate          float64\n",
      "usd_pledged              float64\n",
      "creator                   object\n",
      "category                  object\n",
      "main_category               int8\n",
      "sub_category               int16\n",
      "profile                   object\n",
      "spotlight                float64\n",
      "is_backing               float64\n",
      "is_starred               float64\n",
      "dtype: object\n"
     ]
    }
   ],
   "source": [
    "print(train_innerjoin.dtypes)\n"
   ]
  },
  {
   "cell_type": "markdown",
   "metadata": {},
   "source": [
    "# Object to numerical "
   ]
  },
  {
   "cell_type": "code",
   "execution_count": 41,
   "metadata": {
    "collapsed": false
   },
   "outputs": [
    {
     "data": {
      "text/html": [
       "<div>\n",
       "<table border=\"1\" class=\"dataframe\">\n",
       "  <thead>\n",
       "    <tr style=\"text-align: right;\">\n",
       "      <th></th>\n",
       "      <th>project_id</th>\n",
       "      <th>name</th>\n",
       "      <th>desc</th>\n",
       "      <th>description_size</th>\n",
       "      <th>goal</th>\n",
       "      <th>keywords</th>\n",
       "      <th>disable_communication</th>\n",
       "      <th>country</th>\n",
       "      <th>currency</th>\n",
       "      <th>deadline</th>\n",
       "      <th>...</th>\n",
       "      <th>static_usd_rate</th>\n",
       "      <th>usd_pledged</th>\n",
       "      <th>creator</th>\n",
       "      <th>category</th>\n",
       "      <th>main_category</th>\n",
       "      <th>sub_category</th>\n",
       "      <th>profile</th>\n",
       "      <th>spotlight</th>\n",
       "      <th>is_backing</th>\n",
       "      <th>is_starred</th>\n",
       "    </tr>\n",
       "  </thead>\n",
       "  <tbody>\n",
       "    <tr>\n",
       "      <th>0</th>\n",
       "      <td>kkst1451568084</td>\n",
       "      <td>drawing for dollars</td>\n",
       "      <td>I like drawing pictures. and then i color them...</td>\n",
       "      <td>134.0</td>\n",
       "      <td>20.0</td>\n",
       "      <td>drawing-for-dollars</td>\n",
       "      <td>0.0</td>\n",
       "      <td>US</td>\n",
       "      <td>USD</td>\n",
       "      <td>2009-05-03 06:59:59</td>\n",
       "      <td>...</td>\n",
       "      <td>1.0</td>\n",
       "      <td>35.0</td>\n",
       "      <td>{\"urls\":{\"web\":{\"user\":\"https://www.kickstarte...</td>\n",
       "      <td>{\"urls\":{\"web\":{\"discover\":\"http://www.kicksta...</td>\n",
       "      <td>art</td>\n",
       "      <td>Illustration</td>\n",
       "      <td>{\"background_image_opacity\":0.8,\"should_show_f...</td>\n",
       "      <td>1.0</td>\n",
       "      <td>NaN</td>\n",
       "      <td>NaN</td>\n",
       "    </tr>\n",
       "    <tr>\n",
       "      <th>1</th>\n",
       "      <td>kkst183622197</td>\n",
       "      <td>Mr. Squiggles</td>\n",
       "      <td>So I saw darkpony's successfully funded drawin...</td>\n",
       "      <td>385.0</td>\n",
       "      <td>30.0</td>\n",
       "      <td>mr-squiggles</td>\n",
       "      <td>0.0</td>\n",
       "      <td>US</td>\n",
       "      <td>USD</td>\n",
       "      <td>2009-05-22 21:26:00</td>\n",
       "      <td>...</td>\n",
       "      <td>1.0</td>\n",
       "      <td>0.0</td>\n",
       "      <td>{\"urls\":{\"web\":{\"user\":\"https://www.kickstarte...</td>\n",
       "      <td>{\"urls\":{\"web\":{\"discover\":\"http://www.kicksta...</td>\n",
       "      <td>art</td>\n",
       "      <td>Illustration</td>\n",
       "      <td>{\"background_image_opacity\":0.8,\"should_show_f...</td>\n",
       "      <td>0.0</td>\n",
       "      <td>NaN</td>\n",
       "      <td>NaN</td>\n",
       "    </tr>\n",
       "  </tbody>\n",
       "</table>\n",
       "<p>2 rows × 33 columns</p>\n",
       "</div>"
      ],
      "text/plain": [
       "       project_id                 name  \\\n",
       "0  kkst1451568084  drawing for dollars   \n",
       "1   kkst183622197        Mr. Squiggles   \n",
       "\n",
       "                                                desc  description_size  goal  \\\n",
       "0  I like drawing pictures. and then i color them...             134.0  20.0   \n",
       "1  So I saw darkpony's successfully funded drawin...             385.0  30.0   \n",
       "\n",
       "              keywords  disable_communication country currency  \\\n",
       "0  drawing-for-dollars                    0.0      US      USD   \n",
       "1         mr-squiggles                    0.0      US      USD   \n",
       "\n",
       "              deadline     ...     static_usd_rate usd_pledged  \\\n",
       "0  2009-05-03 06:59:59     ...                 1.0        35.0   \n",
       "1  2009-05-22 21:26:00     ...                 1.0         0.0   \n",
       "\n",
       "                                             creator  \\\n",
       "0  {\"urls\":{\"web\":{\"user\":\"https://www.kickstarte...   \n",
       "1  {\"urls\":{\"web\":{\"user\":\"https://www.kickstarte...   \n",
       "\n",
       "                                            category  main_category  \\\n",
       "0  {\"urls\":{\"web\":{\"discover\":\"http://www.kicksta...            art   \n",
       "1  {\"urls\":{\"web\":{\"discover\":\"http://www.kicksta...            art   \n",
       "\n",
       "   sub_category                                            profile  spotlight  \\\n",
       "0  Illustration  {\"background_image_opacity\":0.8,\"should_show_f...        1.0   \n",
       "1  Illustration  {\"background_image_opacity\":0.8,\"should_show_f...        0.0   \n",
       "\n",
       "  is_backing  is_starred  \n",
       "0        NaN         NaN  \n",
       "1        NaN         NaN  \n",
       "\n",
       "[2 rows x 33 columns]"
      ]
     },
     "execution_count": 41,
     "metadata": {},
     "output_type": "execute_result"
    }
   ],
   "source": [
    "# train_innerjoin[\"cat_tmp\"] = train_innerjoin[\"main_category\"].astype('category')\n",
    "# train_innerjoin.drop('cat_tmp', axis=1, inplace=True)\n",
    "# print(train_innerjoin.dtypes)\n",
    "train_innerjoin[\"main_category\"] = train_innerjoin[\"main_category\"].astype('category')\n",
    "train_innerjoin[\"sub_category\"] = train_innerjoin[\"sub_category\"].astype('category')\n",
    "train_innerjoin[\"country\"] = train_innerjoin[\"country\"].astype('category')\n",
    "\n",
    "\n",
    "train_innerjoin.head(2)"
   ]
  },
  {
   "cell_type": "code",
   "execution_count": 42,
   "metadata": {
    "collapsed": false
   },
   "outputs": [
    {
     "name": "stdout",
     "output_type": "stream",
     "text": [
      "Index([u'country', u'main_category', u'sub_category'], dtype='object')\n"
     ]
    }
   ],
   "source": [
    "# extract the categorical attributes\n",
    "cat_columns = train_innerjoin.select_dtypes(['category']).columns\n",
    "print(cat_columns)"
   ]
  },
  {
   "cell_type": "code",
   "execution_count": 43,
   "metadata": {
    "collapsed": true
   },
   "outputs": [],
   "source": [
    "# the conversion \n",
    "train_innerjoin[cat_columns] = train_innerjoin[cat_columns].apply(lambda x: x.cat.codes)"
   ]
  },
  {
   "cell_type": "code",
   "execution_count": 73,
   "metadata": {
    "collapsed": false,
    "scrolled": true
   },
   "outputs": [
    {
     "data": {
      "text/html": [
       "<div>\n",
       "<table border=\"1\" class=\"dataframe\">\n",
       "  <thead>\n",
       "    <tr style=\"text-align: right;\">\n",
       "      <th></th>\n",
       "      <th>project_id</th>\n",
       "      <th>name</th>\n",
       "      <th>desc</th>\n",
       "      <th>description_size</th>\n",
       "      <th>goal_norm</th>\n",
       "      <th>goal</th>\n",
       "      <th>keywords</th>\n",
       "      <th>disable_communication</th>\n",
       "      <th>country</th>\n",
       "      <th>currency</th>\n",
       "      <th>...</th>\n",
       "      <th>usd_pledged</th>\n",
       "      <th>creator</th>\n",
       "      <th>category</th>\n",
       "      <th>main_category</th>\n",
       "      <th>sub_category</th>\n",
       "      <th>profile</th>\n",
       "      <th>spotlight</th>\n",
       "      <th>is_backing</th>\n",
       "      <th>is_starred</th>\n",
       "      <th>backers_count_norm</th>\n",
       "    </tr>\n",
       "  </thead>\n",
       "  <tbody>\n",
       "    <tr>\n",
       "      <th>0</th>\n",
       "      <td>kkst1451568084</td>\n",
       "      <td>drawing for dollars</td>\n",
       "      <td>I like drawing pictures. and then i color them...</td>\n",
       "      <td>134.0</td>\n",
       "      <td>1.999000e-07</td>\n",
       "      <td>20.0</td>\n",
       "      <td>drawing-for-dollars</td>\n",
       "      <td>0.0</td>\n",
       "      <td>10</td>\n",
       "      <td>USD</td>\n",
       "      <td>...</td>\n",
       "      <td>35.0</td>\n",
       "      <td>{\"urls\":{\"web\":{\"user\":\"https://www.kickstarte...</td>\n",
       "      <td>{\"urls\":{\"web\":{\"discover\":\"http://www.kicksta...</td>\n",
       "      <td>0</td>\n",
       "      <td>61</td>\n",
       "      <td>{\"background_image_opacity\":0.8,\"should_show_f...</td>\n",
       "      <td>1.0</td>\n",
       "      <td>NaN</td>\n",
       "      <td>NaN</td>\n",
       "      <td>0.000028</td>\n",
       "    </tr>\n",
       "    <tr>\n",
       "      <th>1</th>\n",
       "      <td>kkst183622197</td>\n",
       "      <td>Mr. Squiggles</td>\n",
       "      <td>So I saw darkpony's successfully funded drawin...</td>\n",
       "      <td>385.0</td>\n",
       "      <td>2.999000e-07</td>\n",
       "      <td>30.0</td>\n",
       "      <td>mr-squiggles</td>\n",
       "      <td>0.0</td>\n",
       "      <td>10</td>\n",
       "      <td>USD</td>\n",
       "      <td>...</td>\n",
       "      <td>0.0</td>\n",
       "      <td>{\"urls\":{\"web\":{\"user\":\"https://www.kickstarte...</td>\n",
       "      <td>{\"urls\":{\"web\":{\"discover\":\"http://www.kicksta...</td>\n",
       "      <td>0</td>\n",
       "      <td>61</td>\n",
       "      <td>{\"background_image_opacity\":0.8,\"should_show_f...</td>\n",
       "      <td>0.0</td>\n",
       "      <td>NaN</td>\n",
       "      <td>NaN</td>\n",
       "      <td>0.000000</td>\n",
       "    </tr>\n",
       "  </tbody>\n",
       "</table>\n",
       "<p>2 rows × 35 columns</p>\n",
       "</div>"
      ],
      "text/plain": [
       "       project_id                 name  \\\n",
       "0  kkst1451568084  drawing for dollars   \n",
       "1   kkst183622197        Mr. Squiggles   \n",
       "\n",
       "                                                desc  description_size  \\\n",
       "0  I like drawing pictures. and then i color them...             134.0   \n",
       "1  So I saw darkpony's successfully funded drawin...             385.0   \n",
       "\n",
       "      goal_norm  goal             keywords  disable_communication  country  \\\n",
       "0  1.999000e-07  20.0  drawing-for-dollars                    0.0       10   \n",
       "1  2.999000e-07  30.0         mr-squiggles                    0.0       10   \n",
       "\n",
       "  currency        ...         usd_pledged  \\\n",
       "0      USD        ...                35.0   \n",
       "1      USD        ...                 0.0   \n",
       "\n",
       "                                             creator  \\\n",
       "0  {\"urls\":{\"web\":{\"user\":\"https://www.kickstarte...   \n",
       "1  {\"urls\":{\"web\":{\"user\":\"https://www.kickstarte...   \n",
       "\n",
       "                                            category main_category  \\\n",
       "0  {\"urls\":{\"web\":{\"discover\":\"http://www.kicksta...             0   \n",
       "1  {\"urls\":{\"web\":{\"discover\":\"http://www.kicksta...             0   \n",
       "\n",
       "   sub_category                                            profile  spotlight  \\\n",
       "0            61  {\"background_image_opacity\":0.8,\"should_show_f...        1.0   \n",
       "1            61  {\"background_image_opacity\":0.8,\"should_show_f...        0.0   \n",
       "\n",
       "   is_backing  is_starred backers_count_norm  \n",
       "0         NaN         NaN           0.000028  \n",
       "1         NaN         NaN           0.000000  \n",
       "\n",
       "[2 rows x 35 columns]"
      ]
     },
     "execution_count": 73,
     "metadata": {},
     "output_type": "execute_result"
    }
   ],
   "source": [
    "train_innerjoin.head(2)"
   ]
  },
  {
   "cell_type": "code",
   "execution_count": 45,
   "metadata": {
    "collapsed": false
   },
   "outputs": [
    {
     "data": {
      "text/plain": [
       "15"
      ]
     },
     "execution_count": 45,
     "metadata": {},
     "output_type": "execute_result"
    }
   ],
   "source": [
    "len(train_innerjoin.main_category.value_counts())"
   ]
  },
  {
   "cell_type": "markdown",
   "metadata": {},
   "source": [
    "# Saving new numeric data"
   ]
  },
  {
   "cell_type": "code",
   "execution_count": null,
   "metadata": {
    "collapsed": true
   },
   "outputs": [],
   "source": []
  },
  {
   "cell_type": "code",
   "execution_count": 76,
   "metadata": {
    "collapsed": false
   },
   "outputs": [],
   "source": [
    "train_innerjoin.to_csv('data/train_new_numeric.csv', index=False)  # index=False otherwise adds 'Unnamed' index"
   ]
  },
  {
   "cell_type": "markdown",
   "metadata": {},
   "source": [
    "# Normalizing 'goal'\n",
    "\n",
    "\n",
    "For many estimators, including the SVMs, having datasets with unit standard deviation for each feature is important to get good prediction.\n",
    "\n",
    "\n",
    "using z-score - as the min and max are way too apart - makes mean 0 and standard deviation 1."
   ]
  },
  {
   "cell_type": "code",
   "execution_count": 48,
   "metadata": {
    "collapsed": true
   },
   "outputs": [],
   "source": [
    "train_innerjoin['goal_norm'] = train_innerjoin.std_goal"
   ]
  },
  {
   "cell_type": "code",
   "execution_count": 54,
   "metadata": {
    "collapsed": false
   },
   "outputs": [],
   "source": [
    "from sklearn import preprocessing\n",
    "\n",
    "# x = df.values #returns a numpy array\n",
    "min_max_scaler = preprocessing.MinMaxScaler()\n",
    "# goal_scaled = min_max_scaler.fit_transform(train_data.goal)\n",
    "# train_data['std_goal'] = goal_scaled"
   ]
  },
  {
   "cell_type": "code",
   "execution_count": 52,
   "metadata": {
    "collapsed": true
   },
   "outputs": [],
   "source": [
    "# train_innerjoin.drop('goal_norm', axis=1, inplace=True)\n",
    "train_innerjoin.insert(4, 'goal_norm', train_innerjoin.std_goal)"
   ]
  },
  {
   "cell_type": "code",
   "execution_count": 61,
   "metadata": {
    "collapsed": false
   },
   "outputs": [
    {
     "name": "stderr",
     "output_type": "stream",
     "text": [
      "/home/nahmed/anaconda2/lib/python2.7/site-packages/sklearn/preprocessing/data.py:321: DeprecationWarning: Passing 1d arrays as data is deprecated in 0.17 and will raise ValueError in 0.19. Reshape your data either using X.reshape(-1, 1) if your data has a single feature or X.reshape(1, -1) if it contains a single sample.\n",
      "  warnings.warn(DEPRECATION_MSG_1D, DeprecationWarning)\n",
      "/home/nahmed/anaconda2/lib/python2.7/site-packages/sklearn/preprocessing/data.py:356: DeprecationWarning: Passing 1d arrays as data is deprecated in 0.17 and will raise ValueError in 0.19. Reshape your data either using X.reshape(-1, 1) if your data has a single feature or X.reshape(1, -1) if it contains a single sample.\n",
      "  warnings.warn(DEPRECATION_MSG_1D, DeprecationWarning)\n"
     ]
    }
   ],
   "source": [
    "backers_count_scaled = min_max_scaler.fit_transform(train_innerjoin.backers_count)\n",
    "# train_innerjoin.insert(4, 'backers_count_norm', backers_count_scaled)\n",
    "train_innerjoin['backers_count_norm'] = backers_count_scaled"
   ]
  },
  {
   "cell_type": "code",
   "execution_count": 59,
   "metadata": {
    "collapsed": false
   },
   "outputs": [
    {
     "data": {
      "text/plain": [
       "<pandas.core.indexing._LocIndexer at 0x7fd24b95b450>"
      ]
     },
     "execution_count": 59,
     "metadata": {},
     "output_type": "execute_result"
    }
   ],
   "source": []
  },
  {
   "cell_type": "markdown",
   "metadata": {},
   "source": [
    "# Fill empty cells - NaN\n"
   ]
  },
  {
   "cell_type": "code",
   "execution_count": 64,
   "metadata": {
    "collapsed": false
   },
   "outputs": [],
   "source": [
    "train_innerjoin.spotlight = train_innerjoin.spotlight.fillna(0)"
   ]
  },
  {
   "cell_type": "code",
   "execution_count": 66,
   "metadata": {
    "collapsed": true
   },
   "outputs": [],
   "source": [
    "train_innerjoin.spotlight = train_innerjoin.staff_pick.fillna(0)"
   ]
  },
  {
   "cell_type": "code",
   "execution_count": 68,
   "metadata": {
    "collapsed": true
   },
   "outputs": [],
   "source": [
    "train_innerjoin.description_size = train_innerjoin.description_size.fillna(0)"
   ]
  },
  {
   "cell_type": "code",
   "execution_count": 74,
   "metadata": {
    "collapsed": true
   },
   "outputs": [],
   "source": [
    "train_innerjoin.is_starred= train_innerjoin.is_starred.fillna(0)"
   ]
  },
  {
   "cell_type": "code",
   "execution_count": 75,
   "metadata": {
    "collapsed": false
   },
   "outputs": [],
   "source": [
    "train_innerjoin.is_backing= train_innerjoin.is_backing.fillna(0)"
   ]
  },
  {
   "cell_type": "markdown",
   "metadata": {},
   "source": [
    "# Data split"
   ]
  },
  {
   "cell_type": "code",
   "execution_count": 72,
   "metadata": {
    "collapsed": true
   },
   "outputs": [],
   "source": []
  },
  {
   "cell_type": "code",
   "execution_count": null,
   "metadata": {
    "collapsed": true
   },
   "outputs": [],
   "source": []
  },
  {
   "cell_type": "code",
   "execution_count": null,
   "metadata": {
    "collapsed": true
   },
   "outputs": [],
   "source": []
  }
 ],
 "metadata": {
  "kernelspec": {
   "display_name": "Python 2",
   "language": "python",
   "name": "python2"
  },
  "language_info": {
   "codemirror_mode": {
    "name": "ipython",
    "version": 2
   },
   "file_extension": ".py",
   "mimetype": "text/x-python",
   "name": "python",
   "nbconvert_exporter": "python",
   "pygments_lexer": "ipython2",
   "version": "2.7.13"
  }
 },
 "nbformat": 4,
 "nbformat_minor": 2
}
